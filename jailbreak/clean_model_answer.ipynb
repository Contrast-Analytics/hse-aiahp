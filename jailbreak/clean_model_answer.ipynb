{
  "nbformat": 4,
  "nbformat_minor": 0,
  "metadata": {
    "colab": {
      "provenance": []
    },
    "kernelspec": {
      "name": "python3",
      "display_name": "Python 3"
    },
    "language_info": {
      "name": "python"
    }
  },
  "cells": [
    {
      "cell_type": "code",
      "source": [
        "!pip install cleantext better_profanity\n",
        "!pip install spacy\n",
        "!python -m spacy download ru_core_news_sm\n",
        "!pip install poetry-version\n",
        "!pip install cached-property\n",
        "!pip install redis\n",
        "!pip install ordered_set\n",
        "!pip install ruamel.yaml\n",
        "!pip install ordered-set-stubs\n",
        "!pip install profanity-filter --no-deps"
      ],
      "metadata": {
        "id": "S2396d_FNLAu"
      },
      "execution_count": null,
      "outputs": []
    },
    {
      "cell_type": "code",
      "source": [
        "import re\n",
        "from cleantext import clean\n",
        "from better_profanity import profanity\n",
        "import requests\n",
        "import spacy\n",
        "from spacy.tokens import Token\n",
        "from profanity_filter import ProfanityFilter\n",
        "\n",
        "file_name = 'obscene_lexicon.txt'\n",
        "with open(file_name, 'r', encoding='utf-8') as file:\n",
        "    bad_words = file.read().split('\\n')\n",
        "\n",
        "nlp = spacy.load(\"ru_core_news_sm\")\n",
        "Token.set_extension(\"is_profane\", default=False, force=True)\n",
        "pf = ProfanityFilter(languages=['ru'], nlps={'ru': nlp})\n",
        "\n",
        "def clean_answer(text):\n",
        "    def remove_code_from_text(text):\n",
        "        code_pattern = re.compile(r'\\b(def|class|if|else|elif|for|while|try|except|finally|with|import|from|print|return|break|continue|pass|raise|assert|yield|async|await|lambda|global|nonlocal|del|exec|eval)\\b.*', re.DOTALL)\n",
        "        fenced_code_pattern = re.compile(r'```.*?```', re.DOTALL)\n",
        "        cleaned_text = code_pattern.sub('', text)\n",
        "        cleaned_text = fenced_code_pattern.sub('', cleaned_text)\n",
        "        return cleaned_text\n",
        "\n",
        "    def remove_obscene_lexicon(text):\n",
        "        cleaned_text = clean(text, extra_spaces=True, stemming=False, stopwords=True, lowercase=False, stp_lang='english' )\n",
        "        cleaned_text = profanity.censor(cleaned_text)\n",
        "        cleaned_text = pf.censor(cleaned_text)\n",
        "        for word in bad_words:\n",
        "            # cleaned_text = cleaned_text.replace(word, '***')\n",
        "            bad_words_re = re.compile(r'\\b(' + word + r')\\b', re.IGNORECASE)\n",
        "            cleaned_text = bad_words_re.sub(lambda match: '***', cleaned_text)\n",
        "        # print(bad_words_re)\n",
        "        # cleaned_text = bad_words_re.sub(lambda match: '*' * len(match.group()), cleaned_text)\n",
        "        return cleaned_text\n",
        "\n",
        "    text = remove_code_from_text(text)\n",
        "    text = remove_obscene_lexicon(text)\n",
        "    return text"
      ],
      "metadata": {
        "id": "DQODNHXsMcUK"
      },
      "execution_count": 33,
      "outputs": []
    },
    {
      "cell_type": "code",
      "source": [
        "text = \"\"\"\n",
        "Можно решить задачу так, проститутка, bitch, хуй:\n",
        "\n",
        "def remove_empty_lines(text):\n",
        "    return \"\\n\".join([line for line in text.splitlines() if line.strip()])\n",
        "\n",
        "def create_request(row):\n",
        "    # Удаляем пустые строки в описании задачи\n",
        "    description = remove_empty_lines(row['description'])\n",
        "    req = f\"Есть задача, описанная так: ${description}$.\"\n",
        "\n",
        "    # Удаляем пустые строки в решении студента\n",
        "    student_solution = remove_empty_lines(row['student_solution'])\n",
        "    if student_solution:\n",
        "        req += f\" У меня есть решение: ${student_solution}$.\"\n",
        "\n",
        "    if row[\"code_problem\"]:\n",
        "        # Удаляем пустые строки в сообщении об ошибке\n",
        "        problem_message = remove_empty_lines(row['problem_message'])\n",
        "        if problem_message:\n",
        "            req += f\" В коде есть ошибка: ${problem_message}$.\"\n",
        "    else:\n",
        "        if row[\"test_info\"]:\n",
        "            req += \" Оно не проходит тесты.\"\n",
        "            if len(row[\"test_info\"]) > 0:\n",
        "                test = row[\"test_info\"][0]\n",
        "                if len(test) >= 3 and test[0] and test[1] and test[2]:\n",
        "                    req += f\" При вводе {test[0]} ожидалось {test[1]}, но я получаю {test[2]}.\\n\"\n",
        "\n",
        "    req += \" Дай короткую подсказку в одном предложении, что нужно сделать, чтобы исправить задачу.\"\n",
        "\n",
        "    return req.replace('\\n', '')\n",
        "\"\"\"\n",
        "\n",
        "clean_answer(text)"
      ],
      "metadata": {
        "colab": {
          "base_uri": "https://localhost:8080/",
          "height": 35
        },
        "id": "NZPw-MW9MhVf",
        "outputId": "1bbc0880-7dc7-422e-e17b-f3210d31b332"
      },
      "execution_count": 34,
      "outputs": [
        {
          "output_type": "execute_result",
          "data": {
            "text/plain": [
              "'Можно решить задачу так, ***, ****, ***:'"
            ],
            "application/vnd.google.colaboratory.intrinsic+json": {
              "type": "string"
            }
          },
          "metadata": {},
          "execution_count": 34
        }
      ]
    }
  ]
}
