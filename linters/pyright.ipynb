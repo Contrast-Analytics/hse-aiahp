{
 "cells": [
  {
   "cell_type": "code",
   "execution_count": null,
   "metadata": {},
   "outputs": [],
   "source": [
    "import pandas as pd\n",
    "import subprocess\n",
    "import tempfile\n",
    "import os\n",
    "import json\n",
    "from pandarallel import pandarallel\n",
    "\n",
    "pandarallel.initialize(progress_bar=True)\n",
    "\n",
    "solutions_train = pd.read_excel(\"data/for_teams/train/solutions.xlsx\")\n",
    "solutions_test = pd.read_excel(\"data/for_teams/test/solutions.xlsx\")"
   ]
  },
  {
   "cell_type": "code",
   "execution_count": null,
   "metadata": {},
   "outputs": [],
   "source": [
    "def run_pyright_on_string(code_string: str):\n",
    "    try:\n",
    "        with tempfile.NamedTemporaryFile(delete=False, suffix=\".py\") as temp_file:\n",
    "            temp_file_path = temp_file.name\n",
    "            temp_file.write(code_string.encode(\"utf-8\"))\n",
    "\n",
    "        result = subprocess.run(\n",
    "            [\"basedpyright\", \"--outputjson\", \"--level\", \"error\", \"--project\", \".\", temp_file_path],\n",
    "            capture_output=True,\n",
    "            text=True,\n",
    "        )\n",
    "\n",
    "    except FileNotFoundError:\n",
    "        print(\"Pyright is not installed or not found in your PATH.\")\n",
    "    except Exception as e:\n",
    "        print(f\"An error occurred: {e}\")\n",
    "    finally:\n",
    "        if os.path.exists(temp_file_path):\n",
    "            os.remove(temp_file_path)\n",
    "            print(f\"Temporary file {temp_file_path} deleted.\")\n",
    "\n",
    "    return result.stdout\n",
    "\n",
    "\n",
    "def get_basedpyright_errors(code_string: str):\n",
    "    basedpyright_output = run_pyright_on_string(code_string)\n",
    "    lines = code_string.split(\"\\n\")\n",
    "    errors = json.loads(basedpyright_output)[\"generalDiagnostics\"]\n",
    "    count = len(errors)\n",
    "    if count == 0:\n",
    "        return {\"message\": None, \"line_number\": None, \"line\": None}\n",
    "    errors = errors[0]\n",
    "\n",
    "    return {\n",
    "        \"message\": errors[\"message\"],\n",
    "        \"line_number\": errors[\"range\"][\"start\"][\"line\"],\n",
    "        \"line\": lines[errors[\"range\"][\"start\"][\"line\"]],\n",
    "    }"
   ]
  },
  {
   "cell_type": "code",
   "execution_count": null,
   "metadata": {},
   "outputs": [],
   "source": [
    "solutions_train[[\"message\", \"line_number\", \"line\"]] = solutions_train[\"student_solution\"].parallel_apply(\n",
    "    lambda x: pd.Series(get_basedpyright_errors(x))\n",
    ")\n",
    "\n",
    "solutions_train.to_csv(\"train_solutions_with_pyright.csv\")"
   ]
  },
  {
   "cell_type": "code",
   "execution_count": null,
   "metadata": {},
   "outputs": [],
   "source": [
    "solutions_test[[\"message\", \"line_number\", \"line\"]] = solutions_test[\"student_solution\"].parallel_apply(\n",
    "    lambda x: pd.Series(get_basedpyright_errors(x))\n",
    ")\n",
    "\n",
    "solutions_test.to_csv(\"test_solutions_with_pyright.csv\")"
   ]
  }
 ],
 "metadata": {
  "language_info": {
   "name": "python"
  }
 },
 "nbformat": 4,
 "nbformat_minor": 2
}
