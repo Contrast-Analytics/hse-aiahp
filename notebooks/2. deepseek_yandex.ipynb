{
 "cells": [
  {
   "cell_type": "markdown",
   "metadata": {},
   "source": [
    "### open deepcode response"
   ]
  },
  {
   "cell_type": "code",
   "execution_count": 1,
   "metadata": {},
   "outputs": [],
   "source": [
    "# Основные библиотеки\n",
    "import pandas as pd\n",
    "import torch\n",
    "from transformers import BertModel, BertTokenizer\n",
    "from tqdm import tqdm  # Импорт tqdm для отображения прогресса\n",
    "import numpy as np\n",
    "import json\n",
    "import os\n",
    "import re\n",
    "import io\n",
    "import ast\n",
    "import time\n",
    "import tempfile\n",
    "import subprocess\n",
    "from collections import Counter\n",
    "from multiprocessing import Process, Queue\n",
    "from contextlib import redirect_stdout\n",
    "import nltk\n",
    "from nltk.corpus import stopwords\n",
    "from nltk.tokenize import word_tokenize\n",
    "from nltk.util import ngrams\n",
    "import matplotlib.pyplot as plt\n",
    "import requests\n",
    "from cleantext import clean\n",
    "from better_profanity import profanity\n",
    "\n",
    "\n",
    "path_to_test_data = \"../data/for_teams/test\""
   ]
  },
  {
   "cell_type": "code",
   "execution_count": 2,
   "metadata": {},
   "outputs": [],
   "source": [
    "gigachat_response = pd.read_csv('../data/deepseek/submit_deepseek.csv')"
   ]
  },
  {
   "cell_type": "code",
   "execution_count": 3,
   "metadata": {},
   "outputs": [],
   "source": [
    "df_solutions_test = pd.read_excel(f'{path_to_test_data}/solutions.xlsx')\n",
    "df_tests_test = pd.read_excel(f'{path_to_test_data}/tests.xlsx')\n",
    "df_tasks_test = pd.read_excel(f'{path_to_test_data}/tasks.xlsx')"
   ]
  },
  {
   "cell_type": "code",
   "execution_count": 4,
   "metadata": {},
   "outputs": [],
   "source": [
    "if 'problem_message' not in df_solutions_test.columns:\n",
    "    df_solutions_test['problem_message'] = ''\n",
    "if 'line_with_code' not in df_solutions_test.columns:\n",
    "    df_solutions_test['line_with_code'] = ''\n",
    "if 'error_type' not in df_solutions_test.columns:\n",
    "    df_solutions_test['error_type'] = ''"
   ]
  },
  {
   "cell_type": "code",
   "execution_count": 5,
   "metadata": {},
   "outputs": [],
   "source": [
    "for index, row in df_solutions_test.iterrows():\n",
    "    try:\n",
    "        ast.parse(row['student_solution'])\n",
    "    except SyntaxError as e:\n",
    "        df_solutions_test.at[index, 'problem_message'] = str(e)\n",
    "        df_solutions_test.at[index, 'error_type'] = type(e).__name__\n",
    "        \n",
    "        # Получаем строку кода, вызвавшую ошибку\n",
    "        lines = row['student_solution'].split('\\n')\n",
    "        if e.lineno is not None and 1 <= e.lineno <= len(lines):\n",
    "            df_solutions_test.at[index, 'line_with_code'] = lines[e.lineno - 1]\n",
    "        else:\n",
    "            df_solutions_test.at[index, 'line_with_code'] = ''"
   ]
  },
  {
   "cell_type": "code",
   "execution_count": 6,
   "metadata": {},
   "outputs": [],
   "source": [
    "def prepare_data(df_solutions, df_tests, df_tasks):\n",
    "    # 1 Проверяем, что код компилируется\n",
    "    if \"code_problem\" not in df_solutions.columns:\n",
    "        df_solutions[\"code_problem\"] = False\n",
    "\n",
    "    # Проходим по всему DataFrame и проверяем код в student_solution\n",
    "    for index, row in df_solutions.iterrows():\n",
    "        try:\n",
    "            ast.parse(row[\"student_solution\"])\n",
    "        except SyntaxError as e:\n",
    "            df_solutions.at[index, \"code_problem\"] = True\n",
    "\n",
    "    # 2 Удаляем комментарии\n",
    "    def remove_cyrillic_comments(text):\n",
    "        # Регулярное выражение для поиска комментариев с кириллицей\n",
    "        pattern = r\"#[^#\\n]*[\\u0400-\\u04FF]\"\n",
    "        # Замена найденных комментариев на пустую строку\n",
    "        return re.sub(pattern, \"\", text)\n",
    "\n",
    "    # Применение функции к столбцу student_solution\n",
    "    df_solutions[\"student_solution\"] = df_solutions[\"student_solution\"].apply(remove_cyrillic_comments)\n",
    "\n",
    "    # 3 Выполняем тесты\n",
    "    def replace_input_with_values(code, input_values):\n",
    "        # Разделяем код на строки\n",
    "        code_lines = code.split('\\n')\n",
    "\n",
    "        # Если input_values — строка, разделяем её на отдельные значения\n",
    "        if isinstance(input_values, str):\n",
    "            input_values_list = input_values.split('\\n')\n",
    "        else:\n",
    "            input_values_list = input_values\n",
    "\n",
    "        input_value_index = 0\n",
    "        inside_loop = False\n",
    "        new_code_lines = []\n",
    "\n",
    "        is_loop_input = False\n",
    "        for line in code_lines:\n",
    "            # Проверяем, начался ли цикл\n",
    "            if re.search(r'\\bwhile\\b|\\bfor\\b', line):\n",
    "                inside_loop = True\n",
    "\n",
    "            # Если находим вызов input()\n",
    "            if 'input()' in line and inside_loop:\n",
    "                is_loop_input = True\n",
    "\n",
    "            # Проверяем конец цикла\n",
    "            if inside_loop and re.search(r'\\bbreak\\b|\\bcontinue\\b|\\bpass\\b|\\breturn\\b', line):\n",
    "                inside_loop = False\n",
    "\n",
    "        inside_loop = False\n",
    "        # if is_loop_input:\n",
    "        #     new_code_lines.extend('')\n",
    "\n",
    "        input_before_loop_cnt = 0\n",
    "        for line in code_lines:\n",
    "            # print(line, '|', inside_loop)\n",
    "            # Проверяем, начался ли цикл\n",
    "            if re.search(r'\\bwhile\\b|\\bfor\\b', line):\n",
    "                inside_loop = True\n",
    "                if is_loop_input:\n",
    "                    new_code_lines.append(f'input_index = -1')\n",
    "                    new_code_lines.append(f'input_values = {input_values_list[input_before_loop_cnt:]}')\n",
    "\n",
    "            # Если находим вызов input()\n",
    "            if 'input()' in line:\n",
    "                if is_loop_input and inside_loop:\n",
    "                    new_code_lines.append(f'    input_index += 1')\n",
    "                    value = 'input_values[input_index]'\n",
    "                    is_loop_input = False\n",
    "                else:\n",
    "                    if is_loop_input and not inside_loop:\n",
    "                        input_before_loop_cnt += 1\n",
    "                    if input_value_index < len(input_values_list):\n",
    "                        value = f'\"{input_values_list[input_value_index]}\"'\n",
    "                        input_value_index += 1\n",
    "                    else:\n",
    "                        value = '\"\"'  # Если не хватает входных данных\n",
    "\n",
    "                # Заменяем input() на текущее значение\n",
    "                line = re.sub(r'input\\s*\\(\\s*\\)', f'{value}', line, count=1)\n",
    "\n",
    "            new_code_lines.append(line)\n",
    "\n",
    "            # Проверяем конец цикла\n",
    "            if inside_loop and re.search(r'\\bbreak\\b|\\bcontinue\\b|\\bpass\\b|\\breturn\\b', line):\n",
    "                inside_loop = False\n",
    "\n",
    "        return '\\n'.join(new_code_lines)\n",
    "\n",
    "    def execute_code_with_timeout(code, input_values, timeout=0.5):\n",
    "        def target(queue, code, input_values):\n",
    "            # Заменяем вызовы input() на передачу данных напрямую\n",
    "            code = replace_input_with_values(code, input_values)\n",
    "            # Перенаправляем стандартный вывод в буфер\n",
    "            buffer = io.StringIO()\n",
    "            with redirect_stdout(buffer):\n",
    "                try:\n",
    "                    exec(code)\n",
    "                except Exception as e:\n",
    "                    queue.put(f\"Error: {str(e)}\")\n",
    "                    return\n",
    "\n",
    "            # Получаем результат вывода\n",
    "            output = buffer.getvalue().strip()\n",
    "            queue.put(output)\n",
    "\n",
    "        q = Queue()\n",
    "        p = Process(target=target, args=(q, code, input_values))\n",
    "        p.start()\n",
    "        p.join(timeout)\n",
    "\n",
    "        if p.is_alive():\n",
    "            p.terminate()\n",
    "            p.join()\n",
    "            return \"Timeout\"\n",
    "        else:\n",
    "            return q.get()\n",
    "\n",
    "    def checkout_tests(solutions, tests):\n",
    "        # Добавляем колонки error_open и error_closed со значением False по умолчанию        \n",
    "        solutions['error_open_tests'] = False\n",
    "        solutions['error_closed_tests'] = False\n",
    "        solutions['test_info'] = [[] for _ in range(len(solutions))]  # Новая колонка для хранения информации о тестах\n",
    "\n",
    "        # Проходим по каждой строке в solutions с использованием tqdm для отображения прогресса\n",
    "        for index, row in tqdm(solutions.iterrows(), total=solutions.shape[0], desc=\"Processing solutions\"):\n",
    "            if not row['code_problem']:\n",
    "                task_id = row['task_id']\n",
    "                student_solution = row['student_solution']\n",
    "\n",
    "                # Фильтруем tests по task_id\n",
    "                relevant_tests = tests[tests['task_id'] == task_id]\n",
    "\n",
    "                # Проходим по каждому тесту с использованием tqdm для отображения прогресса\n",
    "                for test_index, test_row in relevant_tests.iterrows():\n",
    "\n",
    "                    test_id = test_row['id']\n",
    "                    test_input = test_row['input']\n",
    "                    expected_output = test_row['output']\n",
    "                    test_type = test_row['type']\n",
    "\n",
    "                    try:\n",
    "                        actual_output = execute_code_with_timeout(student_solution, test_input)\n",
    "                        # print(actual_output)\n",
    "                        # Сравниваем результат с ожидаемым выводом\n",
    "                        if \"Timeout\" not in actual_output and \"Error\" not in actual_output:\n",
    "                            if actual_output != expected_output:\n",
    "                                if test_type == 'open':\n",
    "                                    solutions.at[index, 'error_open_tests'] = True\n",
    "                                elif test_type == 'closed':\n",
    "                                    solutions.at[index, 'error_closed_tests'] = True\n",
    "\n",
    "                                # Добавляем информацию о тесте в колонку test_info\n",
    "                                test_info = [test_input, expected_output, actual_output]\n",
    "                                solutions.at[index, 'test_info'].append(test_info)\n",
    "                    except Exception as e:\n",
    "                        pass\n",
    "\n",
    "        return solutions\n",
    "\n",
    "    for task_id in df_tasks['id']:\n",
    "        df_solutions.loc[df_solutions['task_id'] == task_id, 'description'] = df_tasks.loc[df_tasks['id'] == task_id, 'description'].values[0]\n",
    "        df_solutions.loc[df_solutions['task_id'] == task_id, 'author_solution'] = df_tasks.loc[df_tasks['id'] == task_id, 'author_solution'].values[0]\n",
    "    df_solutions = checkout_tests(df_solutions, df_tests)\n",
    "    return df_solutions"
   ]
  },
  {
   "cell_type": "code",
   "execution_count": 7,
   "metadata": {},
   "outputs": [
    {
     "name": "stderr",
     "output_type": "stream",
     "text": [
      "Processing solutions: 100%|██████████| 325/325 [00:56<00:00,  5.73it/s]\n"
     ]
    },
    {
     "data": {
      "text/html": [
       "<div>\n",
       "<style scoped>\n",
       "    .dataframe tbody tr th:only-of-type {\n",
       "        vertical-align: middle;\n",
       "    }\n",
       "\n",
       "    .dataframe tbody tr th {\n",
       "        vertical-align: top;\n",
       "    }\n",
       "\n",
       "    .dataframe thead th {\n",
       "        text-align: right;\n",
       "    }\n",
       "</style>\n",
       "<table border=\"1\" class=\"dataframe\">\n",
       "  <thead>\n",
       "    <tr style=\"text-align: right;\">\n",
       "      <th></th>\n",
       "      <th>id</th>\n",
       "      <th>task_id</th>\n",
       "      <th>student_solution</th>\n",
       "      <th>author_comment</th>\n",
       "      <th>author_comment_embedding</th>\n",
       "      <th>problem_message</th>\n",
       "      <th>line_with_code</th>\n",
       "      <th>error_type</th>\n",
       "      <th>code_problem</th>\n",
       "      <th>description</th>\n",
       "      <th>author_solution</th>\n",
       "      <th>error_open_tests</th>\n",
       "      <th>error_closed_tests</th>\n",
       "      <th>test_info</th>\n",
       "    </tr>\n",
       "  </thead>\n",
       "  <tbody>\n",
       "    <tr>\n",
       "      <th>0</th>\n",
       "      <td>0</td>\n",
       "      <td>0</td>\n",
       "      <td>discount  = float(input())\\nmoney = int(input(...</td>\n",
       "      <td>Ваше предсказание</td>\n",
       "      <td>NaN</td>\n",
       "      <td></td>\n",
       "      <td></td>\n",
       "      <td></td>\n",
       "      <td>False</td>\n",
       "      <td>Реализуйте программу, которая напечатает стоим...</td>\n",
       "      <td>discount  = float(input())\\nmoney = int(input(...</td>\n",
       "      <td>False</td>\n",
       "      <td>False</td>\n",
       "      <td>[]</td>\n",
       "    </tr>\n",
       "    <tr>\n",
       "      <th>1</th>\n",
       "      <td>1</td>\n",
       "      <td>0</td>\n",
       "      <td>discount  = float(input())\\nmoney = int(input(...</td>\n",
       "      <td>Ваше предсказание</td>\n",
       "      <td>NaN</td>\n",
       "      <td>unterminated string literal (detected at line ...</td>\n",
       "      <td>print(f'Реализация проекта будет стоить {money...</td>\n",
       "      <td>SyntaxError</td>\n",
       "      <td>True</td>\n",
       "      <td>Реализуйте программу, которая напечатает стоим...</td>\n",
       "      <td>discount  = float(input())\\nmoney = int(input(...</td>\n",
       "      <td>False</td>\n",
       "      <td>False</td>\n",
       "      <td>[]</td>\n",
       "    </tr>\n",
       "    <tr>\n",
       "      <th>2</th>\n",
       "      <td>2</td>\n",
       "      <td>0</td>\n",
       "      <td>discount  = float(input())\\nmoney = int(input(...</td>\n",
       "      <td>Ваше предсказание</td>\n",
       "      <td>NaN</td>\n",
       "      <td>unterminated string literal (detected at line ...</td>\n",
       "      <td>print(fРеализация проекта будет стоить {money}...</td>\n",
       "      <td>SyntaxError</td>\n",
       "      <td>True</td>\n",
       "      <td>Реализуйте программу, которая напечатает стоим...</td>\n",
       "      <td>discount  = float(input())\\nmoney = int(input(...</td>\n",
       "      <td>False</td>\n",
       "      <td>False</td>\n",
       "      <td>[]</td>\n",
       "    </tr>\n",
       "    <tr>\n",
       "      <th>3</th>\n",
       "      <td>3</td>\n",
       "      <td>0</td>\n",
       "      <td>discount  = float(input())\\nmoney = int(input(...</td>\n",
       "      <td>Ваше предсказание</td>\n",
       "      <td>NaN</td>\n",
       "      <td></td>\n",
       "      <td></td>\n",
       "      <td></td>\n",
       "      <td>False</td>\n",
       "      <td>Реализуйте программу, которая напечатает стоим...</td>\n",
       "      <td>discount  = float(input())\\nmoney = int(input(...</td>\n",
       "      <td>False</td>\n",
       "      <td>False</td>\n",
       "      <td>[]</td>\n",
       "    </tr>\n",
       "    <tr>\n",
       "      <th>4</th>\n",
       "      <td>4</td>\n",
       "      <td>0</td>\n",
       "      <td>discount  = float(input())\\nmoney = int(input(...</td>\n",
       "      <td>Ваше предсказание</td>\n",
       "      <td>NaN</td>\n",
       "      <td></td>\n",
       "      <td></td>\n",
       "      <td></td>\n",
       "      <td>False</td>\n",
       "      <td>Реализуйте программу, которая напечатает стоим...</td>\n",
       "      <td>discount  = float(input())\\nmoney = int(input(...</td>\n",
       "      <td>False</td>\n",
       "      <td>False</td>\n",
       "      <td>[]</td>\n",
       "    </tr>\n",
       "    <tr>\n",
       "      <th>5</th>\n",
       "      <td>5</td>\n",
       "      <td>0</td>\n",
       "      <td>discount  = float(input())\\nmoney = int(input(...</td>\n",
       "      <td>Ваше предсказание</td>\n",
       "      <td>NaN</td>\n",
       "      <td>unterminated string literal (detected at line ...</td>\n",
       "      <td>print(f\"Реализация проекта будет стоить {money...</td>\n",
       "      <td>SyntaxError</td>\n",
       "      <td>True</td>\n",
       "      <td>Реализуйте программу, которая напечатает стоим...</td>\n",
       "      <td>discount  = float(input())\\nmoney = int(input(...</td>\n",
       "      <td>False</td>\n",
       "      <td>False</td>\n",
       "      <td>[]</td>\n",
       "    </tr>\n",
       "    <tr>\n",
       "      <th>6</th>\n",
       "      <td>6</td>\n",
       "      <td>0</td>\n",
       "      <td>discount  = float(input())\\nmoney = int(input(...</td>\n",
       "      <td>Ваше предсказание</td>\n",
       "      <td>NaN</td>\n",
       "      <td></td>\n",
       "      <td></td>\n",
       "      <td></td>\n",
       "      <td>False</td>\n",
       "      <td>Реализуйте программу, которая напечатает стоим...</td>\n",
       "      <td>discount  = float(input())\\nmoney = int(input(...</td>\n",
       "      <td>False</td>\n",
       "      <td>False</td>\n",
       "      <td>[]</td>\n",
       "    </tr>\n",
       "    <tr>\n",
       "      <th>7</th>\n",
       "      <td>7</td>\n",
       "      <td>0</td>\n",
       "      <td>discount  = float(input())\\nmoney = int(input(...</td>\n",
       "      <td>Ваше предсказание</td>\n",
       "      <td>NaN</td>\n",
       "      <td>unexpected indent (&lt;unknown&gt;, line 6)</td>\n",
       "      <td>print(f'Реализация проекта будет стоить {m...</td>\n",
       "      <td>IndentationError</td>\n",
       "      <td>True</td>\n",
       "      <td>Реализуйте программу, которая напечатает стоим...</td>\n",
       "      <td>discount  = float(input())\\nmoney = int(input(...</td>\n",
       "      <td>False</td>\n",
       "      <td>False</td>\n",
       "      <td>[]</td>\n",
       "    </tr>\n",
       "    <tr>\n",
       "      <th>8</th>\n",
       "      <td>8</td>\n",
       "      <td>0</td>\n",
       "      <td>discount  = float(input())\\nmoney = int(input(...</td>\n",
       "      <td>Ваше предсказание</td>\n",
       "      <td>NaN</td>\n",
       "      <td>'(' was never closed (&lt;unknown&gt;, line 6)</td>\n",
       "      <td>print(f'Реализация проекта будет стоить {money...</td>\n",
       "      <td>SyntaxError</td>\n",
       "      <td>True</td>\n",
       "      <td>Реализуйте программу, которая напечатает стоим...</td>\n",
       "      <td>discount  = float(input())\\nmoney = int(input(...</td>\n",
       "      <td>False</td>\n",
       "      <td>False</td>\n",
       "      <td>[]</td>\n",
       "    </tr>\n",
       "    <tr>\n",
       "      <th>9</th>\n",
       "      <td>9</td>\n",
       "      <td>0</td>\n",
       "      <td>discount  = float(input())\\nmoney = int(input(...</td>\n",
       "      <td>Ваше предсказание</td>\n",
       "      <td>NaN</td>\n",
       "      <td></td>\n",
       "      <td></td>\n",
       "      <td></td>\n",
       "      <td>False</td>\n",
       "      <td>Реализуйте программу, которая напечатает стоим...</td>\n",
       "      <td>discount  = float(input())\\nmoney = int(input(...</td>\n",
       "      <td>False</td>\n",
       "      <td>False</td>\n",
       "      <td>[]</td>\n",
       "    </tr>\n",
       "  </tbody>\n",
       "</table>\n",
       "</div>"
      ],
      "text/plain": [
       "   id  task_id                                   student_solution  \\\n",
       "0   0        0  discount  = float(input())\\nmoney = int(input(...   \n",
       "1   1        0  discount  = float(input())\\nmoney = int(input(...   \n",
       "2   2        0  discount  = float(input())\\nmoney = int(input(...   \n",
       "3   3        0  discount  = float(input())\\nmoney = int(input(...   \n",
       "4   4        0  discount  = float(input())\\nmoney = int(input(...   \n",
       "5   5        0  discount  = float(input())\\nmoney = int(input(...   \n",
       "6   6        0  discount  = float(input())\\nmoney = int(input(...   \n",
       "7   7        0  discount  = float(input())\\nmoney = int(input(...   \n",
       "8   8        0  discount  = float(input())\\nmoney = int(input(...   \n",
       "9   9        0  discount  = float(input())\\nmoney = int(input(...   \n",
       "\n",
       "      author_comment  author_comment_embedding  \\\n",
       "0  Ваше предсказание                       NaN   \n",
       "1  Ваше предсказание                       NaN   \n",
       "2  Ваше предсказание                       NaN   \n",
       "3  Ваше предсказание                       NaN   \n",
       "4  Ваше предсказание                       NaN   \n",
       "5  Ваше предсказание                       NaN   \n",
       "6  Ваше предсказание                       NaN   \n",
       "7  Ваше предсказание                       NaN   \n",
       "8  Ваше предсказание                       NaN   \n",
       "9  Ваше предсказание                       NaN   \n",
       "\n",
       "                                     problem_message  \\\n",
       "0                                                      \n",
       "1  unterminated string literal (detected at line ...   \n",
       "2  unterminated string literal (detected at line ...   \n",
       "3                                                      \n",
       "4                                                      \n",
       "5  unterminated string literal (detected at line ...   \n",
       "6                                                      \n",
       "7              unexpected indent (<unknown>, line 6)   \n",
       "8           '(' was never closed (<unknown>, line 6)   \n",
       "9                                                      \n",
       "\n",
       "                                      line_with_code        error_type  \\\n",
       "0                                                                        \n",
       "1  print(f'Реализация проекта будет стоить {money...       SyntaxError   \n",
       "2  print(fРеализация проекта будет стоить {money}...       SyntaxError   \n",
       "3                                                                        \n",
       "4                                                                        \n",
       "5  print(f\"Реализация проекта будет стоить {money...       SyntaxError   \n",
       "6                                                                        \n",
       "7      print(f'Реализация проекта будет стоить {m...  IndentationError   \n",
       "8  print(f'Реализация проекта будет стоить {money...       SyntaxError   \n",
       "9                                                                        \n",
       "\n",
       "   code_problem                                        description  \\\n",
       "0         False  Реализуйте программу, которая напечатает стоим...   \n",
       "1          True  Реализуйте программу, которая напечатает стоим...   \n",
       "2          True  Реализуйте программу, которая напечатает стоим...   \n",
       "3         False  Реализуйте программу, которая напечатает стоим...   \n",
       "4         False  Реализуйте программу, которая напечатает стоим...   \n",
       "5          True  Реализуйте программу, которая напечатает стоим...   \n",
       "6         False  Реализуйте программу, которая напечатает стоим...   \n",
       "7          True  Реализуйте программу, которая напечатает стоим...   \n",
       "8          True  Реализуйте программу, которая напечатает стоим...   \n",
       "9         False  Реализуйте программу, которая напечатает стоим...   \n",
       "\n",
       "                                     author_solution  error_open_tests  \\\n",
       "0  discount  = float(input())\\nmoney = int(input(...             False   \n",
       "1  discount  = float(input())\\nmoney = int(input(...             False   \n",
       "2  discount  = float(input())\\nmoney = int(input(...             False   \n",
       "3  discount  = float(input())\\nmoney = int(input(...             False   \n",
       "4  discount  = float(input())\\nmoney = int(input(...             False   \n",
       "5  discount  = float(input())\\nmoney = int(input(...             False   \n",
       "6  discount  = float(input())\\nmoney = int(input(...             False   \n",
       "7  discount  = float(input())\\nmoney = int(input(...             False   \n",
       "8  discount  = float(input())\\nmoney = int(input(...             False   \n",
       "9  discount  = float(input())\\nmoney = int(input(...             False   \n",
       "\n",
       "   error_closed_tests test_info  \n",
       "0               False        []  \n",
       "1               False        []  \n",
       "2               False        []  \n",
       "3               False        []  \n",
       "4               False        []  \n",
       "5               False        []  \n",
       "6               False        []  \n",
       "7               False        []  \n",
       "8               False        []  \n",
       "9               False        []  "
      ]
     },
     "execution_count": 7,
     "metadata": {},
     "output_type": "execute_result"
    }
   ],
   "source": [
    "df_solutions_test = prepare_data(df_solutions_test, df_tests_test, df_tasks_test)\n",
    "df_solutions_test.head(10)"
   ]
  },
  {
   "cell_type": "code",
   "execution_count": 8,
   "metadata": {},
   "outputs": [],
   "source": [
    "def create_test_requests(df_solutions_test, df_gigachat):\n",
    "    def remove_empty_lines(text):\n",
    "        return \"\\n\".join([line for line in text.splitlines() if line.strip()])\n",
    "\n",
    "    def create_request(row, df_gigachat_row):\n",
    "        # Удаляем пустые строки в описании задачи\n",
    "        description = remove_empty_lines(row['description'])\n",
    "        req = f\"Есть задача, описанная так: ${description}$.\"\n",
    "\n",
    "        # Удаляем пустые строки в решении студента\n",
    "        student_solution = remove_empty_lines(row['student_solution'])\n",
    "        if student_solution:\n",
    "            req += f\" У меня есть решение: ${student_solution}$.\"\n",
    "\n",
    "        if row[\"code_problem\"]:\n",
    "            # Удаляем пустые строки в сообщении об ошибке\n",
    "            problem_message = remove_empty_lines(row['problem_message'])\n",
    "            if problem_message:\n",
    "                req += f\" В коде есть ошибка: ${problem_message}$.\"\n",
    "        else:\n",
    "            if row[\"test_info\"]:\n",
    "                req += \" Оно не проходит тесты.\"\n",
    "                if len(row[\"test_info\"]) > 0:\n",
    "                    test = row[\"test_info\"][0]                \n",
    "                    if test[0] and test[1] and test[2]:\n",
    "                        req += f\" При вводе {test[0]} ожидалось {test[1]}, но я получаю {test[2]}.\\n\"\n",
    "\n",
    "        req += \"Используй этот ответ для формирования ответа: \" + df_gigachat_row\n",
    "\n",
    "        return req.replace('\\n', '')\n",
    "\n",
    "    # Создаем список словарей в нужном формате\n",
    "    dataset_for_GPT = []\n",
    "\n",
    "    system_message = {\n",
    "        \"role\": \"system\",\n",
    "        \"text\": (\n",
    "        \"Вы — профессиональный программист и наставник, задача которого — помогать другим улучшать свой код.\"\n",
    "        \"Ваша задача — давать краткие советы по исправлению ошибок, максимум в 3 предложения, не давая готового решения.\"\n",
    "        \"Дайте краткую подсказку для исправления ошибки, объясняя её в контексте задания. Предоставляйте только рекомендации, фокусируясь на логике.\"\n",
    "        \"Используйте в речи такие фразы, как: Ваш код, выполняет условия, попробуйте изменить, условия задания, некорректно выполняет, скорректировать ошибку, забыли поставить, задания например, условие if.\"\n",
    "        \"А также: ваш код некорректно, выполняет условия задания, код некорректно выполняет, ошибку ваш код, изменить условие if. \"\n",
    "        \"Общайтесь уважительно, на Вы.\"\n",
    "        ),\n",
    "    }\n",
    "\n",
    "    # Создаем список для датафрейма\n",
    "    df_list = []\n",
    "\n",
    "    # Добавляем новую колонку 'requests' в df_solutions_test\n",
    "    if 'system_message' not in df_solutions_test.columns:    \n",
    "        df_solutions_test['system_message'] = None\n",
    "    if 'request_text' not in df_solutions_test.columns:    \n",
    "        df_solutions_test['request_text'] = None\n",
    "\n",
    "    for index, row in df_solutions_test.iterrows():\n",
    "        request_text = create_request(row, df_gigachat.iloc[index]['author_comment'])\n",
    "        dataset_for_GPT.append(\n",
    "            {\"request\": [system_message, {\"role\": \"user\", \"text\": request_text}], \"response\": row[\"author_comment\"]}\n",
    "        )\n",
    "\n",
    "        # Добавляем данные в список для датафрейма\n",
    "        df_list.append({\"system_message\": system_message[\"text\"], \"request_text\": request_text})\n",
    "\n",
    "        # Заполняем новую колонку 'requests'\n",
    "        df_solutions_test.at[index, 'system_message'] = system_message[\"text\"]\n",
    "        df_solutions_test.at[index, 'request_text'] = request_text\n",
    "\n",
    "    # Создаем датафрейм из списка\n",
    "    df_system_request_test = pd.DataFrame(df_list)\n",
    "\n",
    "    # Сохраняем датафрейм в CSV файл\n",
    "    df_system_request_test.to_excel(\"system_request_pairs.xlsx\")\n",
    "\n",
    "    # Сохраняем список словарей в JSON файл\n",
    "    with open(\"dataset_for_GPT_testDEEPYA.json\", \"w\", encoding=\"utf-8\") as f:\n",
    "        for entry in dataset_for_GPT:\n",
    "            json.dump(entry, f, ensure_ascii=False)\n",
    "            f.write(\"\\n\")\n",
    "\n",
    "    # Возвращаем обновленный датафрейм\n",
    "    return df_solutions_test"
   ]
  },
  {
   "cell_type": "code",
   "execution_count": 9,
   "metadata": {},
   "outputs": [
    {
     "name": "stdout",
     "output_type": "stream",
     "text": [
      "Есть задача, описанная так: $Реализуйте программу, которая напечатает стоимость реализации проекта со скидкой: В переменную dicount считывается размер скидки на реализацию проекта (вещественное число). Этот код уже написан.В переменную money считывается стоимость реализации проекта в тысячах (целое число). Этот код уже написан.Программа должна вывести фразу вида 'Реализация проекта будет стоить <стоимость> тыс. руб. без скидки. Со скидой стоимость составит <стоимость с учетом скидки> тыс. руб.'. Важно! В коде обязательно нужно использовать f-строку!$. У меня есть решение: $discount  = float(input())money = int(input())print('Реализация проекта будет стоить {money} тыс. руб. без скидки. Со скидой стоимость составит {money- (money * discount)} тыс. руб.')$.Используй этот ответ для формирования ответа:  Вы некорректно выполняете условия задания, используя переменную `money` в двух местах в f-строке. Вместо этого нужно использовать переменную `discount` для вычисления стоимости с учетом скидки.\n"
     ]
    }
   ],
   "source": [
    "df_solutions_test = create_test_requests(df_solutions_test, gigachat_response)\n",
    "print(df_solutions_test.iloc[0]['request_text'])"
   ]
  },
  {
   "cell_type": "code",
   "execution_count": 10,
   "metadata": {},
   "outputs": [
    {
     "name": "stdout",
     "output_type": "stream",
     "text": [
      "Максимальное количество символов в request: 3810\n",
      "Максимальное количество символов в response: 17\n",
      "Количество раз, когда request превышает 3999 символов: 0\n"
     ]
    }
   ],
   "source": [
    "# Функция для подсчета символов в строке\n",
    "def count_characters(text):\n",
    "    return len(text)\n",
    "\n",
    "# Функция для подсчета символов в списке строк\n",
    "def count_characters_in_list(text_list):\n",
    "    return sum(count_characters(text) for text in text_list)\n",
    "\n",
    "# Открываем JSON файл и читаем его содержимое\n",
    "with open('dataset_for_GPT_testDEEPYA.json', 'r', encoding='utf-8') as f:\n",
    "    lines = f.readlines()\n",
    "\n",
    "max_request_characters = 0\n",
    "max_response_characters = 0\n",
    "request_exceeds_3999_count = 0\n",
    "\n",
    "# Проходим по каждой строке JSON файла\n",
    "for line in lines:\n",
    "    entry = json.loads(line)\n",
    "    \n",
    "    # Подсчитываем символы в request\n",
    "    request_characters = count_characters_in_list([msg['text'] for msg in entry['request']])\n",
    "    if request_characters > max_request_characters:\n",
    "        max_request_characters = request_characters\n",
    "    \n",
    "    # Проверяем, превышает ли request 3999 символов\n",
    "    if request_characters > 3999:\n",
    "        request_exceeds_3999_count += 1\n",
    "    \n",
    "    # Подсчитываем символы в response\n",
    "    response_characters = count_characters(entry['response'])\n",
    "    if response_characters > max_response_characters:\n",
    "        max_response_characters = response_characters\n",
    "\n",
    "print(f\"Максимальное количество символов в request: {max_request_characters}\")\n",
    "print(f\"Максимальное количество символов в response: {max_response_characters}\")\n",
    "print(f\"Количество раз, когда request превышает 3999 символов: {request_exceeds_3999_count}\")"
   ]
  },
  {
   "cell_type": "code",
   "execution_count": 11,
   "metadata": {},
   "outputs": [
    {
     "data": {
      "text/html": [
       "<div>\n",
       "<style scoped>\n",
       "    .dataframe tbody tr th:only-of-type {\n",
       "        vertical-align: middle;\n",
       "    }\n",
       "\n",
       "    .dataframe tbody tr th {\n",
       "        vertical-align: top;\n",
       "    }\n",
       "\n",
       "    .dataframe thead th {\n",
       "        text-align: right;\n",
       "    }\n",
       "</style>\n",
       "<table border=\"1\" class=\"dataframe\">\n",
       "  <thead>\n",
       "    <tr style=\"text-align: right;\">\n",
       "      <th></th>\n",
       "      <th>id</th>\n",
       "      <th>task_id</th>\n",
       "      <th>student_solution</th>\n",
       "      <th>author_comment</th>\n",
       "      <th>author_comment_embedding</th>\n",
       "      <th>problem_message</th>\n",
       "      <th>line_with_code</th>\n",
       "      <th>error_type</th>\n",
       "      <th>code_problem</th>\n",
       "      <th>description</th>\n",
       "      <th>author_solution</th>\n",
       "      <th>error_open_tests</th>\n",
       "      <th>error_closed_tests</th>\n",
       "      <th>test_info</th>\n",
       "      <th>system_message</th>\n",
       "      <th>request_text</th>\n",
       "    </tr>\n",
       "  </thead>\n",
       "  <tbody>\n",
       "    <tr>\n",
       "      <th>0</th>\n",
       "      <td>0</td>\n",
       "      <td>0</td>\n",
       "      <td>discount  = float(input())\\nmoney = int(input(...</td>\n",
       "      <td>Ваше предсказание</td>\n",
       "      <td>NaN</td>\n",
       "      <td></td>\n",
       "      <td></td>\n",
       "      <td></td>\n",
       "      <td>False</td>\n",
       "      <td>Реализуйте программу, которая напечатает стоим...</td>\n",
       "      <td>discount  = float(input())\\nmoney = int(input(...</td>\n",
       "      <td>False</td>\n",
       "      <td>False</td>\n",
       "      <td>[]</td>\n",
       "      <td>Вы — профессиональный программист и наставник,...</td>\n",
       "      <td>Есть задача, описанная так: $Реализуйте програ...</td>\n",
       "    </tr>\n",
       "    <tr>\n",
       "      <th>1</th>\n",
       "      <td>1</td>\n",
       "      <td>0</td>\n",
       "      <td>discount  = float(input())\\nmoney = int(input(...</td>\n",
       "      <td>Ваше предсказание</td>\n",
       "      <td>NaN</td>\n",
       "      <td>unterminated string literal (detected at line ...</td>\n",
       "      <td>print(f'Реализация проекта будет стоить {money...</td>\n",
       "      <td>SyntaxError</td>\n",
       "      <td>True</td>\n",
       "      <td>Реализуйте программу, которая напечатает стоим...</td>\n",
       "      <td>discount  = float(input())\\nmoney = int(input(...</td>\n",
       "      <td>False</td>\n",
       "      <td>False</td>\n",
       "      <td>[]</td>\n",
       "      <td>Вы — профессиональный программист и наставник,...</td>\n",
       "      <td>Есть задача, описанная так: $Реализуйте програ...</td>\n",
       "    </tr>\n",
       "    <tr>\n",
       "      <th>2</th>\n",
       "      <td>2</td>\n",
       "      <td>0</td>\n",
       "      <td>discount  = float(input())\\nmoney = int(input(...</td>\n",
       "      <td>Ваше предсказание</td>\n",
       "      <td>NaN</td>\n",
       "      <td>unterminated string literal (detected at line ...</td>\n",
       "      <td>print(fРеализация проекта будет стоить {money}...</td>\n",
       "      <td>SyntaxError</td>\n",
       "      <td>True</td>\n",
       "      <td>Реализуйте программу, которая напечатает стоим...</td>\n",
       "      <td>discount  = float(input())\\nmoney = int(input(...</td>\n",
       "      <td>False</td>\n",
       "      <td>False</td>\n",
       "      <td>[]</td>\n",
       "      <td>Вы — профессиональный программист и наставник,...</td>\n",
       "      <td>Есть задача, описанная так: $Реализуйте програ...</td>\n",
       "    </tr>\n",
       "    <tr>\n",
       "      <th>3</th>\n",
       "      <td>3</td>\n",
       "      <td>0</td>\n",
       "      <td>discount  = float(input())\\nmoney = int(input(...</td>\n",
       "      <td>Ваше предсказание</td>\n",
       "      <td>NaN</td>\n",
       "      <td></td>\n",
       "      <td></td>\n",
       "      <td></td>\n",
       "      <td>False</td>\n",
       "      <td>Реализуйте программу, которая напечатает стоим...</td>\n",
       "      <td>discount  = float(input())\\nmoney = int(input(...</td>\n",
       "      <td>False</td>\n",
       "      <td>False</td>\n",
       "      <td>[]</td>\n",
       "      <td>Вы — профессиональный программист и наставник,...</td>\n",
       "      <td>Есть задача, описанная так: $Реализуйте програ...</td>\n",
       "    </tr>\n",
       "    <tr>\n",
       "      <th>4</th>\n",
       "      <td>4</td>\n",
       "      <td>0</td>\n",
       "      <td>discount  = float(input())\\nmoney = int(input(...</td>\n",
       "      <td>Ваше предсказание</td>\n",
       "      <td>NaN</td>\n",
       "      <td></td>\n",
       "      <td></td>\n",
       "      <td></td>\n",
       "      <td>False</td>\n",
       "      <td>Реализуйте программу, которая напечатает стоим...</td>\n",
       "      <td>discount  = float(input())\\nmoney = int(input(...</td>\n",
       "      <td>False</td>\n",
       "      <td>False</td>\n",
       "      <td>[]</td>\n",
       "      <td>Вы — профессиональный программист и наставник,...</td>\n",
       "      <td>Есть задача, описанная так: $Реализуйте програ...</td>\n",
       "    </tr>\n",
       "    <tr>\n",
       "      <th>5</th>\n",
       "      <td>5</td>\n",
       "      <td>0</td>\n",
       "      <td>discount  = float(input())\\nmoney = int(input(...</td>\n",
       "      <td>Ваше предсказание</td>\n",
       "      <td>NaN</td>\n",
       "      <td>unterminated string literal (detected at line ...</td>\n",
       "      <td>print(f\"Реализация проекта будет стоить {money...</td>\n",
       "      <td>SyntaxError</td>\n",
       "      <td>True</td>\n",
       "      <td>Реализуйте программу, которая напечатает стоим...</td>\n",
       "      <td>discount  = float(input())\\nmoney = int(input(...</td>\n",
       "      <td>False</td>\n",
       "      <td>False</td>\n",
       "      <td>[]</td>\n",
       "      <td>Вы — профессиональный программист и наставник,...</td>\n",
       "      <td>Есть задача, описанная так: $Реализуйте програ...</td>\n",
       "    </tr>\n",
       "    <tr>\n",
       "      <th>6</th>\n",
       "      <td>6</td>\n",
       "      <td>0</td>\n",
       "      <td>discount  = float(input())\\nmoney = int(input(...</td>\n",
       "      <td>Ваше предсказание</td>\n",
       "      <td>NaN</td>\n",
       "      <td></td>\n",
       "      <td></td>\n",
       "      <td></td>\n",
       "      <td>False</td>\n",
       "      <td>Реализуйте программу, которая напечатает стоим...</td>\n",
       "      <td>discount  = float(input())\\nmoney = int(input(...</td>\n",
       "      <td>False</td>\n",
       "      <td>False</td>\n",
       "      <td>[]</td>\n",
       "      <td>Вы — профессиональный программист и наставник,...</td>\n",
       "      <td>Есть задача, описанная так: $Реализуйте програ...</td>\n",
       "    </tr>\n",
       "    <tr>\n",
       "      <th>7</th>\n",
       "      <td>7</td>\n",
       "      <td>0</td>\n",
       "      <td>discount  = float(input())\\nmoney = int(input(...</td>\n",
       "      <td>Ваше предсказание</td>\n",
       "      <td>NaN</td>\n",
       "      <td>unexpected indent (&lt;unknown&gt;, line 6)</td>\n",
       "      <td>print(f'Реализация проекта будет стоить {m...</td>\n",
       "      <td>IndentationError</td>\n",
       "      <td>True</td>\n",
       "      <td>Реализуйте программу, которая напечатает стоим...</td>\n",
       "      <td>discount  = float(input())\\nmoney = int(input(...</td>\n",
       "      <td>False</td>\n",
       "      <td>False</td>\n",
       "      <td>[]</td>\n",
       "      <td>Вы — профессиональный программист и наставник,...</td>\n",
       "      <td>Есть задача, описанная так: $Реализуйте програ...</td>\n",
       "    </tr>\n",
       "    <tr>\n",
       "      <th>8</th>\n",
       "      <td>8</td>\n",
       "      <td>0</td>\n",
       "      <td>discount  = float(input())\\nmoney = int(input(...</td>\n",
       "      <td>Ваше предсказание</td>\n",
       "      <td>NaN</td>\n",
       "      <td>'(' was never closed (&lt;unknown&gt;, line 6)</td>\n",
       "      <td>print(f'Реализация проекта будет стоить {money...</td>\n",
       "      <td>SyntaxError</td>\n",
       "      <td>True</td>\n",
       "      <td>Реализуйте программу, которая напечатает стоим...</td>\n",
       "      <td>discount  = float(input())\\nmoney = int(input(...</td>\n",
       "      <td>False</td>\n",
       "      <td>False</td>\n",
       "      <td>[]</td>\n",
       "      <td>Вы — профессиональный программист и наставник,...</td>\n",
       "      <td>Есть задача, описанная так: $Реализуйте програ...</td>\n",
       "    </tr>\n",
       "    <tr>\n",
       "      <th>9</th>\n",
       "      <td>9</td>\n",
       "      <td>0</td>\n",
       "      <td>discount  = float(input())\\nmoney = int(input(...</td>\n",
       "      <td>Ваше предсказание</td>\n",
       "      <td>NaN</td>\n",
       "      <td></td>\n",
       "      <td></td>\n",
       "      <td></td>\n",
       "      <td>False</td>\n",
       "      <td>Реализуйте программу, которая напечатает стоим...</td>\n",
       "      <td>discount  = float(input())\\nmoney = int(input(...</td>\n",
       "      <td>False</td>\n",
       "      <td>False</td>\n",
       "      <td>[]</td>\n",
       "      <td>Вы — профессиональный программист и наставник,...</td>\n",
       "      <td>Есть задача, описанная так: $Реализуйте програ...</td>\n",
       "    </tr>\n",
       "  </tbody>\n",
       "</table>\n",
       "</div>"
      ],
      "text/plain": [
       "   id  task_id                                   student_solution  \\\n",
       "0   0        0  discount  = float(input())\\nmoney = int(input(...   \n",
       "1   1        0  discount  = float(input())\\nmoney = int(input(...   \n",
       "2   2        0  discount  = float(input())\\nmoney = int(input(...   \n",
       "3   3        0  discount  = float(input())\\nmoney = int(input(...   \n",
       "4   4        0  discount  = float(input())\\nmoney = int(input(...   \n",
       "5   5        0  discount  = float(input())\\nmoney = int(input(...   \n",
       "6   6        0  discount  = float(input())\\nmoney = int(input(...   \n",
       "7   7        0  discount  = float(input())\\nmoney = int(input(...   \n",
       "8   8        0  discount  = float(input())\\nmoney = int(input(...   \n",
       "9   9        0  discount  = float(input())\\nmoney = int(input(...   \n",
       "\n",
       "      author_comment  author_comment_embedding  \\\n",
       "0  Ваше предсказание                       NaN   \n",
       "1  Ваше предсказание                       NaN   \n",
       "2  Ваше предсказание                       NaN   \n",
       "3  Ваше предсказание                       NaN   \n",
       "4  Ваше предсказание                       NaN   \n",
       "5  Ваше предсказание                       NaN   \n",
       "6  Ваше предсказание                       NaN   \n",
       "7  Ваше предсказание                       NaN   \n",
       "8  Ваше предсказание                       NaN   \n",
       "9  Ваше предсказание                       NaN   \n",
       "\n",
       "                                     problem_message  \\\n",
       "0                                                      \n",
       "1  unterminated string literal (detected at line ...   \n",
       "2  unterminated string literal (detected at line ...   \n",
       "3                                                      \n",
       "4                                                      \n",
       "5  unterminated string literal (detected at line ...   \n",
       "6                                                      \n",
       "7              unexpected indent (<unknown>, line 6)   \n",
       "8           '(' was never closed (<unknown>, line 6)   \n",
       "9                                                      \n",
       "\n",
       "                                      line_with_code        error_type  \\\n",
       "0                                                                        \n",
       "1  print(f'Реализация проекта будет стоить {money...       SyntaxError   \n",
       "2  print(fРеализация проекта будет стоить {money}...       SyntaxError   \n",
       "3                                                                        \n",
       "4                                                                        \n",
       "5  print(f\"Реализация проекта будет стоить {money...       SyntaxError   \n",
       "6                                                                        \n",
       "7      print(f'Реализация проекта будет стоить {m...  IndentationError   \n",
       "8  print(f'Реализация проекта будет стоить {money...       SyntaxError   \n",
       "9                                                                        \n",
       "\n",
       "   code_problem                                        description  \\\n",
       "0         False  Реализуйте программу, которая напечатает стоим...   \n",
       "1          True  Реализуйте программу, которая напечатает стоим...   \n",
       "2          True  Реализуйте программу, которая напечатает стоим...   \n",
       "3         False  Реализуйте программу, которая напечатает стоим...   \n",
       "4         False  Реализуйте программу, которая напечатает стоим...   \n",
       "5          True  Реализуйте программу, которая напечатает стоим...   \n",
       "6         False  Реализуйте программу, которая напечатает стоим...   \n",
       "7          True  Реализуйте программу, которая напечатает стоим...   \n",
       "8          True  Реализуйте программу, которая напечатает стоим...   \n",
       "9         False  Реализуйте программу, которая напечатает стоим...   \n",
       "\n",
       "                                     author_solution  error_open_tests  \\\n",
       "0  discount  = float(input())\\nmoney = int(input(...             False   \n",
       "1  discount  = float(input())\\nmoney = int(input(...             False   \n",
       "2  discount  = float(input())\\nmoney = int(input(...             False   \n",
       "3  discount  = float(input())\\nmoney = int(input(...             False   \n",
       "4  discount  = float(input())\\nmoney = int(input(...             False   \n",
       "5  discount  = float(input())\\nmoney = int(input(...             False   \n",
       "6  discount  = float(input())\\nmoney = int(input(...             False   \n",
       "7  discount  = float(input())\\nmoney = int(input(...             False   \n",
       "8  discount  = float(input())\\nmoney = int(input(...             False   \n",
       "9  discount  = float(input())\\nmoney = int(input(...             False   \n",
       "\n",
       "   error_closed_tests test_info  \\\n",
       "0               False        []   \n",
       "1               False        []   \n",
       "2               False        []   \n",
       "3               False        []   \n",
       "4               False        []   \n",
       "5               False        []   \n",
       "6               False        []   \n",
       "7               False        []   \n",
       "8               False        []   \n",
       "9               False        []   \n",
       "\n",
       "                                      system_message  \\\n",
       "0  Вы — профессиональный программист и наставник,...   \n",
       "1  Вы — профессиональный программист и наставник,...   \n",
       "2  Вы — профессиональный программист и наставник,...   \n",
       "3  Вы — профессиональный программист и наставник,...   \n",
       "4  Вы — профессиональный программист и наставник,...   \n",
       "5  Вы — профессиональный программист и наставник,...   \n",
       "6  Вы — профессиональный программист и наставник,...   \n",
       "7  Вы — профессиональный программист и наставник,...   \n",
       "8  Вы — профессиональный программист и наставник,...   \n",
       "9  Вы — профессиональный программист и наставник,...   \n",
       "\n",
       "                                        request_text  \n",
       "0  Есть задача, описанная так: $Реализуйте програ...  \n",
       "1  Есть задача, описанная так: $Реализуйте програ...  \n",
       "2  Есть задача, описанная так: $Реализуйте програ...  \n",
       "3  Есть задача, описанная так: $Реализуйте програ...  \n",
       "4  Есть задача, описанная так: $Реализуйте програ...  \n",
       "5  Есть задача, описанная так: $Реализуйте програ...  \n",
       "6  Есть задача, описанная так: $Реализуйте програ...  \n",
       "7  Есть задача, описанная так: $Реализуйте програ...  \n",
       "8  Есть задача, описанная так: $Реализуйте програ...  \n",
       "9  Есть задача, описанная так: $Реализуйте програ...  "
      ]
     },
     "execution_count": 11,
     "metadata": {},
     "output_type": "execute_result"
    }
   ],
   "source": [
    "df_solutions_test.head(10)"
   ]
  },
  {
   "cell_type": "code",
   "execution_count": 12,
   "metadata": {},
   "outputs": [
    {
     "name": "stdout",
     "output_type": "stream",
     "text": [
      "Loading models...OK\n"
     ]
    }
   ],
   "source": [
    "# Загрузка моделей\n",
    "print(\"Loading models...\", end=\"\")\n",
    "model_name = \"DeepPavlov/rubert-base-cased-sentence\"\n",
    "tokenizer = BertTokenizer.from_pretrained(model_name)\n",
    "model = BertModel.from_pretrained(model_name)\n",
    "print(\"OK\")\n",
    "\n",
    "# Функция для получения эмбединга предложения\n",
    "def get_sentence_embedding(sentence: str) -> torch.Tensor:\n",
    "    inputs = tokenizer(sentence, return_tensors=\"pt\", truncation=True, padding=True, max_length=128)\n",
    "    with torch.no_grad():\n",
    "        outputs = model(**inputs)\n",
    "        embedding = outputs.last_hidden_state[:, 0, :].squeeze()\n",
    "    return embedding\n",
    "\n",
    "# Функция для преобразования строки в эмбединг\n",
    "def string2embedding(string: str) -> torch.Tensor:\n",
    "    return torch.Tensor([float(i) for i in string.split()])\n",
    "\n",
    "# Функция для преобразования эмбединга в строку\n",
    "def embedding2string(embedding: torch.Tensor) -> str:\n",
    "    return \" \".join([str(i) for i in embedding.tolist()])\n",
    "\n",
    "# Функция для вычисления косинусного расстояния между двумя векторами\n",
    "\n",
    "def cosine_distance(a, b):\n",
    "    # Проверка и преобразование строк в numpy.array\n",
    "    if isinstance(a, str):\n",
    "        a = np.array(a.split(), dtype=float)       \n",
    "    if isinstance(b, str):\n",
    "        b = np.array(b.split(), dtype=float)\n",
    "    \n",
    "    # Проверка, что a и b являются numpy.array\n",
    "    if not isinstance(a, np.ndarray) or not isinstance(b, np.ndarray):\n",
    "        raise ValueError(\"Аргументы должны быть numpy.array или строками, которые можно преобразовать в numpy.array\")\n",
    "    \n",
    "    dot_product = np.dot(a, b)\n",
    "    norm_a = np.linalg.norm(a)\n",
    "    norm_b = np.linalg.norm(b)\n",
    "    return 1 - (dot_product / (norm_a * norm_b))\n",
    "\n",
    "# Функция для вычисления среднего косинусного расстояния\n",
    "def mean_cosine_distance(embeddings):\n",
    "    n = len(embeddings)\n",
    "    distances = []\n",
    "    \n",
    "    for i in range(n):\n",
    "        for j in range(i + 1, n):\n",
    "            dist = cosine_distance(embeddings[i], embeddings[j])\n",
    "            distances.append(dist)\n",
    "    \n",
    "    return np.mean(distances)"
   ]
  },
  {
   "cell_type": "code",
   "execution_count": 13,
   "metadata": {},
   "outputs": [],
   "source": [
    "file_name = '../jailbreak/obscene_lexicon.txt'\n",
    "with open(file_name, 'r', encoding='utf-8') as file:\n",
    "    bad_words = file.read().split('\\n')\n",
    "\n",
    "def clean_answer(text):\n",
    "    def remove_code_from_text(text):\n",
    "        code_pattern = re.compile(r'\\b(def|class|if|else|elif|for|while|try|except|finally|with|import|from|print|return|break|continue|pass|raise|assert|yield|async|await|lambda|global|nonlocal|del|exec|eval)\\b.*', re.DOTALL)\n",
    "        fenced_code_pattern = re.compile(r'```.*?```', re.DOTALL)\n",
    "        cleaned_text = code_pattern.sub('', text)\n",
    "        cleaned_text = fenced_code_pattern.sub('', cleaned_text)\n",
    "        return cleaned_text\n",
    "\n",
    "    def remove_obscene_lexicon(text):\n",
    "        cleaned_text = clean(text, extra_spaces=True, stemming=False, stopwords=True, lowercase=False, stp_lang='english' )\n",
    "        cleaned_text = profanity.censor(cleaned_text)\n",
    "        for word in bad_words:\n",
    "            bad_words_re = re.compile(r'\\b(' + word + r')\\b', re.IGNORECASE)\n",
    "            cleaned_text = bad_words_re.sub(lambda match: '***', cleaned_text)\n",
    "        return cleaned_text\n",
    "\n",
    "    text = remove_code_from_text(text)\n",
    "    text = remove_obscene_lexicon(text)\n",
    "    return text"
   ]
  },
  {
   "cell_type": "code",
   "execution_count": 14,
   "metadata": {},
   "outputs": [],
   "source": [
    "if 'response' not in df_solutions_test.columns:\n",
    "    df_solutions_test['response'] = None\n",
    "if 'resp_lenght' not in df_solutions_test.columns:\n",
    "    df_solutions_test['resp_lenght'] = None\n",
    "if 'sentence_cnt' not in df_solutions_test.columns:\n",
    "    df_solutions_test['sentence_cnt'] = None\n",
    "if 'author_comment_embedding' not in df_solutions_test.columns:\n",
    "    df_solutions_test['author_comment_embedding'] = False "
   ]
  },
  {
   "cell_type": "code",
   "execution_count": 15,
   "metadata": {},
   "outputs": [],
   "source": [
    "def get_predictions(predictions_needed_cnt):\n",
    "    # URL для запроса к API Yandex Cloud\n",
    "    url = \"https://llm.api.cloud.yandex.net/foundationModels/v1/completion\"\n",
    "\n",
    "    # Заголовки запроса\n",
    "    headers = {\n",
    "        \"Content-Type\": \"application/json\",\n",
    "        \"Authorization\": \"t1.9euelZqcxpickpfHzJjLns6ZypWLxu3rnpWanMqLjIybi4mSkZuYi5yaypfl8_dWQi1H-e85RF4n_t3z9xZxKkf57zlEXif-zef1656VmpHMx4qQlpSKms2bx8uNxouX7_zF656VmpHMx4qQlpSKms2bx8uNxouX.T_V3SdGXXuQxJ7zt8ychz8tMXIv71KH5ytRbVesR9m280NDlqJ8bHxp7as6xTGkuaVq06a1WDq6_R3IuYwguBw\",\n",
    "        \"x-folder-id\": \"b1g9kv27t3avpjnp1gpf\"\n",
    "    }\n",
    "\n",
    "    # Счетчик реально отправленных запросов\n",
    "    real_request_count = 0\n",
    "\n",
    "    # Счетчик неудачных запросов\n",
    "    failed_request_count = 0\n",
    "\n",
    "    def send_request_and_save_response(row):\n",
    "        nonlocal real_request_count, failed_request_count\n",
    "\n",
    "        # Проверка, есть ли уже данные в столбце 'response'\n",
    "        if pd.isna(row['response']):\n",
    "            # Извлечение данных из датафрейма\n",
    "            system_message = row['system_message']\n",
    "            request_text = row['request_text']\n",
    "\n",
    "            # Формирование данных для запроса\n",
    "            data = {\n",
    "                \"modelUri\": \"ds://bt1mk8ar7svnotmmhh78\",\n",
    "                \"completionOptions\": {\n",
    "                    \"stream\": False,\n",
    "                    \"temperature\": 0.1,\n",
    "                    \"maxTokens\": \"2000\"\n",
    "                },\n",
    "                \"messages\": [\n",
    "                    {\n",
    "                        \"role\": \"system\",\n",
    "                        \"text\": system_message\n",
    "                    },\n",
    "                    {\n",
    "                        \"role\": \"user\",\n",
    "                        \"text\": request_text\n",
    "                    }\n",
    "                ]\n",
    "            }\n",
    "\n",
    "            while True:\n",
    "                try:\n",
    "                    # Отправка POST-запроса\n",
    "                    response = requests.post(url, headers=headers, data=json.dumps(data))\n",
    "                    response.raise_for_status()  # Проверка на ошибки HTTP\n",
    "\n",
    "                    response_json = response.json()\n",
    "                    if 'result' in response_json and 'alternatives' in response_json['result']:\n",
    "                        message_text = clean_answer(response_json['result']['alternatives'][0]['message']['text'])\n",
    "                        real_request_count += 1\n",
    "                    else:\n",
    "                        message_text = clean_answer(response_json)\n",
    "\n",
    "                    # Сохранение ответа в столбец 'author_comment'\n",
    "                    df_solutions_test.at[index, 'author_comment'] = message_text\n",
    "\n",
    "                    # Вычисление эмбединга текста\n",
    "                    text_embedding = embedding2string(get_sentence_embedding(message_text))\n",
    "                    df_solutions_test.at[index, 'author_comment_embedding'] = text_embedding\n",
    "\n",
    "                    # Вычисление количества символов в тексте\n",
    "                    resp_lenght = len(message_text)\n",
    "                    df_solutions_test.at[index, 'resp_lenght'] = resp_lenght\n",
    "\n",
    "                    # Вычисление количества предложений в тексте\n",
    "                    sentence_cnt = len(message_text.split('.'))\n",
    "                    df_solutions_test.at[index, 'sentence_cnt'] = sentence_cnt\n",
    "\n",
    "                    # Возвращаем текст сообщения\n",
    "                    return message_text\n",
    "                except requests.exceptions.RequestException as e:\n",
    "                    if response.status_code == 429:  # \"Too Many Requests\"\n",
    "                        print(f\"Получен ответ 'Too Many Requests'. Повторная попытка через 1 секунду...\")\n",
    "                        time.sleep(1)  # Пауза перед повторной попыткой\n",
    "                    else:\n",
    "                        print(f\"Ошибка при отправке запроса: {e}\")\n",
    "                        failed_request_count += 1\n",
    "                        if failed_request_count >= 3:\n",
    "                            print(\"Превышено количество неудачных запросов. Остановка процесса.\")\n",
    "                            return None\n",
    "                        return None\n",
    "        else:\n",
    "            # Если данные уже есть, возвращаем их\n",
    "            return row['response']\n",
    "\n",
    "    # Отправка запросов только для первых N строк, где нет данных в столбце 'response'\n",
    "    for index, row in tqdm(df_solutions_test.iterrows(), total=df_solutions_test.shape[0], desc=\"Processing\"):\n",
    "        if real_request_count >= predictions_needed_cnt:\n",
    "            break\n",
    "        df_solutions_test.at[index, 'response'] = send_request_and_save_response(row)\n",
    "        time.sleep(0.1)  # Таймаут между запросами\n",
    "\n",
    "    print(f\"Количество реально отправленных запросов: {real_request_count}\")\n",
    "    print(f\"Количество неудачных запросов: {failed_request_count}\")"
   ]
  },
  {
   "cell_type": "code",
   "execution_count": 16,
   "metadata": {},
   "outputs": [
    {
     "name": "stderr",
     "output_type": "stream",
     "text": [
      "Processing:   0%|          | 0/325 [00:00<?, ?it/s]"
     ]
    },
    {
     "name": "stdout",
     "output_type": "stream",
     "text": [
      "Ошибка при отправке запроса: 401 Client Error: Unauthorized for url: https://llm.api.cloud.yandex.net/foundationModels/v1/completion\n"
     ]
    },
    {
     "name": "stderr",
     "output_type": "stream",
     "text": [
      "Processing:   0%|          | 1/325 [00:00<00:51,  6.31it/s]"
     ]
    },
    {
     "name": "stdout",
     "output_type": "stream",
     "text": [
      "Ошибка при отправке запроса: 401 Client Error: Unauthorized for url: https://llm.api.cloud.yandex.net/foundationModels/v1/completion\n"
     ]
    },
    {
     "name": "stderr",
     "output_type": "stream",
     "text": [
      "Processing:   1%|          | 2/325 [00:00<00:50,  6.35it/s]"
     ]
    },
    {
     "name": "stdout",
     "output_type": "stream",
     "text": [
      "Ошибка при отправке запроса: 401 Client Error: Unauthorized for url: https://llm.api.cloud.yandex.net/foundationModels/v1/completion\n",
      "Превышено количество неудачных запросов. Остановка процесса.\n"
     ]
    },
    {
     "name": "stderr",
     "output_type": "stream",
     "text": [
      "Processing:   1%|          | 3/325 [00:00<00:52,  6.18it/s]"
     ]
    },
    {
     "name": "stdout",
     "output_type": "stream",
     "text": [
      "Ошибка при отправке запроса: 401 Client Error: Unauthorized for url: https://llm.api.cloud.yandex.net/foundationModels/v1/completion\n",
      "Превышено количество неудачных запросов. Остановка процесса.\n"
     ]
    },
    {
     "name": "stderr",
     "output_type": "stream",
     "text": [
      "Processing:   1%|          | 4/325 [00:00<00:50,  6.30it/s]"
     ]
    },
    {
     "name": "stdout",
     "output_type": "stream",
     "text": [
      "Ошибка при отправке запроса: 401 Client Error: Unauthorized for url: https://llm.api.cloud.yandex.net/foundationModels/v1/completion\n",
      "Превышено количество неудачных запросов. Остановка процесса.\n"
     ]
    },
    {
     "name": "stderr",
     "output_type": "stream",
     "text": [
      "Processing:   2%|▏         | 5/325 [00:00<00:50,  6.35it/s]"
     ]
    },
    {
     "name": "stdout",
     "output_type": "stream",
     "text": [
      "Ошибка при отправке запроса: 401 Client Error: Unauthorized for url: https://llm.api.cloud.yandex.net/foundationModels/v1/completion\n",
      "Превышено количество неудачных запросов. Остановка процесса.\n"
     ]
    },
    {
     "name": "stderr",
     "output_type": "stream",
     "text": [
      "Processing:   2%|▏         | 6/325 [00:00<00:49,  6.41it/s]"
     ]
    },
    {
     "name": "stdout",
     "output_type": "stream",
     "text": [
      "Ошибка при отправке запроса: 401 Client Error: Unauthorized for url: https://llm.api.cloud.yandex.net/foundationModels/v1/completion\n",
      "Превышено количество неудачных запросов. Остановка процесса.\n"
     ]
    },
    {
     "name": "stderr",
     "output_type": "stream",
     "text": [
      "Processing:   2%|▏         | 7/325 [00:01<00:48,  6.59it/s]"
     ]
    },
    {
     "name": "stdout",
     "output_type": "stream",
     "text": [
      "Ошибка при отправке запроса: 401 Client Error: Unauthorized for url: https://llm.api.cloud.yandex.net/foundationModels/v1/completion\n",
      "Превышено количество неудачных запросов. Остановка процесса.\n"
     ]
    },
    {
     "name": "stderr",
     "output_type": "stream",
     "text": [
      "Processing:   2%|▏         | 8/325 [00:01<00:48,  6.49it/s]"
     ]
    },
    {
     "name": "stdout",
     "output_type": "stream",
     "text": [
      "Ошибка при отправке запроса: 401 Client Error: Unauthorized for url: https://llm.api.cloud.yandex.net/foundationModels/v1/completion\n",
      "Превышено количество неудачных запросов. Остановка процесса.\n"
     ]
    },
    {
     "name": "stderr",
     "output_type": "stream",
     "text": [
      "Processing:   3%|▎         | 9/325 [00:01<00:49,  6.41it/s]"
     ]
    },
    {
     "name": "stdout",
     "output_type": "stream",
     "text": [
      "Ошибка при отправке запроса: 401 Client Error: Unauthorized for url: https://llm.api.cloud.yandex.net/foundationModels/v1/completion\n",
      "Превышено количество неудачных запросов. Остановка процесса.\n"
     ]
    },
    {
     "name": "stderr",
     "output_type": "stream",
     "text": [
      "Processing:   3%|▎         | 10/325 [00:01<00:49,  6.31it/s]"
     ]
    },
    {
     "name": "stdout",
     "output_type": "stream",
     "text": [
      "Ошибка при отправке запроса: 401 Client Error: Unauthorized for url: https://llm.api.cloud.yandex.net/foundationModels/v1/completion\n",
      "Превышено количество неудачных запросов. Остановка процесса.\n"
     ]
    },
    {
     "name": "stderr",
     "output_type": "stream",
     "text": [
      "Processing:   3%|▎         | 11/325 [00:01<00:48,  6.52it/s]"
     ]
    },
    {
     "name": "stdout",
     "output_type": "stream",
     "text": [
      "Ошибка при отправке запроса: 401 Client Error: Unauthorized for url: https://llm.api.cloud.yandex.net/foundationModels/v1/completion\n",
      "Превышено количество неудачных запросов. Остановка процесса.\n"
     ]
    },
    {
     "name": "stderr",
     "output_type": "stream",
     "text": [
      "Processing:   4%|▍         | 13/325 [00:02<01:04,  4.84it/s]"
     ]
    },
    {
     "name": "stdout",
     "output_type": "stream",
     "text": [
      "Ошибка при отправке запроса: 401 Client Error: Unauthorized for url: https://llm.api.cloud.yandex.net/foundationModels/v1/completion\n",
      "Превышено количество неудачных запросов. Остановка процесса.\n",
      "Ошибка при отправке запроса: 401 Client Error: Unauthorized for url: https://llm.api.cloud.yandex.net/foundationModels/v1/completion\n",
      "Превышено количество неудачных запросов. Остановка процесса.\n"
     ]
    },
    {
     "name": "stderr",
     "output_type": "stream",
     "text": [
      "Processing:   5%|▍         | 15/325 [00:02<01:02,  5.00it/s]"
     ]
    },
    {
     "name": "stdout",
     "output_type": "stream",
     "text": [
      "Ошибка при отправке запроса: 401 Client Error: Unauthorized for url: https://llm.api.cloud.yandex.net/foundationModels/v1/completion\n",
      "Превышено количество неудачных запросов. Остановка процесса.\n"
     ]
    },
    {
     "name": "stderr",
     "output_type": "stream",
     "text": [
      "Processing:   5%|▍         | 16/325 [00:02<01:03,  4.86it/s]"
     ]
    },
    {
     "name": "stdout",
     "output_type": "stream",
     "text": [
      "Ошибка при отправке запроса: 401 Client Error: Unauthorized for url: https://llm.api.cloud.yandex.net/foundationModels/v1/completion\n",
      "Превышено количество неудачных запросов. Остановка процесса.\n",
      "Ошибка при отправке запроса: 401 Client Error: Unauthorized for url: https://llm.api.cloud.yandex.net/foundationModels/v1/completion\n",
      "Превышено количество неудачных запросов. Остановка процесса.\n"
     ]
    },
    {
     "name": "stderr",
     "output_type": "stream",
     "text": [
      "Processing:   6%|▌         | 18/325 [00:03<00:59,  5.17it/s]"
     ]
    },
    {
     "name": "stdout",
     "output_type": "stream",
     "text": [
      "Ошибка при отправке запроса: 401 Client Error: Unauthorized for url: https://llm.api.cloud.yandex.net/foundationModels/v1/completion\n",
      "Превышено количество неудачных запросов. Остановка процесса.\n",
      "Ошибка при отправке запроса: 401 Client Error: Unauthorized for url: https://llm.api.cloud.yandex.net/foundationModels/v1/completion\n",
      "Превышено количество неудачных запросов. Остановка процесса.\n"
     ]
    },
    {
     "name": "stderr",
     "output_type": "stream",
     "text": [
      "Processing:   6%|▌         | 20/325 [00:03<00:57,  5.29it/s]"
     ]
    },
    {
     "name": "stdout",
     "output_type": "stream",
     "text": [
      "Ошибка при отправке запроса: 401 Client Error: Unauthorized for url: https://llm.api.cloud.yandex.net/foundationModels/v1/completion\n",
      "Превышено количество неудачных запросов. Остановка процесса.\n",
      "Ошибка при отправке запроса: 401 Client Error: Unauthorized for url: https://llm.api.cloud.yandex.net/foundationModels/v1/completion\n",
      "Превышено количество неудачных запросов. Остановка процесса.\n"
     ]
    },
    {
     "name": "stderr",
     "output_type": "stream",
     "text": [
      "Processing:   7%|▋         | 22/325 [00:03<00:57,  5.31it/s]"
     ]
    },
    {
     "name": "stdout",
     "output_type": "stream",
     "text": [
      "Ошибка при отправке запроса: 401 Client Error: Unauthorized for url: https://llm.api.cloud.yandex.net/foundationModels/v1/completion\n",
      "Превышено количество неудачных запросов. Остановка процесса.\n",
      "Ошибка при отправке запроса: 401 Client Error: Unauthorized for url: https://llm.api.cloud.yandex.net/foundationModels/v1/completion\n",
      "Превышено количество неудачных запросов. Остановка процесса.\n"
     ]
    },
    {
     "name": "stderr",
     "output_type": "stream",
     "text": [
      "Processing:   7%|▋         | 24/325 [00:04<00:52,  5.78it/s]"
     ]
    },
    {
     "name": "stdout",
     "output_type": "stream",
     "text": [
      "Ошибка при отправке запроса: 401 Client Error: Unauthorized for url: https://llm.api.cloud.yandex.net/foundationModels/v1/completion\n",
      "Превышено количество неудачных запросов. Остановка процесса.\n",
      "Ошибка при отправке запроса: 401 Client Error: Unauthorized for url: https://llm.api.cloud.yandex.net/foundationModels/v1/completion\n",
      "Превышено количество неудачных запросов. Остановка процесса.\n"
     ]
    },
    {
     "name": "stderr",
     "output_type": "stream",
     "text": [
      "Processing:   8%|▊         | 26/325 [00:04<00:49,  6.04it/s]"
     ]
    },
    {
     "name": "stdout",
     "output_type": "stream",
     "text": [
      "Ошибка при отправке запроса: 401 Client Error: Unauthorized for url: https://llm.api.cloud.yandex.net/foundationModels/v1/completion\n",
      "Превышено количество неудачных запросов. Остановка процесса.\n",
      "Ошибка при отправке запроса: 401 Client Error: Unauthorized for url: https://llm.api.cloud.yandex.net/foundationModels/v1/completion\n",
      "Превышено количество неудачных запросов. Остановка процесса.\n"
     ]
    },
    {
     "name": "stderr",
     "output_type": "stream",
     "text": [
      "Processing:   9%|▊         | 28/325 [00:04<00:46,  6.38it/s]"
     ]
    },
    {
     "name": "stdout",
     "output_type": "stream",
     "text": [
      "Ошибка при отправке запроса: 401 Client Error: Unauthorized for url: https://llm.api.cloud.yandex.net/foundationModels/v1/completion\n",
      "Превышено количество неудачных запросов. Остановка процесса.\n",
      "Ошибка при отправке запроса: 401 Client Error: Unauthorized for url: https://llm.api.cloud.yandex.net/foundationModels/v1/completion\n",
      "Превышено количество неудачных запросов. Остановка процесса.\n"
     ]
    },
    {
     "name": "stderr",
     "output_type": "stream",
     "text": [
      "Processing:   9%|▉         | 30/325 [00:05<00:45,  6.55it/s]"
     ]
    },
    {
     "name": "stdout",
     "output_type": "stream",
     "text": [
      "Ошибка при отправке запроса: 401 Client Error: Unauthorized for url: https://llm.api.cloud.yandex.net/foundationModels/v1/completion\n",
      "Превышено количество неудачных запросов. Остановка процесса.\n",
      "Ошибка при отправке запроса: 401 Client Error: Unauthorized for url: https://llm.api.cloud.yandex.net/foundationModels/v1/completion\n",
      "Превышено количество неудачных запросов. Остановка процесса.\n"
     ]
    },
    {
     "name": "stderr",
     "output_type": "stream",
     "text": [
      "Processing:  10%|▉         | 32/325 [00:05<00:44,  6.54it/s]"
     ]
    },
    {
     "name": "stdout",
     "output_type": "stream",
     "text": [
      "Ошибка при отправке запроса: 401 Client Error: Unauthorized for url: https://llm.api.cloud.yandex.net/foundationModels/v1/completion\n",
      "Превышено количество неудачных запросов. Остановка процесса.\n",
      "Ошибка при отправке запроса: 401 Client Error: Unauthorized for url: https://llm.api.cloud.yandex.net/foundationModels/v1/completion\n",
      "Превышено количество неудачных запросов. Остановка процесса.\n"
     ]
    },
    {
     "name": "stderr",
     "output_type": "stream",
     "text": [
      "Processing:  10%|█         | 34/325 [00:05<00:44,  6.55it/s]"
     ]
    },
    {
     "name": "stdout",
     "output_type": "stream",
     "text": [
      "Ошибка при отправке запроса: 401 Client Error: Unauthorized for url: https://llm.api.cloud.yandex.net/foundationModels/v1/completion\n",
      "Превышено количество неудачных запросов. Остановка процесса.\n",
      "Ошибка при отправке запроса: 401 Client Error: Unauthorized for url: https://llm.api.cloud.yandex.net/foundationModels/v1/completion\n",
      "Превышено количество неудачных запросов. Остановка процесса.\n"
     ]
    },
    {
     "name": "stderr",
     "output_type": "stream",
     "text": [
      "Processing:  11%|█         | 36/325 [00:06<00:42,  6.79it/s]"
     ]
    },
    {
     "name": "stdout",
     "output_type": "stream",
     "text": [
      "Ошибка при отправке запроса: 401 Client Error: Unauthorized for url: https://llm.api.cloud.yandex.net/foundationModels/v1/completion\n",
      "Превышено количество неудачных запросов. Остановка процесса.\n",
      "Ошибка при отправке запроса: 401 Client Error: Unauthorized for url: https://llm.api.cloud.yandex.net/foundationModels/v1/completion\n",
      "Превышено количество неудачных запросов. Остановка процесса.\n"
     ]
    },
    {
     "name": "stderr",
     "output_type": "stream",
     "text": [
      "Processing:  12%|█▏        | 38/325 [00:06<00:44,  6.46it/s]"
     ]
    },
    {
     "name": "stdout",
     "output_type": "stream",
     "text": [
      "Ошибка при отправке запроса: 401 Client Error: Unauthorized for url: https://llm.api.cloud.yandex.net/foundationModels/v1/completion\n",
      "Превышено количество неудачных запросов. Остановка процесса.\n",
      "Ошибка при отправке запроса: 401 Client Error: Unauthorized for url: https://llm.api.cloud.yandex.net/foundationModels/v1/completion\n",
      "Превышено количество неудачных запросов. Остановка процесса.\n"
     ]
    },
    {
     "name": "stderr",
     "output_type": "stream",
     "text": [
      "Processing:  12%|█▏        | 40/325 [00:06<00:42,  6.65it/s]"
     ]
    },
    {
     "name": "stdout",
     "output_type": "stream",
     "text": [
      "Ошибка при отправке запроса: 401 Client Error: Unauthorized for url: https://llm.api.cloud.yandex.net/foundationModels/v1/completion\n",
      "Превышено количество неудачных запросов. Остановка процесса.\n",
      "Ошибка при отправке запроса: 401 Client Error: Unauthorized for url: https://llm.api.cloud.yandex.net/foundationModels/v1/completion\n",
      "Превышено количество неудачных запросов. Остановка процесса.\n"
     ]
    },
    {
     "name": "stderr",
     "output_type": "stream",
     "text": [
      "Processing:  13%|█▎        | 42/325 [00:06<00:42,  6.72it/s]"
     ]
    },
    {
     "name": "stdout",
     "output_type": "stream",
     "text": [
      "Ошибка при отправке запроса: 401 Client Error: Unauthorized for url: https://llm.api.cloud.yandex.net/foundationModels/v1/completion\n",
      "Превышено количество неудачных запросов. Остановка процесса.\n",
      "Ошибка при отправке запроса: 401 Client Error: Unauthorized for url: https://llm.api.cloud.yandex.net/foundationModels/v1/completion\n",
      "Превышено количество неудачных запросов. Остановка процесса.\n"
     ]
    },
    {
     "name": "stderr",
     "output_type": "stream",
     "text": [
      "Processing:  14%|█▎        | 44/325 [00:07<00:43,  6.49it/s]"
     ]
    },
    {
     "name": "stdout",
     "output_type": "stream",
     "text": [
      "Ошибка при отправке запроса: 401 Client Error: Unauthorized for url: https://llm.api.cloud.yandex.net/foundationModels/v1/completion\n",
      "Превышено количество неудачных запросов. Остановка процесса.\n",
      "Ошибка при отправке запроса: 401 Client Error: Unauthorized for url: https://llm.api.cloud.yandex.net/foundationModels/v1/completion\n",
      "Превышено количество неудачных запросов. Остановка процесса.\n"
     ]
    },
    {
     "name": "stderr",
     "output_type": "stream",
     "text": [
      "Processing:  14%|█▍        | 46/325 [00:07<00:42,  6.58it/s]"
     ]
    },
    {
     "name": "stdout",
     "output_type": "stream",
     "text": [
      "Ошибка при отправке запроса: 401 Client Error: Unauthorized for url: https://llm.api.cloud.yandex.net/foundationModels/v1/completion\n",
      "Превышено количество неудачных запросов. Остановка процесса.\n",
      "Ошибка при отправке запроса: 401 Client Error: Unauthorized for url: https://llm.api.cloud.yandex.net/foundationModels/v1/completion\n",
      "Превышено количество неудачных запросов. Остановка процесса.\n"
     ]
    },
    {
     "name": "stderr",
     "output_type": "stream",
     "text": [
      "Processing:  15%|█▍        | 48/325 [00:07<00:41,  6.67it/s]"
     ]
    },
    {
     "name": "stdout",
     "output_type": "stream",
     "text": [
      "Ошибка при отправке запроса: 401 Client Error: Unauthorized for url: https://llm.api.cloud.yandex.net/foundationModels/v1/completion\n",
      "Превышено количество неудачных запросов. Остановка процесса.\n",
      "Ошибка при отправке запроса: 401 Client Error: Unauthorized for url: https://llm.api.cloud.yandex.net/foundationModels/v1/completion\n",
      "Превышено количество неудачных запросов. Остановка процесса.\n"
     ]
    },
    {
     "name": "stderr",
     "output_type": "stream",
     "text": [
      "Processing:  15%|█▌        | 50/325 [00:08<00:41,  6.62it/s]"
     ]
    },
    {
     "name": "stdout",
     "output_type": "stream",
     "text": [
      "Ошибка при отправке запроса: 401 Client Error: Unauthorized for url: https://llm.api.cloud.yandex.net/foundationModels/v1/completion\n",
      "Превышено количество неудачных запросов. Остановка процесса.\n",
      "Ошибка при отправке запроса: 401 Client Error: Unauthorized for url: https://llm.api.cloud.yandex.net/foundationModels/v1/completion\n",
      "Превышено количество неудачных запросов. Остановка процесса.\n"
     ]
    },
    {
     "name": "stderr",
     "output_type": "stream",
     "text": [
      "Processing:  16%|█▌        | 52/325 [00:08<00:40,  6.70it/s]"
     ]
    },
    {
     "name": "stdout",
     "output_type": "stream",
     "text": [
      "Ошибка при отправке запроса: 401 Client Error: Unauthorized for url: https://llm.api.cloud.yandex.net/foundationModels/v1/completion\n",
      "Превышено количество неудачных запросов. Остановка процесса.\n",
      "Ошибка при отправке запроса: 401 Client Error: Unauthorized for url: https://llm.api.cloud.yandex.net/foundationModels/v1/completion\n",
      "Превышено количество неудачных запросов. Остановка процесса.\n"
     ]
    },
    {
     "name": "stderr",
     "output_type": "stream",
     "text": [
      "Processing:  17%|█▋        | 54/325 [00:08<00:40,  6.63it/s]"
     ]
    },
    {
     "name": "stdout",
     "output_type": "stream",
     "text": [
      "Ошибка при отправке запроса: 401 Client Error: Unauthorized for url: https://llm.api.cloud.yandex.net/foundationModels/v1/completion\n",
      "Превышено количество неудачных запросов. Остановка процесса.\n",
      "Ошибка при отправке запроса: 401 Client Error: Unauthorized for url: https://llm.api.cloud.yandex.net/foundationModels/v1/completion\n",
      "Превышено количество неудачных запросов. Остановка процесса.\n"
     ]
    },
    {
     "name": "stderr",
     "output_type": "stream",
     "text": [
      "Processing:  17%|█▋        | 56/325 [00:09<00:39,  6.75it/s]"
     ]
    },
    {
     "name": "stdout",
     "output_type": "stream",
     "text": [
      "Ошибка при отправке запроса: 401 Client Error: Unauthorized for url: https://llm.api.cloud.yandex.net/foundationModels/v1/completion\n",
      "Превышено количество неудачных запросов. Остановка процесса.\n",
      "Ошибка при отправке запроса: 401 Client Error: Unauthorized for url: https://llm.api.cloud.yandex.net/foundationModels/v1/completion\n",
      "Превышено количество неудачных запросов. Остановка процесса.\n"
     ]
    },
    {
     "name": "stderr",
     "output_type": "stream",
     "text": [
      "Processing:  18%|█▊        | 58/325 [00:09<00:39,  6.80it/s]"
     ]
    },
    {
     "name": "stdout",
     "output_type": "stream",
     "text": [
      "Ошибка при отправке запроса: 401 Client Error: Unauthorized for url: https://llm.api.cloud.yandex.net/foundationModels/v1/completion\n",
      "Превышено количество неудачных запросов. Остановка процесса.\n",
      "Ошибка при отправке запроса: 401 Client Error: Unauthorized for url: https://llm.api.cloud.yandex.net/foundationModels/v1/completion\n",
      "Превышено количество неудачных запросов. Остановка процесса.\n"
     ]
    },
    {
     "name": "stderr",
     "output_type": "stream",
     "text": [
      "Processing:  18%|█▊        | 60/325 [00:09<00:39,  6.63it/s]"
     ]
    },
    {
     "name": "stdout",
     "output_type": "stream",
     "text": [
      "Ошибка при отправке запроса: 401 Client Error: Unauthorized for url: https://llm.api.cloud.yandex.net/foundationModels/v1/completion\n",
      "Превышено количество неудачных запросов. Остановка процесса.\n",
      "Ошибка при отправке запроса: 401 Client Error: Unauthorized for url: https://llm.api.cloud.yandex.net/foundationModels/v1/completion\n",
      "Превышено количество неудачных запросов. Остановка процесса.\n"
     ]
    },
    {
     "name": "stderr",
     "output_type": "stream",
     "text": [
      "Processing:  19%|█▉        | 62/325 [00:09<00:39,  6.60it/s]"
     ]
    },
    {
     "name": "stdout",
     "output_type": "stream",
     "text": [
      "Ошибка при отправке запроса: 401 Client Error: Unauthorized for url: https://llm.api.cloud.yandex.net/foundationModels/v1/completion\n",
      "Превышено количество неудачных запросов. Остановка процесса.\n",
      "Ошибка при отправке запроса: 401 Client Error: Unauthorized for url: https://llm.api.cloud.yandex.net/foundationModels/v1/completion\n",
      "Превышено количество неудачных запросов. Остановка процесса.\n"
     ]
    },
    {
     "name": "stderr",
     "output_type": "stream",
     "text": [
      "Processing:  20%|█▉        | 64/325 [00:10<00:38,  6.75it/s]"
     ]
    },
    {
     "name": "stdout",
     "output_type": "stream",
     "text": [
      "Ошибка при отправке запроса: 401 Client Error: Unauthorized for url: https://llm.api.cloud.yandex.net/foundationModels/v1/completion\n",
      "Превышено количество неудачных запросов. Остановка процесса.\n",
      "Ошибка при отправке запроса: 401 Client Error: Unauthorized for url: https://llm.api.cloud.yandex.net/foundationModels/v1/completion\n",
      "Превышено количество неудачных запросов. Остановка процесса.\n"
     ]
    },
    {
     "name": "stderr",
     "output_type": "stream",
     "text": [
      "Processing:  20%|██        | 66/325 [00:10<00:38,  6.80it/s]"
     ]
    },
    {
     "name": "stdout",
     "output_type": "stream",
     "text": [
      "Ошибка при отправке запроса: 401 Client Error: Unauthorized for url: https://llm.api.cloud.yandex.net/foundationModels/v1/completion\n",
      "Превышено количество неудачных запросов. Остановка процесса.\n",
      "Ошибка при отправке запроса: 401 Client Error: Unauthorized for url: https://llm.api.cloud.yandex.net/foundationModels/v1/completion\n",
      "Превышено количество неудачных запросов. Остановка процесса.\n"
     ]
    },
    {
     "name": "stderr",
     "output_type": "stream",
     "text": [
      "Processing:  21%|██        | 68/325 [00:10<00:39,  6.47it/s]"
     ]
    },
    {
     "name": "stdout",
     "output_type": "stream",
     "text": [
      "Ошибка при отправке запроса: 401 Client Error: Unauthorized for url: https://llm.api.cloud.yandex.net/foundationModels/v1/completion\n",
      "Превышено количество неудачных запросов. Остановка процесса.\n",
      "Ошибка при отправке запроса: 401 Client Error: Unauthorized for url: https://llm.api.cloud.yandex.net/foundationModels/v1/completion\n",
      "Превышено количество неудачных запросов. Остановка процесса.\n"
     ]
    },
    {
     "name": "stderr",
     "output_type": "stream",
     "text": [
      "Processing:  22%|██▏       | 70/325 [00:11<00:38,  6.55it/s]"
     ]
    },
    {
     "name": "stdout",
     "output_type": "stream",
     "text": [
      "Ошибка при отправке запроса: 401 Client Error: Unauthorized for url: https://llm.api.cloud.yandex.net/foundationModels/v1/completion\n",
      "Превышено количество неудачных запросов. Остановка процесса.\n",
      "Ошибка при отправке запроса: 401 Client Error: Unauthorized for url: https://llm.api.cloud.yandex.net/foundationModels/v1/completion\n",
      "Превышено количество неудачных запросов. Остановка процесса.\n"
     ]
    },
    {
     "name": "stderr",
     "output_type": "stream",
     "text": [
      "Processing:  22%|██▏       | 72/325 [00:11<00:38,  6.52it/s]"
     ]
    },
    {
     "name": "stdout",
     "output_type": "stream",
     "text": [
      "Ошибка при отправке запроса: 401 Client Error: Unauthorized for url: https://llm.api.cloud.yandex.net/foundationModels/v1/completion\n",
      "Превышено количество неудачных запросов. Остановка процесса.\n",
      "Ошибка при отправке запроса: 401 Client Error: Unauthorized for url: https://llm.api.cloud.yandex.net/foundationModels/v1/completion\n",
      "Превышено количество неудачных запросов. Остановка процесса.\n"
     ]
    },
    {
     "name": "stderr",
     "output_type": "stream",
     "text": [
      "Processing:  23%|██▎       | 74/325 [00:11<00:37,  6.61it/s]"
     ]
    },
    {
     "name": "stdout",
     "output_type": "stream",
     "text": [
      "Ошибка при отправке запроса: 401 Client Error: Unauthorized for url: https://llm.api.cloud.yandex.net/foundationModels/v1/completion\n",
      "Превышено количество неудачных запросов. Остановка процесса.\n",
      "Ошибка при отправке запроса: 401 Client Error: Unauthorized for url: https://llm.api.cloud.yandex.net/foundationModels/v1/completion\n",
      "Превышено количество неудачных запросов. Остановка процесса.\n"
     ]
    },
    {
     "name": "stderr",
     "output_type": "stream",
     "text": [
      "Processing:  23%|██▎       | 76/325 [00:12<00:39,  6.27it/s]"
     ]
    },
    {
     "name": "stdout",
     "output_type": "stream",
     "text": [
      "Ошибка при отправке запроса: 401 Client Error: Unauthorized for url: https://llm.api.cloud.yandex.net/foundationModels/v1/completion\n",
      "Превышено количество неудачных запросов. Остановка процесса.\n",
      "Ошибка при отправке запроса: 401 Client Error: Unauthorized for url: https://llm.api.cloud.yandex.net/foundationModels/v1/completion\n",
      "Превышено количество неудачных запросов. Остановка процесса.\n"
     ]
    },
    {
     "name": "stderr",
     "output_type": "stream",
     "text": [
      "Processing:  24%|██▍       | 78/325 [00:12<00:38,  6.50it/s]"
     ]
    },
    {
     "name": "stdout",
     "output_type": "stream",
     "text": [
      "Ошибка при отправке запроса: 401 Client Error: Unauthorized for url: https://llm.api.cloud.yandex.net/foundationModels/v1/completion\n",
      "Превышено количество неудачных запросов. Остановка процесса.\n",
      "Ошибка при отправке запроса: 401 Client Error: Unauthorized for url: https://llm.api.cloud.yandex.net/foundationModels/v1/completion\n",
      "Превышено количество неудачных запросов. Остановка процесса.\n"
     ]
    },
    {
     "name": "stderr",
     "output_type": "stream",
     "text": [
      "Processing:  25%|██▍       | 80/325 [00:12<00:37,  6.50it/s]"
     ]
    },
    {
     "name": "stdout",
     "output_type": "stream",
     "text": [
      "Ошибка при отправке запроса: 401 Client Error: Unauthorized for url: https://llm.api.cloud.yandex.net/foundationModels/v1/completion\n",
      "Превышено количество неудачных запросов. Остановка процесса.\n",
      "Ошибка при отправке запроса: 401 Client Error: Unauthorized for url: https://llm.api.cloud.yandex.net/foundationModels/v1/completion\n",
      "Превышено количество неудачных запросов. Остановка процесса.\n"
     ]
    },
    {
     "name": "stderr",
     "output_type": "stream",
     "text": [
      "Processing:  25%|██▌       | 82/325 [00:13<00:36,  6.64it/s]"
     ]
    },
    {
     "name": "stdout",
     "output_type": "stream",
     "text": [
      "Ошибка при отправке запроса: 401 Client Error: Unauthorized for url: https://llm.api.cloud.yandex.net/foundationModels/v1/completion\n",
      "Превышено количество неудачных запросов. Остановка процесса.\n",
      "Ошибка при отправке запроса: 401 Client Error: Unauthorized for url: https://llm.api.cloud.yandex.net/foundationModels/v1/completion\n",
      "Превышено количество неудачных запросов. Остановка процесса.\n"
     ]
    },
    {
     "name": "stderr",
     "output_type": "stream",
     "text": [
      "Processing:  26%|██▌       | 84/325 [00:13<00:37,  6.49it/s]"
     ]
    },
    {
     "name": "stdout",
     "output_type": "stream",
     "text": [
      "Ошибка при отправке запроса: 401 Client Error: Unauthorized for url: https://llm.api.cloud.yandex.net/foundationModels/v1/completion\n",
      "Превышено количество неудачных запросов. Остановка процесса.\n",
      "Ошибка при отправке запроса: 401 Client Error: Unauthorized for url: https://llm.api.cloud.yandex.net/foundationModels/v1/completion\n",
      "Превышено количество неудачных запросов. Остановка процесса.\n"
     ]
    },
    {
     "name": "stderr",
     "output_type": "stream",
     "text": [
      "Processing:  26%|██▋       | 86/325 [00:13<00:37,  6.45it/s]"
     ]
    },
    {
     "name": "stdout",
     "output_type": "stream",
     "text": [
      "Ошибка при отправке запроса: 401 Client Error: Unauthorized for url: https://llm.api.cloud.yandex.net/foundationModels/v1/completion\n",
      "Превышено количество неудачных запросов. Остановка процесса.\n",
      "Ошибка при отправке запроса: 401 Client Error: Unauthorized for url: https://llm.api.cloud.yandex.net/foundationModels/v1/completion\n",
      "Превышено количество неудачных запросов. Остановка процесса.\n"
     ]
    },
    {
     "name": "stderr",
     "output_type": "stream",
     "text": [
      "Processing:  27%|██▋       | 88/325 [00:13<00:37,  6.40it/s]"
     ]
    },
    {
     "name": "stdout",
     "output_type": "stream",
     "text": [
      "Ошибка при отправке запроса: 401 Client Error: Unauthorized for url: https://llm.api.cloud.yandex.net/foundationModels/v1/completion\n",
      "Превышено количество неудачных запросов. Остановка процесса.\n",
      "Ошибка при отправке запроса: 401 Client Error: Unauthorized for url: https://llm.api.cloud.yandex.net/foundationModels/v1/completion\n",
      "Превышено количество неудачных запросов. Остановка процесса.\n"
     ]
    },
    {
     "name": "stderr",
     "output_type": "stream",
     "text": [
      "Processing:  28%|██▊       | 90/325 [00:14<00:36,  6.37it/s]"
     ]
    },
    {
     "name": "stdout",
     "output_type": "stream",
     "text": [
      "Ошибка при отправке запроса: 401 Client Error: Unauthorized for url: https://llm.api.cloud.yandex.net/foundationModels/v1/completion\n",
      "Превышено количество неудачных запросов. Остановка процесса.\n",
      "Ошибка при отправке запроса: 401 Client Error: Unauthorized for url: https://llm.api.cloud.yandex.net/foundationModels/v1/completion\n",
      "Превышено количество неудачных запросов. Остановка процесса.\n"
     ]
    },
    {
     "name": "stderr",
     "output_type": "stream",
     "text": [
      "Processing:  28%|██▊       | 92/325 [00:14<00:34,  6.68it/s]"
     ]
    },
    {
     "name": "stdout",
     "output_type": "stream",
     "text": [
      "Ошибка при отправке запроса: 401 Client Error: Unauthorized for url: https://llm.api.cloud.yandex.net/foundationModels/v1/completion\n",
      "Превышено количество неудачных запросов. Остановка процесса.\n",
      "Ошибка при отправке запроса: 401 Client Error: Unauthorized for url: https://llm.api.cloud.yandex.net/foundationModels/v1/completion\n",
      "Превышено количество неудачных запросов. Остановка процесса.\n"
     ]
    },
    {
     "name": "stderr",
     "output_type": "stream",
     "text": [
      "Processing:  29%|██▉       | 94/325 [00:14<00:35,  6.54it/s]"
     ]
    },
    {
     "name": "stdout",
     "output_type": "stream",
     "text": [
      "Ошибка при отправке запроса: 401 Client Error: Unauthorized for url: https://llm.api.cloud.yandex.net/foundationModels/v1/completion\n",
      "Превышено количество неудачных запросов. Остановка процесса.\n",
      "Ошибка при отправке запроса: 401 Client Error: Unauthorized for url: https://llm.api.cloud.yandex.net/foundationModels/v1/completion\n",
      "Превышено количество неудачных запросов. Остановка процесса.\n"
     ]
    },
    {
     "name": "stderr",
     "output_type": "stream",
     "text": [
      "Processing:  30%|██▉       | 96/325 [00:15<00:34,  6.55it/s]"
     ]
    },
    {
     "name": "stdout",
     "output_type": "stream",
     "text": [
      "Ошибка при отправке запроса: 401 Client Error: Unauthorized for url: https://llm.api.cloud.yandex.net/foundationModels/v1/completion\n",
      "Превышено количество неудачных запросов. Остановка процесса.\n",
      "Ошибка при отправке запроса: 401 Client Error: Unauthorized for url: https://llm.api.cloud.yandex.net/foundationModels/v1/completion\n",
      "Превышено количество неудачных запросов. Остановка процесса.\n"
     ]
    },
    {
     "name": "stderr",
     "output_type": "stream",
     "text": [
      "Processing:  30%|███       | 98/325 [00:15<00:34,  6.56it/s]"
     ]
    },
    {
     "name": "stdout",
     "output_type": "stream",
     "text": [
      "Ошибка при отправке запроса: 401 Client Error: Unauthorized for url: https://llm.api.cloud.yandex.net/foundationModels/v1/completion\n",
      "Превышено количество неудачных запросов. Остановка процесса.\n",
      "Ошибка при отправке запроса: 401 Client Error: Unauthorized for url: https://llm.api.cloud.yandex.net/foundationModels/v1/completion\n",
      "Превышено количество неудачных запросов. Остановка процесса.\n"
     ]
    },
    {
     "name": "stderr",
     "output_type": "stream",
     "text": [
      "Processing:  31%|███       | 100/325 [00:15<00:33,  6.63it/s]"
     ]
    },
    {
     "name": "stdout",
     "output_type": "stream",
     "text": [
      "Ошибка при отправке запроса: 401 Client Error: Unauthorized for url: https://llm.api.cloud.yandex.net/foundationModels/v1/completion\n",
      "Превышено количество неудачных запросов. Остановка процесса.\n",
      "Ошибка при отправке запроса: 401 Client Error: Unauthorized for url: https://llm.api.cloud.yandex.net/foundationModels/v1/completion\n",
      "Превышено количество неудачных запросов. Остановка процесса.\n"
     ]
    },
    {
     "name": "stderr",
     "output_type": "stream",
     "text": [
      "Processing:  31%|███▏      | 102/325 [00:16<00:33,  6.68it/s]"
     ]
    },
    {
     "name": "stdout",
     "output_type": "stream",
     "text": [
      "Ошибка при отправке запроса: 401 Client Error: Unauthorized for url: https://llm.api.cloud.yandex.net/foundationModels/v1/completion\n",
      "Превышено количество неудачных запросов. Остановка процесса.\n",
      "Ошибка при отправке запроса: 401 Client Error: Unauthorized for url: https://llm.api.cloud.yandex.net/foundationModels/v1/completion\n",
      "Превышено количество неудачных запросов. Остановка процесса.\n"
     ]
    },
    {
     "name": "stderr",
     "output_type": "stream",
     "text": [
      "Processing:  32%|███▏      | 104/325 [00:16<00:32,  6.75it/s]"
     ]
    },
    {
     "name": "stdout",
     "output_type": "stream",
     "text": [
      "Ошибка при отправке запроса: 401 Client Error: Unauthorized for url: https://llm.api.cloud.yandex.net/foundationModels/v1/completion\n",
      "Превышено количество неудачных запросов. Остановка процесса.\n",
      "Ошибка при отправке запроса: 401 Client Error: Unauthorized for url: https://llm.api.cloud.yandex.net/foundationModels/v1/completion\n",
      "Превышено количество неудачных запросов. Остановка процесса.\n"
     ]
    },
    {
     "name": "stderr",
     "output_type": "stream",
     "text": [
      "Processing:  33%|███▎      | 106/325 [00:16<00:32,  6.67it/s]"
     ]
    },
    {
     "name": "stdout",
     "output_type": "stream",
     "text": [
      "Ошибка при отправке запроса: 401 Client Error: Unauthorized for url: https://llm.api.cloud.yandex.net/foundationModels/v1/completion\n",
      "Превышено количество неудачных запросов. Остановка процесса.\n",
      "Ошибка при отправке запроса: 401 Client Error: Unauthorized for url: https://llm.api.cloud.yandex.net/foundationModels/v1/completion\n",
      "Превышено количество неудачных запросов. Остановка процесса.\n"
     ]
    },
    {
     "name": "stderr",
     "output_type": "stream",
     "text": [
      "Processing:  33%|███▎      | 108/325 [00:16<00:32,  6.76it/s]"
     ]
    },
    {
     "name": "stdout",
     "output_type": "stream",
     "text": [
      "Ошибка при отправке запроса: 401 Client Error: Unauthorized for url: https://llm.api.cloud.yandex.net/foundationModels/v1/completion\n",
      "Превышено количество неудачных запросов. Остановка процесса.\n",
      "Ошибка при отправке запроса: 401 Client Error: Unauthorized for url: https://llm.api.cloud.yandex.net/foundationModels/v1/completion\n",
      "Превышено количество неудачных запросов. Остановка процесса.\n"
     ]
    },
    {
     "name": "stderr",
     "output_type": "stream",
     "text": [
      "Processing:  34%|███▍      | 110/325 [00:17<00:35,  6.13it/s]"
     ]
    },
    {
     "name": "stdout",
     "output_type": "stream",
     "text": [
      "Ошибка при отправке запроса: 401 Client Error: Unauthorized for url: https://llm.api.cloud.yandex.net/foundationModels/v1/completion\n",
      "Превышено количество неудачных запросов. Остановка процесса.\n",
      "Ошибка при отправке запроса: 401 Client Error: Unauthorized for url: https://llm.api.cloud.yandex.net/foundationModels/v1/completion\n",
      "Превышено количество неудачных запросов. Остановка процесса.\n"
     ]
    },
    {
     "name": "stderr",
     "output_type": "stream",
     "text": [
      "Processing:  34%|███▍      | 112/325 [00:17<00:32,  6.54it/s]"
     ]
    },
    {
     "name": "stdout",
     "output_type": "stream",
     "text": [
      "Ошибка при отправке запроса: 401 Client Error: Unauthorized for url: https://llm.api.cloud.yandex.net/foundationModels/v1/completion\n",
      "Превышено количество неудачных запросов. Остановка процесса.\n",
      "Ошибка при отправке запроса: 401 Client Error: Unauthorized for url: https://llm.api.cloud.yandex.net/foundationModels/v1/completion\n",
      "Превышено количество неудачных запросов. Остановка процесса.\n"
     ]
    },
    {
     "name": "stderr",
     "output_type": "stream",
     "text": [
      "Processing:  35%|███▌      | 114/325 [00:17<00:33,  6.26it/s]"
     ]
    },
    {
     "name": "stdout",
     "output_type": "stream",
     "text": [
      "Ошибка при отправке запроса: 401 Client Error: Unauthorized for url: https://llm.api.cloud.yandex.net/foundationModels/v1/completion\n",
      "Превышено количество неудачных запросов. Остановка процесса.\n",
      "Ошибка при отправке запроса: 401 Client Error: Unauthorized for url: https://llm.api.cloud.yandex.net/foundationModels/v1/completion\n",
      "Превышено количество неудачных запросов. Остановка процесса.\n"
     ]
    },
    {
     "name": "stderr",
     "output_type": "stream",
     "text": [
      "Processing:  36%|███▌      | 116/325 [00:18<00:34,  6.11it/s]"
     ]
    },
    {
     "name": "stdout",
     "output_type": "stream",
     "text": [
      "Ошибка при отправке запроса: 401 Client Error: Unauthorized for url: https://llm.api.cloud.yandex.net/foundationModels/v1/completion\n",
      "Превышено количество неудачных запросов. Остановка процесса.\n",
      "Ошибка при отправке запроса: 401 Client Error: Unauthorized for url: https://llm.api.cloud.yandex.net/foundationModels/v1/completion\n",
      "Превышено количество неудачных запросов. Остановка процесса.\n"
     ]
    },
    {
     "name": "stderr",
     "output_type": "stream",
     "text": [
      "Processing:  36%|███▋      | 118/325 [00:18<00:33,  6.18it/s]"
     ]
    },
    {
     "name": "stdout",
     "output_type": "stream",
     "text": [
      "Ошибка при отправке запроса: 401 Client Error: Unauthorized for url: https://llm.api.cloud.yandex.net/foundationModels/v1/completion\n",
      "Превышено количество неудачных запросов. Остановка процесса.\n",
      "Ошибка при отправке запроса: 401 Client Error: Unauthorized for url: https://llm.api.cloud.yandex.net/foundationModels/v1/completion\n",
      "Превышено количество неудачных запросов. Остановка процесса.\n"
     ]
    },
    {
     "name": "stderr",
     "output_type": "stream",
     "text": [
      "Processing:  37%|███▋      | 120/325 [00:18<00:34,  5.92it/s]"
     ]
    },
    {
     "name": "stdout",
     "output_type": "stream",
     "text": [
      "Ошибка при отправке запроса: 401 Client Error: Unauthorized for url: https://llm.api.cloud.yandex.net/foundationModels/v1/completion\n",
      "Превышено количество неудачных запросов. Остановка процесса.\n",
      "Ошибка при отправке запроса: 401 Client Error: Unauthorized for url: https://llm.api.cloud.yandex.net/foundationModels/v1/completion\n",
      "Превышено количество неудачных запросов. Остановка процесса.\n"
     ]
    },
    {
     "name": "stderr",
     "output_type": "stream",
     "text": [
      "Processing:  38%|███▊      | 122/325 [00:19<00:32,  6.16it/s]"
     ]
    },
    {
     "name": "stdout",
     "output_type": "stream",
     "text": [
      "Ошибка при отправке запроса: 401 Client Error: Unauthorized for url: https://llm.api.cloud.yandex.net/foundationModels/v1/completion\n",
      "Превышено количество неудачных запросов. Остановка процесса.\n",
      "Ошибка при отправке запроса: 401 Client Error: Unauthorized for url: https://llm.api.cloud.yandex.net/foundationModels/v1/completion\n",
      "Превышено количество неудачных запросов. Остановка процесса.\n"
     ]
    },
    {
     "name": "stderr",
     "output_type": "stream",
     "text": [
      "Processing:  38%|███▊      | 124/325 [00:19<00:31,  6.43it/s]"
     ]
    },
    {
     "name": "stdout",
     "output_type": "stream",
     "text": [
      "Ошибка при отправке запроса: 401 Client Error: Unauthorized for url: https://llm.api.cloud.yandex.net/foundationModels/v1/completion\n",
      "Превышено количество неудачных запросов. Остановка процесса.\n",
      "Ошибка при отправке запроса: 401 Client Error: Unauthorized for url: https://llm.api.cloud.yandex.net/foundationModels/v1/completion\n",
      "Превышено количество неудачных запросов. Остановка процесса.\n"
     ]
    },
    {
     "name": "stderr",
     "output_type": "stream",
     "text": [
      "Processing:  39%|███▉      | 126/325 [00:19<00:30,  6.51it/s]"
     ]
    },
    {
     "name": "stdout",
     "output_type": "stream",
     "text": [
      "Ошибка при отправке запроса: 401 Client Error: Unauthorized for url: https://llm.api.cloud.yandex.net/foundationModels/v1/completion\n",
      "Превышено количество неудачных запросов. Остановка процесса.\n",
      "Ошибка при отправке запроса: 401 Client Error: Unauthorized for url: https://llm.api.cloud.yandex.net/foundationModels/v1/completion\n",
      "Превышено количество неудачных запросов. Остановка процесса.\n"
     ]
    },
    {
     "name": "stderr",
     "output_type": "stream",
     "text": [
      "Processing:  39%|███▉      | 128/325 [00:20<00:31,  6.18it/s]"
     ]
    },
    {
     "name": "stdout",
     "output_type": "stream",
     "text": [
      "Ошибка при отправке запроса: 401 Client Error: Unauthorized for url: https://llm.api.cloud.yandex.net/foundationModels/v1/completion\n",
      "Превышено количество неудачных запросов. Остановка процесса.\n",
      "Ошибка при отправке запроса: 401 Client Error: Unauthorized for url: https://llm.api.cloud.yandex.net/foundationModels/v1/completion\n",
      "Превышено количество неудачных запросов. Остановка процесса.\n"
     ]
    },
    {
     "name": "stderr",
     "output_type": "stream",
     "text": [
      "Processing:  40%|████      | 130/325 [00:20<00:31,  6.17it/s]"
     ]
    },
    {
     "name": "stdout",
     "output_type": "stream",
     "text": [
      "Ошибка при отправке запроса: 401 Client Error: Unauthorized for url: https://llm.api.cloud.yandex.net/foundationModels/v1/completion\n",
      "Превышено количество неудачных запросов. Остановка процесса.\n",
      "Ошибка при отправке запроса: 401 Client Error: Unauthorized for url: https://llm.api.cloud.yandex.net/foundationModels/v1/completion\n",
      "Превышено количество неудачных запросов. Остановка процесса.\n"
     ]
    },
    {
     "name": "stderr",
     "output_type": "stream",
     "text": [
      "Processing:  41%|████      | 132/325 [00:20<00:30,  6.23it/s]"
     ]
    },
    {
     "name": "stdout",
     "output_type": "stream",
     "text": [
      "Ошибка при отправке запроса: 401 Client Error: Unauthorized for url: https://llm.api.cloud.yandex.net/foundationModels/v1/completion\n",
      "Превышено количество неудачных запросов. Остановка процесса.\n",
      "Ошибка при отправке запроса: 401 Client Error: Unauthorized for url: https://llm.api.cloud.yandex.net/foundationModels/v1/completion\n",
      "Превышено количество неудачных запросов. Остановка процесса.\n"
     ]
    },
    {
     "name": "stderr",
     "output_type": "stream",
     "text": [
      "Processing:  41%|████      | 134/325 [00:21<00:29,  6.43it/s]"
     ]
    },
    {
     "name": "stdout",
     "output_type": "stream",
     "text": [
      "Ошибка при отправке запроса: 401 Client Error: Unauthorized for url: https://llm.api.cloud.yandex.net/foundationModels/v1/completion\n",
      "Превышено количество неудачных запросов. Остановка процесса.\n",
      "Ошибка при отправке запроса: 401 Client Error: Unauthorized for url: https://llm.api.cloud.yandex.net/foundationModels/v1/completion\n",
      "Превышено количество неудачных запросов. Остановка процесса.\n"
     ]
    },
    {
     "name": "stderr",
     "output_type": "stream",
     "text": [
      "Processing:  42%|████▏     | 136/325 [00:21<00:29,  6.48it/s]"
     ]
    },
    {
     "name": "stdout",
     "output_type": "stream",
     "text": [
      "Ошибка при отправке запроса: 401 Client Error: Unauthorized for url: https://llm.api.cloud.yandex.net/foundationModels/v1/completion\n",
      "Превышено количество неудачных запросов. Остановка процесса.\n",
      "Ошибка при отправке запроса: 401 Client Error: Unauthorized for url: https://llm.api.cloud.yandex.net/foundationModels/v1/completion\n",
      "Превышено количество неудачных запросов. Остановка процесса.\n"
     ]
    },
    {
     "name": "stderr",
     "output_type": "stream",
     "text": [
      "Processing:  42%|████▏     | 138/325 [00:21<00:29,  6.32it/s]"
     ]
    },
    {
     "name": "stdout",
     "output_type": "stream",
     "text": [
      "Ошибка при отправке запроса: 401 Client Error: Unauthorized for url: https://llm.api.cloud.yandex.net/foundationModels/v1/completion\n",
      "Превышено количество неудачных запросов. Остановка процесса.\n",
      "Ошибка при отправке запроса: 401 Client Error: Unauthorized for url: https://llm.api.cloud.yandex.net/foundationModels/v1/completion\n",
      "Превышено количество неудачных запросов. Остановка процесса.\n"
     ]
    },
    {
     "name": "stderr",
     "output_type": "stream",
     "text": [
      "Processing:  43%|████▎     | 140/325 [00:22<00:29,  6.23it/s]"
     ]
    },
    {
     "name": "stdout",
     "output_type": "stream",
     "text": [
      "Ошибка при отправке запроса: 401 Client Error: Unauthorized for url: https://llm.api.cloud.yandex.net/foundationModels/v1/completion\n",
      "Превышено количество неудачных запросов. Остановка процесса.\n",
      "Ошибка при отправке запроса: 401 Client Error: Unauthorized for url: https://llm.api.cloud.yandex.net/foundationModels/v1/completion\n",
      "Превышено количество неудачных запросов. Остановка процесса.\n"
     ]
    },
    {
     "name": "stderr",
     "output_type": "stream",
     "text": [
      "Processing:  44%|████▎     | 142/325 [00:22<00:28,  6.31it/s]"
     ]
    },
    {
     "name": "stdout",
     "output_type": "stream",
     "text": [
      "Ошибка при отправке запроса: 401 Client Error: Unauthorized for url: https://llm.api.cloud.yandex.net/foundationModels/v1/completion\n",
      "Превышено количество неудачных запросов. Остановка процесса.\n",
      "Ошибка при отправке запроса: 401 Client Error: Unauthorized for url: https://llm.api.cloud.yandex.net/foundationModels/v1/completion\n",
      "Превышено количество неудачных запросов. Остановка процесса.\n"
     ]
    },
    {
     "name": "stderr",
     "output_type": "stream",
     "text": [
      "Processing:  44%|████▍     | 144/325 [00:22<00:29,  6.16it/s]"
     ]
    },
    {
     "name": "stdout",
     "output_type": "stream",
     "text": [
      "Ошибка при отправке запроса: 401 Client Error: Unauthorized for url: https://llm.api.cloud.yandex.net/foundationModels/v1/completion\n",
      "Превышено количество неудачных запросов. Остановка процесса.\n",
      "Ошибка при отправке запроса: 401 Client Error: Unauthorized for url: https://llm.api.cloud.yandex.net/foundationModels/v1/completion\n",
      "Превышено количество неудачных запросов. Остановка процесса.\n"
     ]
    },
    {
     "name": "stderr",
     "output_type": "stream",
     "text": [
      "Processing:  45%|████▍     | 146/325 [00:23<00:28,  6.30it/s]"
     ]
    },
    {
     "name": "stdout",
     "output_type": "stream",
     "text": [
      "Ошибка при отправке запроса: 401 Client Error: Unauthorized for url: https://llm.api.cloud.yandex.net/foundationModels/v1/completion\n",
      "Превышено количество неудачных запросов. Остановка процесса.\n",
      "Ошибка при отправке запроса: 401 Client Error: Unauthorized for url: https://llm.api.cloud.yandex.net/foundationModels/v1/completion\n",
      "Превышено количество неудачных запросов. Остановка процесса.\n"
     ]
    },
    {
     "name": "stderr",
     "output_type": "stream",
     "text": [
      "Processing:  46%|████▌     | 148/325 [00:23<00:28,  6.20it/s]"
     ]
    },
    {
     "name": "stdout",
     "output_type": "stream",
     "text": [
      "Ошибка при отправке запроса: 401 Client Error: Unauthorized for url: https://llm.api.cloud.yandex.net/foundationModels/v1/completion\n",
      "Превышено количество неудачных запросов. Остановка процесса.\n",
      "Ошибка при отправке запроса: 401 Client Error: Unauthorized for url: https://llm.api.cloud.yandex.net/foundationModels/v1/completion\n",
      "Превышено количество неудачных запросов. Остановка процесса.\n"
     ]
    },
    {
     "name": "stderr",
     "output_type": "stream",
     "text": [
      "Processing:  46%|████▌     | 150/325 [00:23<00:28,  6.16it/s]"
     ]
    },
    {
     "name": "stdout",
     "output_type": "stream",
     "text": [
      "Ошибка при отправке запроса: 401 Client Error: Unauthorized for url: https://llm.api.cloud.yandex.net/foundationModels/v1/completion\n",
      "Превышено количество неудачных запросов. Остановка процесса.\n",
      "Ошибка при отправке запроса: 401 Client Error: Unauthorized for url: https://llm.api.cloud.yandex.net/foundationModels/v1/completion\n",
      "Превышено количество неудачных запросов. Остановка процесса.\n"
     ]
    },
    {
     "name": "stderr",
     "output_type": "stream",
     "text": [
      "Processing:  47%|████▋     | 152/325 [00:24<00:27,  6.24it/s]"
     ]
    },
    {
     "name": "stdout",
     "output_type": "stream",
     "text": [
      "Ошибка при отправке запроса: 401 Client Error: Unauthorized for url: https://llm.api.cloud.yandex.net/foundationModels/v1/completion\n",
      "Превышено количество неудачных запросов. Остановка процесса.\n",
      "Ошибка при отправке запроса: 401 Client Error: Unauthorized for url: https://llm.api.cloud.yandex.net/foundationModels/v1/completion\n",
      "Превышено количество неудачных запросов. Остановка процесса.\n"
     ]
    },
    {
     "name": "stderr",
     "output_type": "stream",
     "text": [
      "Processing:  47%|████▋     | 154/325 [00:24<00:27,  6.27it/s]"
     ]
    },
    {
     "name": "stdout",
     "output_type": "stream",
     "text": [
      "Ошибка при отправке запроса: 401 Client Error: Unauthorized for url: https://llm.api.cloud.yandex.net/foundationModels/v1/completion\n",
      "Превышено количество неудачных запросов. Остановка процесса.\n",
      "Ошибка при отправке запроса: 401 Client Error: Unauthorized for url: https://llm.api.cloud.yandex.net/foundationModels/v1/completion\n",
      "Превышено количество неудачных запросов. Остановка процесса.\n"
     ]
    },
    {
     "name": "stderr",
     "output_type": "stream",
     "text": [
      "Processing:  48%|████▊     | 156/325 [00:24<00:27,  6.14it/s]"
     ]
    },
    {
     "name": "stdout",
     "output_type": "stream",
     "text": [
      "Ошибка при отправке запроса: 401 Client Error: Unauthorized for url: https://llm.api.cloud.yandex.net/foundationModels/v1/completion\n",
      "Превышено количество неудачных запросов. Остановка процесса.\n",
      "Ошибка при отправке запроса: 401 Client Error: Unauthorized for url: https://llm.api.cloud.yandex.net/foundationModels/v1/completion\n",
      "Превышено количество неудачных запросов. Остановка процесса.\n"
     ]
    },
    {
     "name": "stderr",
     "output_type": "stream",
     "text": [
      "Processing:  49%|████▊     | 158/325 [00:24<00:27,  6.14it/s]"
     ]
    },
    {
     "name": "stdout",
     "output_type": "stream",
     "text": [
      "Ошибка при отправке запроса: 401 Client Error: Unauthorized for url: https://llm.api.cloud.yandex.net/foundationModels/v1/completion\n",
      "Превышено количество неудачных запросов. Остановка процесса.\n",
      "Ошибка при отправке запроса: 401 Client Error: Unauthorized for url: https://llm.api.cloud.yandex.net/foundationModels/v1/completion\n",
      "Превышено количество неудачных запросов. Остановка процесса.\n"
     ]
    },
    {
     "name": "stderr",
     "output_type": "stream",
     "text": [
      "Processing:  49%|████▉     | 160/325 [00:25<00:27,  6.00it/s]"
     ]
    },
    {
     "name": "stdout",
     "output_type": "stream",
     "text": [
      "Ошибка при отправке запроса: 401 Client Error: Unauthorized for url: https://llm.api.cloud.yandex.net/foundationModels/v1/completion\n",
      "Превышено количество неудачных запросов. Остановка процесса.\n",
      "Ошибка при отправке запроса: 401 Client Error: Unauthorized for url: https://llm.api.cloud.yandex.net/foundationModels/v1/completion\n",
      "Превышено количество неудачных запросов. Остановка процесса.\n"
     ]
    },
    {
     "name": "stderr",
     "output_type": "stream",
     "text": [
      "Processing:  50%|████▉     | 162/325 [00:25<00:26,  6.26it/s]"
     ]
    },
    {
     "name": "stdout",
     "output_type": "stream",
     "text": [
      "Ошибка при отправке запроса: 401 Client Error: Unauthorized for url: https://llm.api.cloud.yandex.net/foundationModels/v1/completion\n",
      "Превышено количество неудачных запросов. Остановка процесса.\n",
      "Ошибка при отправке запроса: 401 Client Error: Unauthorized for url: https://llm.api.cloud.yandex.net/foundationModels/v1/completion\n",
      "Превышено количество неудачных запросов. Остановка процесса.\n"
     ]
    },
    {
     "name": "stderr",
     "output_type": "stream",
     "text": [
      "Processing:  50%|█████     | 164/325 [00:25<00:25,  6.27it/s]"
     ]
    },
    {
     "name": "stdout",
     "output_type": "stream",
     "text": [
      "Ошибка при отправке запроса: 401 Client Error: Unauthorized for url: https://llm.api.cloud.yandex.net/foundationModels/v1/completion\n",
      "Превышено количество неудачных запросов. Остановка процесса.\n",
      "Ошибка при отправке запроса: 401 Client Error: Unauthorized for url: https://llm.api.cloud.yandex.net/foundationModels/v1/completion\n",
      "Превышено количество неудачных запросов. Остановка процесса.\n"
     ]
    },
    {
     "name": "stderr",
     "output_type": "stream",
     "text": [
      "Processing:  51%|█████     | 166/325 [00:26<00:25,  6.22it/s]"
     ]
    },
    {
     "name": "stdout",
     "output_type": "stream",
     "text": [
      "Ошибка при отправке запроса: 401 Client Error: Unauthorized for url: https://llm.api.cloud.yandex.net/foundationModels/v1/completion\n",
      "Превышено количество неудачных запросов. Остановка процесса.\n",
      "Ошибка при отправке запроса: 401 Client Error: Unauthorized for url: https://llm.api.cloud.yandex.net/foundationModels/v1/completion\n",
      "Превышено количество неудачных запросов. Остановка процесса.\n"
     ]
    },
    {
     "name": "stderr",
     "output_type": "stream",
     "text": [
      "Processing:  52%|█████▏    | 168/325 [00:26<00:24,  6.33it/s]"
     ]
    },
    {
     "name": "stdout",
     "output_type": "stream",
     "text": [
      "Ошибка при отправке запроса: 401 Client Error: Unauthorized for url: https://llm.api.cloud.yandex.net/foundationModels/v1/completion\n",
      "Превышено количество неудачных запросов. Остановка процесса.\n",
      "Ошибка при отправке запроса: 401 Client Error: Unauthorized for url: https://llm.api.cloud.yandex.net/foundationModels/v1/completion\n",
      "Превышено количество неудачных запросов. Остановка процесса.\n"
     ]
    },
    {
     "name": "stderr",
     "output_type": "stream",
     "text": [
      "Processing:  52%|█████▏    | 170/325 [00:26<00:23,  6.67it/s]"
     ]
    },
    {
     "name": "stdout",
     "output_type": "stream",
     "text": [
      "Ошибка при отправке запроса: 401 Client Error: Unauthorized for url: https://llm.api.cloud.yandex.net/foundationModels/v1/completion\n",
      "Превышено количество неудачных запросов. Остановка процесса.\n",
      "Ошибка при отправке запроса: 401 Client Error: Unauthorized for url: https://llm.api.cloud.yandex.net/foundationModels/v1/completion\n",
      "Превышено количество неудачных запросов. Остановка процесса.\n"
     ]
    },
    {
     "name": "stderr",
     "output_type": "stream",
     "text": [
      "Processing:  53%|█████▎    | 172/325 [00:27<00:23,  6.63it/s]"
     ]
    },
    {
     "name": "stdout",
     "output_type": "stream",
     "text": [
      "Ошибка при отправке запроса: 401 Client Error: Unauthorized for url: https://llm.api.cloud.yandex.net/foundationModels/v1/completion\n",
      "Превышено количество неудачных запросов. Остановка процесса.\n",
      "Ошибка при отправке запроса: 401 Client Error: Unauthorized for url: https://llm.api.cloud.yandex.net/foundationModels/v1/completion\n",
      "Превышено количество неудачных запросов. Остановка процесса.\n"
     ]
    },
    {
     "name": "stderr",
     "output_type": "stream",
     "text": [
      "Processing:  54%|█████▎    | 174/325 [00:27<00:22,  6.72it/s]"
     ]
    },
    {
     "name": "stdout",
     "output_type": "stream",
     "text": [
      "Ошибка при отправке запроса: 401 Client Error: Unauthorized for url: https://llm.api.cloud.yandex.net/foundationModels/v1/completion\n",
      "Превышено количество неудачных запросов. Остановка процесса.\n",
      "Ошибка при отправке запроса: 401 Client Error: Unauthorized for url: https://llm.api.cloud.yandex.net/foundationModels/v1/completion\n",
      "Превышено количество неудачных запросов. Остановка процесса.\n"
     ]
    },
    {
     "name": "stderr",
     "output_type": "stream",
     "text": [
      "Processing:  54%|█████▍    | 176/325 [00:27<00:22,  6.62it/s]"
     ]
    },
    {
     "name": "stdout",
     "output_type": "stream",
     "text": [
      "Ошибка при отправке запроса: 401 Client Error: Unauthorized for url: https://llm.api.cloud.yandex.net/foundationModels/v1/completion\n",
      "Превышено количество неудачных запросов. Остановка процесса.\n",
      "Ошибка при отправке запроса: 401 Client Error: Unauthorized for url: https://llm.api.cloud.yandex.net/foundationModels/v1/completion\n",
      "Превышено количество неудачных запросов. Остановка процесса.\n"
     ]
    },
    {
     "name": "stderr",
     "output_type": "stream",
     "text": [
      "Processing:  55%|█████▍    | 178/325 [00:28<00:22,  6.46it/s]"
     ]
    },
    {
     "name": "stdout",
     "output_type": "stream",
     "text": [
      "Ошибка при отправке запроса: 401 Client Error: Unauthorized for url: https://llm.api.cloud.yandex.net/foundationModels/v1/completion\n",
      "Превышено количество неудачных запросов. Остановка процесса.\n",
      "Ошибка при отправке запроса: 401 Client Error: Unauthorized for url: https://llm.api.cloud.yandex.net/foundationModels/v1/completion\n",
      "Превышено количество неудачных запросов. Остановка процесса.\n"
     ]
    },
    {
     "name": "stderr",
     "output_type": "stream",
     "text": [
      "Processing:  55%|█████▌    | 180/325 [00:28<00:21,  6.67it/s]"
     ]
    },
    {
     "name": "stdout",
     "output_type": "stream",
     "text": [
      "Ошибка при отправке запроса: 401 Client Error: Unauthorized for url: https://llm.api.cloud.yandex.net/foundationModels/v1/completion\n",
      "Превышено количество неудачных запросов. Остановка процесса.\n",
      "Ошибка при отправке запроса: 401 Client Error: Unauthorized for url: https://llm.api.cloud.yandex.net/foundationModels/v1/completion\n",
      "Превышено количество неудачных запросов. Остановка процесса.\n"
     ]
    },
    {
     "name": "stderr",
     "output_type": "stream",
     "text": [
      "Processing:  56%|█████▌    | 182/325 [00:28<00:21,  6.72it/s]"
     ]
    },
    {
     "name": "stdout",
     "output_type": "stream",
     "text": [
      "Ошибка при отправке запроса: 401 Client Error: Unauthorized for url: https://llm.api.cloud.yandex.net/foundationModels/v1/completion\n",
      "Превышено количество неудачных запросов. Остановка процесса.\n",
      "Ошибка при отправке запроса: 401 Client Error: Unauthorized for url: https://llm.api.cloud.yandex.net/foundationModels/v1/completion\n",
      "Превышено количество неудачных запросов. Остановка процесса.\n"
     ]
    },
    {
     "name": "stderr",
     "output_type": "stream",
     "text": [
      "Processing:  57%|█████▋    | 184/325 [00:28<00:21,  6.59it/s]"
     ]
    },
    {
     "name": "stdout",
     "output_type": "stream",
     "text": [
      "Ошибка при отправке запроса: 401 Client Error: Unauthorized for url: https://llm.api.cloud.yandex.net/foundationModels/v1/completion\n",
      "Превышено количество неудачных запросов. Остановка процесса.\n",
      "Ошибка при отправке запроса: 401 Client Error: Unauthorized for url: https://llm.api.cloud.yandex.net/foundationModels/v1/completion\n",
      "Превышено количество неудачных запросов. Остановка процесса.\n"
     ]
    },
    {
     "name": "stderr",
     "output_type": "stream",
     "text": [
      "Processing:  57%|█████▋    | 186/325 [00:29<00:21,  6.49it/s]"
     ]
    },
    {
     "name": "stdout",
     "output_type": "stream",
     "text": [
      "Ошибка при отправке запроса: 401 Client Error: Unauthorized for url: https://llm.api.cloud.yandex.net/foundationModels/v1/completion\n",
      "Превышено количество неудачных запросов. Остановка процесса.\n",
      "Ошибка при отправке запроса: 401 Client Error: Unauthorized for url: https://llm.api.cloud.yandex.net/foundationModels/v1/completion\n",
      "Превышено количество неудачных запросов. Остановка процесса.\n"
     ]
    },
    {
     "name": "stderr",
     "output_type": "stream",
     "text": [
      "Processing:  58%|█████▊    | 188/325 [00:29<00:20,  6.60it/s]"
     ]
    },
    {
     "name": "stdout",
     "output_type": "stream",
     "text": [
      "Ошибка при отправке запроса: 401 Client Error: Unauthorized for url: https://llm.api.cloud.yandex.net/foundationModels/v1/completion\n",
      "Превышено количество неудачных запросов. Остановка процесса.\n",
      "Ошибка при отправке запроса: 401 Client Error: Unauthorized for url: https://llm.api.cloud.yandex.net/foundationModels/v1/completion\n",
      "Превышено количество неудачных запросов. Остановка процесса.\n"
     ]
    },
    {
     "name": "stderr",
     "output_type": "stream",
     "text": [
      "Processing:  58%|█████▊    | 190/325 [00:29<00:20,  6.70it/s]"
     ]
    },
    {
     "name": "stdout",
     "output_type": "stream",
     "text": [
      "Ошибка при отправке запроса: 401 Client Error: Unauthorized for url: https://llm.api.cloud.yandex.net/foundationModels/v1/completion\n",
      "Превышено количество неудачных запросов. Остановка процесса.\n",
      "Ошибка при отправке запроса: 401 Client Error: Unauthorized for url: https://llm.api.cloud.yandex.net/foundationModels/v1/completion\n",
      "Превышено количество неудачных запросов. Остановка процесса.\n"
     ]
    },
    {
     "name": "stderr",
     "output_type": "stream",
     "text": [
      "Processing:  59%|█████▉    | 192/325 [00:30<00:20,  6.55it/s]"
     ]
    },
    {
     "name": "stdout",
     "output_type": "stream",
     "text": [
      "Ошибка при отправке запроса: 401 Client Error: Unauthorized for url: https://llm.api.cloud.yandex.net/foundationModels/v1/completion\n",
      "Превышено количество неудачных запросов. Остановка процесса.\n",
      "Ошибка при отправке запроса: 401 Client Error: Unauthorized for url: https://llm.api.cloud.yandex.net/foundationModels/v1/completion\n",
      "Превышено количество неудачных запросов. Остановка процесса.\n"
     ]
    },
    {
     "name": "stderr",
     "output_type": "stream",
     "text": [
      "Processing:  60%|█████▉    | 194/325 [00:30<00:21,  6.16it/s]"
     ]
    },
    {
     "name": "stdout",
     "output_type": "stream",
     "text": [
      "Ошибка при отправке запроса: 401 Client Error: Unauthorized for url: https://llm.api.cloud.yandex.net/foundationModels/v1/completion\n",
      "Превышено количество неудачных запросов. Остановка процесса.\n",
      "Ошибка при отправке запроса: 401 Client Error: Unauthorized for url: https://llm.api.cloud.yandex.net/foundationModels/v1/completion\n",
      "Превышено количество неудачных запросов. Остановка процесса.\n"
     ]
    },
    {
     "name": "stderr",
     "output_type": "stream",
     "text": [
      "Processing:  60%|██████    | 196/325 [00:30<00:20,  6.42it/s]"
     ]
    },
    {
     "name": "stdout",
     "output_type": "stream",
     "text": [
      "Ошибка при отправке запроса: 401 Client Error: Unauthorized for url: https://llm.api.cloud.yandex.net/foundationModels/v1/completion\n",
      "Превышено количество неудачных запросов. Остановка процесса.\n",
      "Ошибка при отправке запроса: 401 Client Error: Unauthorized for url: https://llm.api.cloud.yandex.net/foundationModels/v1/completion\n",
      "Превышено количество неудачных запросов. Остановка процесса.\n"
     ]
    },
    {
     "name": "stderr",
     "output_type": "stream",
     "text": [
      "Processing:  61%|██████    | 198/325 [00:31<00:20,  6.21it/s]"
     ]
    },
    {
     "name": "stdout",
     "output_type": "stream",
     "text": [
      "Ошибка при отправке запроса: 401 Client Error: Unauthorized for url: https://llm.api.cloud.yandex.net/foundationModels/v1/completion\n",
      "Превышено количество неудачных запросов. Остановка процесса.\n",
      "Ошибка при отправке запроса: 401 Client Error: Unauthorized for url: https://llm.api.cloud.yandex.net/foundationModels/v1/completion\n",
      "Превышено количество неудачных запросов. Остановка процесса.\n"
     ]
    },
    {
     "name": "stderr",
     "output_type": "stream",
     "text": [
      "Processing:  62%|██████▏   | 200/325 [00:31<00:19,  6.42it/s]"
     ]
    },
    {
     "name": "stdout",
     "output_type": "stream",
     "text": [
      "Ошибка при отправке запроса: 401 Client Error: Unauthorized for url: https://llm.api.cloud.yandex.net/foundationModels/v1/completion\n",
      "Превышено количество неудачных запросов. Остановка процесса.\n",
      "Ошибка при отправке запроса: 401 Client Error: Unauthorized for url: https://llm.api.cloud.yandex.net/foundationModels/v1/completion\n",
      "Превышено количество неудачных запросов. Остановка процесса.\n"
     ]
    },
    {
     "name": "stderr",
     "output_type": "stream",
     "text": [
      "Processing:  62%|██████▏   | 202/325 [00:31<00:19,  6.31it/s]"
     ]
    },
    {
     "name": "stdout",
     "output_type": "stream",
     "text": [
      "Ошибка при отправке запроса: 401 Client Error: Unauthorized for url: https://llm.api.cloud.yandex.net/foundationModels/v1/completion\n",
      "Превышено количество неудачных запросов. Остановка процесса.\n",
      "Ошибка при отправке запроса: 401 Client Error: Unauthorized for url: https://llm.api.cloud.yandex.net/foundationModels/v1/completion\n",
      "Превышено количество неудачных запросов. Остановка процесса.\n"
     ]
    },
    {
     "name": "stderr",
     "output_type": "stream",
     "text": [
      "Processing:  63%|██████▎   | 204/325 [00:32<00:22,  5.48it/s]"
     ]
    },
    {
     "name": "stdout",
     "output_type": "stream",
     "text": [
      "Ошибка при отправке запроса: 401 Client Error: Unauthorized for url: https://llm.api.cloud.yandex.net/foundationModels/v1/completion\n",
      "Превышено количество неудачных запросов. Остановка процесса.\n",
      "Ошибка при отправке запроса: 401 Client Error: Unauthorized for url: https://llm.api.cloud.yandex.net/foundationModels/v1/completion\n",
      "Превышено количество неудачных запросов. Остановка процесса.\n"
     ]
    },
    {
     "name": "stderr",
     "output_type": "stream",
     "text": [
      "Processing:  63%|██████▎   | 206/325 [00:32<00:21,  5.64it/s]"
     ]
    },
    {
     "name": "stdout",
     "output_type": "stream",
     "text": [
      "Ошибка при отправке запроса: 401 Client Error: Unauthorized for url: https://llm.api.cloud.yandex.net/foundationModels/v1/completion\n",
      "Превышено количество неудачных запросов. Остановка процесса.\n",
      "Ошибка при отправке запроса: 401 Client Error: Unauthorized for url: https://llm.api.cloud.yandex.net/foundationModels/v1/completion\n",
      "Превышено количество неудачных запросов. Остановка процесса.\n"
     ]
    },
    {
     "name": "stderr",
     "output_type": "stream",
     "text": [
      "Processing:  64%|██████▍   | 208/325 [00:32<00:19,  5.91it/s]"
     ]
    },
    {
     "name": "stdout",
     "output_type": "stream",
     "text": [
      "Ошибка при отправке запроса: 401 Client Error: Unauthorized for url: https://llm.api.cloud.yandex.net/foundationModels/v1/completion\n",
      "Превышено количество неудачных запросов. Остановка процесса.\n",
      "Ошибка при отправке запроса: 401 Client Error: Unauthorized for url: https://llm.api.cloud.yandex.net/foundationModels/v1/completion\n",
      "Превышено количество неудачных запросов. Остановка процесса.\n"
     ]
    },
    {
     "name": "stderr",
     "output_type": "stream",
     "text": [
      "Processing:  65%|██████▍   | 210/325 [00:33<00:18,  6.10it/s]"
     ]
    },
    {
     "name": "stdout",
     "output_type": "stream",
     "text": [
      "Ошибка при отправке запроса: 401 Client Error: Unauthorized for url: https://llm.api.cloud.yandex.net/foundationModels/v1/completion\n",
      "Превышено количество неудачных запросов. Остановка процесса.\n",
      "Ошибка при отправке запроса: 401 Client Error: Unauthorized for url: https://llm.api.cloud.yandex.net/foundationModels/v1/completion\n",
      "Превышено количество неудачных запросов. Остановка процесса.\n"
     ]
    },
    {
     "name": "stderr",
     "output_type": "stream",
     "text": [
      "Processing:  65%|██████▌   | 212/325 [00:33<00:17,  6.35it/s]"
     ]
    },
    {
     "name": "stdout",
     "output_type": "stream",
     "text": [
      "Ошибка при отправке запроса: 401 Client Error: Unauthorized for url: https://llm.api.cloud.yandex.net/foundationModels/v1/completion\n",
      "Превышено количество неудачных запросов. Остановка процесса.\n",
      "Ошибка при отправке запроса: 401 Client Error: Unauthorized for url: https://llm.api.cloud.yandex.net/foundationModels/v1/completion\n",
      "Превышено количество неудачных запросов. Остановка процесса.\n"
     ]
    },
    {
     "name": "stderr",
     "output_type": "stream",
     "text": [
      "Processing:  66%|██████▌   | 214/325 [00:33<00:17,  6.33it/s]"
     ]
    },
    {
     "name": "stdout",
     "output_type": "stream",
     "text": [
      "Ошибка при отправке запроса: 401 Client Error: Unauthorized for url: https://llm.api.cloud.yandex.net/foundationModels/v1/completion\n",
      "Превышено количество неудачных запросов. Остановка процесса.\n",
      "Ошибка при отправке запроса: 401 Client Error: Unauthorized for url: https://llm.api.cloud.yandex.net/foundationModels/v1/completion\n",
      "Превышено количество неудачных запросов. Остановка процесса.\n"
     ]
    },
    {
     "name": "stderr",
     "output_type": "stream",
     "text": [
      "Processing:  66%|██████▋   | 216/325 [00:34<00:17,  6.36it/s]"
     ]
    },
    {
     "name": "stdout",
     "output_type": "stream",
     "text": [
      "Ошибка при отправке запроса: 401 Client Error: Unauthorized for url: https://llm.api.cloud.yandex.net/foundationModels/v1/completion\n",
      "Превышено количество неудачных запросов. Остановка процесса.\n",
      "Ошибка при отправке запроса: 401 Client Error: Unauthorized for url: https://llm.api.cloud.yandex.net/foundationModels/v1/completion\n",
      "Превышено количество неудачных запросов. Остановка процесса.\n"
     ]
    },
    {
     "name": "stderr",
     "output_type": "stream",
     "text": [
      "Processing:  67%|██████▋   | 218/325 [00:34<00:16,  6.53it/s]"
     ]
    },
    {
     "name": "stdout",
     "output_type": "stream",
     "text": [
      "Ошибка при отправке запроса: 401 Client Error: Unauthorized for url: https://llm.api.cloud.yandex.net/foundationModels/v1/completion\n",
      "Превышено количество неудачных запросов. Остановка процесса.\n",
      "Ошибка при отправке запроса: 401 Client Error: Unauthorized for url: https://llm.api.cloud.yandex.net/foundationModels/v1/completion\n",
      "Превышено количество неудачных запросов. Остановка процесса.\n"
     ]
    },
    {
     "name": "stderr",
     "output_type": "stream",
     "text": [
      "Processing:  68%|██████▊   | 220/325 [00:34<00:16,  6.27it/s]"
     ]
    },
    {
     "name": "stdout",
     "output_type": "stream",
     "text": [
      "Ошибка при отправке запроса: 401 Client Error: Unauthorized for url: https://llm.api.cloud.yandex.net/foundationModels/v1/completion\n",
      "Превышено количество неудачных запросов. Остановка процесса.\n",
      "Ошибка при отправке запроса: 401 Client Error: Unauthorized for url: https://llm.api.cloud.yandex.net/foundationModels/v1/completion\n",
      "Превышено количество неудачных запросов. Остановка процесса.\n"
     ]
    },
    {
     "name": "stderr",
     "output_type": "stream",
     "text": [
      "Processing:  68%|██████▊   | 222/325 [00:35<00:17,  6.05it/s]"
     ]
    },
    {
     "name": "stdout",
     "output_type": "stream",
     "text": [
      "Ошибка при отправке запроса: 401 Client Error: Unauthorized for url: https://llm.api.cloud.yandex.net/foundationModels/v1/completion\n",
      "Превышено количество неудачных запросов. Остановка процесса.\n",
      "Ошибка при отправке запроса: 401 Client Error: Unauthorized for url: https://llm.api.cloud.yandex.net/foundationModels/v1/completion\n",
      "Превышено количество неудачных запросов. Остановка процесса.\n"
     ]
    },
    {
     "name": "stderr",
     "output_type": "stream",
     "text": [
      "Processing:  69%|██████▉   | 224/325 [00:35<00:16,  6.03it/s]"
     ]
    },
    {
     "name": "stdout",
     "output_type": "stream",
     "text": [
      "Ошибка при отправке запроса: 401 Client Error: Unauthorized for url: https://llm.api.cloud.yandex.net/foundationModels/v1/completion\n",
      "Превышено количество неудачных запросов. Остановка процесса.\n",
      "Ошибка при отправке запроса: 401 Client Error: Unauthorized for url: https://llm.api.cloud.yandex.net/foundationModels/v1/completion\n",
      "Превышено количество неудачных запросов. Остановка процесса.\n"
     ]
    },
    {
     "name": "stderr",
     "output_type": "stream",
     "text": [
      "Processing:  70%|██████▉   | 226/325 [00:35<00:15,  6.39it/s]"
     ]
    },
    {
     "name": "stdout",
     "output_type": "stream",
     "text": [
      "Ошибка при отправке запроса: 401 Client Error: Unauthorized for url: https://llm.api.cloud.yandex.net/foundationModels/v1/completion\n",
      "Превышено количество неудачных запросов. Остановка процесса.\n",
      "Ошибка при отправке запроса: 401 Client Error: Unauthorized for url: https://llm.api.cloud.yandex.net/foundationModels/v1/completion\n",
      "Превышено количество неудачных запросов. Остановка процесса.\n"
     ]
    },
    {
     "name": "stderr",
     "output_type": "stream",
     "text": [
      "Processing:  70%|███████   | 228/325 [00:36<00:15,  6.37it/s]"
     ]
    },
    {
     "name": "stdout",
     "output_type": "stream",
     "text": [
      "Ошибка при отправке запроса: 401 Client Error: Unauthorized for url: https://llm.api.cloud.yandex.net/foundationModels/v1/completion\n",
      "Превышено количество неудачных запросов. Остановка процесса.\n",
      "Ошибка при отправке запроса: 401 Client Error: Unauthorized for url: https://llm.api.cloud.yandex.net/foundationModels/v1/completion\n",
      "Превышено количество неудачных запросов. Остановка процесса.\n"
     ]
    },
    {
     "name": "stderr",
     "output_type": "stream",
     "text": [
      "Processing:  71%|███████   | 230/325 [00:36<00:14,  6.48it/s]"
     ]
    },
    {
     "name": "stdout",
     "output_type": "stream",
     "text": [
      "Ошибка при отправке запроса: 401 Client Error: Unauthorized for url: https://llm.api.cloud.yandex.net/foundationModels/v1/completion\n",
      "Превышено количество неудачных запросов. Остановка процесса.\n",
      "Ошибка при отправке запроса: 401 Client Error: Unauthorized for url: https://llm.api.cloud.yandex.net/foundationModels/v1/completion\n",
      "Превышено количество неудачных запросов. Остановка процесса.\n"
     ]
    },
    {
     "name": "stderr",
     "output_type": "stream",
     "text": [
      "Processing:  71%|███████▏  | 232/325 [00:36<00:14,  6.51it/s]"
     ]
    },
    {
     "name": "stdout",
     "output_type": "stream",
     "text": [
      "Ошибка при отправке запроса: 401 Client Error: Unauthorized for url: https://llm.api.cloud.yandex.net/foundationModels/v1/completion\n",
      "Превышено количество неудачных запросов. Остановка процесса.\n",
      "Ошибка при отправке запроса: 401 Client Error: Unauthorized for url: https://llm.api.cloud.yandex.net/foundationModels/v1/completion\n",
      "Превышено количество неудачных запросов. Остановка процесса.\n"
     ]
    },
    {
     "name": "stderr",
     "output_type": "stream",
     "text": [
      "Processing:  72%|███████▏  | 234/325 [00:36<00:13,  6.66it/s]"
     ]
    },
    {
     "name": "stdout",
     "output_type": "stream",
     "text": [
      "Ошибка при отправке запроса: 401 Client Error: Unauthorized for url: https://llm.api.cloud.yandex.net/foundationModels/v1/completion\n",
      "Превышено количество неудачных запросов. Остановка процесса.\n",
      "Ошибка при отправке запроса: 401 Client Error: Unauthorized for url: https://llm.api.cloud.yandex.net/foundationModels/v1/completion\n",
      "Превышено количество неудачных запросов. Остановка процесса.\n"
     ]
    },
    {
     "name": "stderr",
     "output_type": "stream",
     "text": [
      "Processing:  73%|███████▎  | 236/325 [00:37<00:13,  6.72it/s]"
     ]
    },
    {
     "name": "stdout",
     "output_type": "stream",
     "text": [
      "Ошибка при отправке запроса: 401 Client Error: Unauthorized for url: https://llm.api.cloud.yandex.net/foundationModels/v1/completion\n",
      "Превышено количество неудачных запросов. Остановка процесса.\n",
      "Ошибка при отправке запроса: 401 Client Error: Unauthorized for url: https://llm.api.cloud.yandex.net/foundationModels/v1/completion\n",
      "Превышено количество неудачных запросов. Остановка процесса.\n"
     ]
    },
    {
     "name": "stderr",
     "output_type": "stream",
     "text": [
      "Processing:  73%|███████▎  | 238/325 [00:37<00:13,  6.60it/s]"
     ]
    },
    {
     "name": "stdout",
     "output_type": "stream",
     "text": [
      "Ошибка при отправке запроса: 401 Client Error: Unauthorized for url: https://llm.api.cloud.yandex.net/foundationModels/v1/completion\n",
      "Превышено количество неудачных запросов. Остановка процесса.\n",
      "Ошибка при отправке запроса: 401 Client Error: Unauthorized for url: https://llm.api.cloud.yandex.net/foundationModels/v1/completion\n",
      "Превышено количество неудачных запросов. Остановка процесса.\n"
     ]
    },
    {
     "name": "stderr",
     "output_type": "stream",
     "text": [
      "Processing:  74%|███████▍  | 240/325 [00:37<00:12,  6.55it/s]"
     ]
    },
    {
     "name": "stdout",
     "output_type": "stream",
     "text": [
      "Ошибка при отправке запроса: 401 Client Error: Unauthorized for url: https://llm.api.cloud.yandex.net/foundationModels/v1/completion\n",
      "Превышено количество неудачных запросов. Остановка процесса.\n",
      "Ошибка при отправке запроса: 401 Client Error: Unauthorized for url: https://llm.api.cloud.yandex.net/foundationModels/v1/completion\n",
      "Превышено количество неудачных запросов. Остановка процесса.\n"
     ]
    },
    {
     "name": "stderr",
     "output_type": "stream",
     "text": [
      "Processing:  74%|███████▍  | 242/325 [00:38<00:12,  6.67it/s]"
     ]
    },
    {
     "name": "stdout",
     "output_type": "stream",
     "text": [
      "Ошибка при отправке запроса: 401 Client Error: Unauthorized for url: https://llm.api.cloud.yandex.net/foundationModels/v1/completion\n",
      "Превышено количество неудачных запросов. Остановка процесса.\n",
      "Ошибка при отправке запроса: 401 Client Error: Unauthorized for url: https://llm.api.cloud.yandex.net/foundationModels/v1/completion\n",
      "Превышено количество неудачных запросов. Остановка процесса.\n"
     ]
    },
    {
     "name": "stderr",
     "output_type": "stream",
     "text": [
      "Processing:  75%|███████▌  | 244/325 [00:38<00:12,  6.45it/s]"
     ]
    },
    {
     "name": "stdout",
     "output_type": "stream",
     "text": [
      "Ошибка при отправке запроса: 401 Client Error: Unauthorized for url: https://llm.api.cloud.yandex.net/foundationModels/v1/completion\n",
      "Превышено количество неудачных запросов. Остановка процесса.\n",
      "Ошибка при отправке запроса: 401 Client Error: Unauthorized for url: https://llm.api.cloud.yandex.net/foundationModels/v1/completion\n",
      "Превышено количество неудачных запросов. Остановка процесса.\n"
     ]
    },
    {
     "name": "stderr",
     "output_type": "stream",
     "text": [
      "Processing:  76%|███████▌  | 246/325 [00:38<00:11,  6.67it/s]"
     ]
    },
    {
     "name": "stdout",
     "output_type": "stream",
     "text": [
      "Ошибка при отправке запроса: 401 Client Error: Unauthorized for url: https://llm.api.cloud.yandex.net/foundationModels/v1/completion\n",
      "Превышено количество неудачных запросов. Остановка процесса.\n",
      "Ошибка при отправке запроса: 401 Client Error: Unauthorized for url: https://llm.api.cloud.yandex.net/foundationModels/v1/completion\n",
      "Превышено количество неудачных запросов. Остановка процесса.\n"
     ]
    },
    {
     "name": "stderr",
     "output_type": "stream",
     "text": [
      "Processing:  76%|███████▋  | 248/325 [00:39<00:11,  6.67it/s]"
     ]
    },
    {
     "name": "stdout",
     "output_type": "stream",
     "text": [
      "Ошибка при отправке запроса: 401 Client Error: Unauthorized for url: https://llm.api.cloud.yandex.net/foundationModels/v1/completion\n",
      "Превышено количество неудачных запросов. Остановка процесса.\n",
      "Ошибка при отправке запроса: 401 Client Error: Unauthorized for url: https://llm.api.cloud.yandex.net/foundationModels/v1/completion\n",
      "Превышено количество неудачных запросов. Остановка процесса.\n"
     ]
    },
    {
     "name": "stderr",
     "output_type": "stream",
     "text": [
      "Processing:  77%|███████▋  | 250/325 [00:39<00:11,  6.57it/s]"
     ]
    },
    {
     "name": "stdout",
     "output_type": "stream",
     "text": [
      "Ошибка при отправке запроса: 401 Client Error: Unauthorized for url: https://llm.api.cloud.yandex.net/foundationModels/v1/completion\n",
      "Превышено количество неудачных запросов. Остановка процесса.\n",
      "Ошибка при отправке запроса: 401 Client Error: Unauthorized for url: https://llm.api.cloud.yandex.net/foundationModels/v1/completion\n",
      "Превышено количество неудачных запросов. Остановка процесса.\n"
     ]
    },
    {
     "name": "stderr",
     "output_type": "stream",
     "text": [
      "Processing:  78%|███████▊  | 252/325 [00:39<00:11,  6.45it/s]"
     ]
    },
    {
     "name": "stdout",
     "output_type": "stream",
     "text": [
      "Ошибка при отправке запроса: 401 Client Error: Unauthorized for url: https://llm.api.cloud.yandex.net/foundationModels/v1/completion\n",
      "Превышено количество неудачных запросов. Остановка процесса.\n",
      "Ошибка при отправке запроса: 401 Client Error: Unauthorized for url: https://llm.api.cloud.yandex.net/foundationModels/v1/completion\n",
      "Превышено количество неудачных запросов. Остановка процесса.\n"
     ]
    },
    {
     "name": "stderr",
     "output_type": "stream",
     "text": [
      "Processing:  78%|███████▊  | 254/325 [00:39<00:10,  6.62it/s]"
     ]
    },
    {
     "name": "stdout",
     "output_type": "stream",
     "text": [
      "Ошибка при отправке запроса: 401 Client Error: Unauthorized for url: https://llm.api.cloud.yandex.net/foundationModels/v1/completion\n",
      "Превышено количество неудачных запросов. Остановка процесса.\n",
      "Ошибка при отправке запроса: 401 Client Error: Unauthorized for url: https://llm.api.cloud.yandex.net/foundationModels/v1/completion\n",
      "Превышено количество неудачных запросов. Остановка процесса.\n"
     ]
    },
    {
     "name": "stderr",
     "output_type": "stream",
     "text": [
      "Processing:  79%|███████▉  | 256/325 [00:40<00:10,  6.68it/s]"
     ]
    },
    {
     "name": "stdout",
     "output_type": "stream",
     "text": [
      "Ошибка при отправке запроса: 401 Client Error: Unauthorized for url: https://llm.api.cloud.yandex.net/foundationModels/v1/completion\n",
      "Превышено количество неудачных запросов. Остановка процесса.\n",
      "Ошибка при отправке запроса: 401 Client Error: Unauthorized for url: https://llm.api.cloud.yandex.net/foundationModels/v1/completion\n",
      "Превышено количество неудачных запросов. Остановка процесса.\n"
     ]
    },
    {
     "name": "stderr",
     "output_type": "stream",
     "text": [
      "Processing:  79%|███████▉  | 258/325 [00:40<00:09,  6.76it/s]"
     ]
    },
    {
     "name": "stdout",
     "output_type": "stream",
     "text": [
      "Ошибка при отправке запроса: 401 Client Error: Unauthorized for url: https://llm.api.cloud.yandex.net/foundationModels/v1/completion\n",
      "Превышено количество неудачных запросов. Остановка процесса.\n",
      "Ошибка при отправке запроса: 401 Client Error: Unauthorized for url: https://llm.api.cloud.yandex.net/foundationModels/v1/completion\n",
      "Превышено количество неудачных запросов. Остановка процесса.\n"
     ]
    },
    {
     "name": "stderr",
     "output_type": "stream",
     "text": [
      "Processing:  80%|████████  | 260/325 [00:40<00:09,  6.52it/s]"
     ]
    },
    {
     "name": "stdout",
     "output_type": "stream",
     "text": [
      "Ошибка при отправке запроса: 401 Client Error: Unauthorized for url: https://llm.api.cloud.yandex.net/foundationModels/v1/completion\n",
      "Превышено количество неудачных запросов. Остановка процесса.\n",
      "Ошибка при отправке запроса: 401 Client Error: Unauthorized for url: https://llm.api.cloud.yandex.net/foundationModels/v1/completion\n",
      "Превышено количество неудачных запросов. Остановка процесса.\n"
     ]
    },
    {
     "name": "stderr",
     "output_type": "stream",
     "text": [
      "Processing:  81%|████████  | 262/325 [00:41<00:09,  6.50it/s]"
     ]
    },
    {
     "name": "stdout",
     "output_type": "stream",
     "text": [
      "Ошибка при отправке запроса: 401 Client Error: Unauthorized for url: https://llm.api.cloud.yandex.net/foundationModels/v1/completion\n",
      "Превышено количество неудачных запросов. Остановка процесса.\n",
      "Ошибка при отправке запроса: 401 Client Error: Unauthorized for url: https://llm.api.cloud.yandex.net/foundationModels/v1/completion\n",
      "Превышено количество неудачных запросов. Остановка процесса.\n"
     ]
    },
    {
     "name": "stderr",
     "output_type": "stream",
     "text": [
      "Processing:  81%|████████  | 264/325 [00:41<00:13,  4.59it/s]"
     ]
    },
    {
     "name": "stdout",
     "output_type": "stream",
     "text": [
      "Ошибка при отправке запроса: 401 Client Error: Unauthorized for url: https://llm.api.cloud.yandex.net/foundationModels/v1/completion\n",
      "Превышено количество неудачных запросов. Остановка процесса.\n",
      "Ошибка при отправке запроса: 401 Client Error: Unauthorized for url: https://llm.api.cloud.yandex.net/foundationModels/v1/completion\n",
      "Превышено количество неудачных запросов. Остановка процесса.\n"
     ]
    },
    {
     "name": "stderr",
     "output_type": "stream",
     "text": [
      "Processing:  82%|████████▏ | 266/325 [00:41<00:10,  5.48it/s]"
     ]
    },
    {
     "name": "stdout",
     "output_type": "stream",
     "text": [
      "Ошибка при отправке запроса: 401 Client Error: Unauthorized for url: https://llm.api.cloud.yandex.net/foundationModels/v1/completion\n",
      "Превышено количество неудачных запросов. Остановка процесса.\n",
      "Ошибка при отправке запроса: 401 Client Error: Unauthorized for url: https://llm.api.cloud.yandex.net/foundationModels/v1/completion\n",
      "Превышено количество неудачных запросов. Остановка процесса.\n"
     ]
    },
    {
     "name": "stderr",
     "output_type": "stream",
     "text": [
      "Processing:  82%|████████▏ | 268/325 [00:42<00:09,  5.91it/s]"
     ]
    },
    {
     "name": "stdout",
     "output_type": "stream",
     "text": [
      "Ошибка при отправке запроса: 401 Client Error: Unauthorized for url: https://llm.api.cloud.yandex.net/foundationModels/v1/completion\n",
      "Превышено количество неудачных запросов. Остановка процесса.\n",
      "Ошибка при отправке запроса: 401 Client Error: Unauthorized for url: https://llm.api.cloud.yandex.net/foundationModels/v1/completion\n",
      "Превышено количество неудачных запросов. Остановка процесса.\n"
     ]
    },
    {
     "name": "stderr",
     "output_type": "stream",
     "text": [
      "Processing:  83%|████████▎ | 270/325 [00:42<00:08,  6.13it/s]"
     ]
    },
    {
     "name": "stdout",
     "output_type": "stream",
     "text": [
      "Ошибка при отправке запроса: 401 Client Error: Unauthorized for url: https://llm.api.cloud.yandex.net/foundationModels/v1/completion\n",
      "Превышено количество неудачных запросов. Остановка процесса.\n",
      "Ошибка при отправке запроса: 401 Client Error: Unauthorized for url: https://llm.api.cloud.yandex.net/foundationModels/v1/completion\n",
      "Превышено количество неудачных запросов. Остановка процесса.\n"
     ]
    },
    {
     "name": "stderr",
     "output_type": "stream",
     "text": [
      "Processing:  84%|████████▎ | 272/325 [00:42<00:08,  6.47it/s]"
     ]
    },
    {
     "name": "stdout",
     "output_type": "stream",
     "text": [
      "Ошибка при отправке запроса: 401 Client Error: Unauthorized for url: https://llm.api.cloud.yandex.net/foundationModels/v1/completion\n",
      "Превышено количество неудачных запросов. Остановка процесса.\n",
      "Ошибка при отправке запроса: 401 Client Error: Unauthorized for url: https://llm.api.cloud.yandex.net/foundationModels/v1/completion\n",
      "Превышено количество неудачных запросов. Остановка процесса.\n"
     ]
    },
    {
     "name": "stderr",
     "output_type": "stream",
     "text": [
      "Processing:  84%|████████▍ | 274/325 [00:43<00:07,  6.44it/s]"
     ]
    },
    {
     "name": "stdout",
     "output_type": "stream",
     "text": [
      "Ошибка при отправке запроса: 401 Client Error: Unauthorized for url: https://llm.api.cloud.yandex.net/foundationModels/v1/completion\n",
      "Превышено количество неудачных запросов. Остановка процесса.\n",
      "Ошибка при отправке запроса: 401 Client Error: Unauthorized for url: https://llm.api.cloud.yandex.net/foundationModels/v1/completion\n",
      "Превышено количество неудачных запросов. Остановка процесса.\n"
     ]
    },
    {
     "name": "stderr",
     "output_type": "stream",
     "text": [
      "Processing:  85%|████████▍ | 276/325 [00:43<00:07,  6.71it/s]"
     ]
    },
    {
     "name": "stdout",
     "output_type": "stream",
     "text": [
      "Ошибка при отправке запроса: 401 Client Error: Unauthorized for url: https://llm.api.cloud.yandex.net/foundationModels/v1/completion\n",
      "Превышено количество неудачных запросов. Остановка процесса.\n",
      "Ошибка при отправке запроса: 401 Client Error: Unauthorized for url: https://llm.api.cloud.yandex.net/foundationModels/v1/completion\n",
      "Превышено количество неудачных запросов. Остановка процесса.\n"
     ]
    },
    {
     "name": "stderr",
     "output_type": "stream",
     "text": [
      "Processing:  86%|████████▌ | 278/325 [00:43<00:07,  6.59it/s]"
     ]
    },
    {
     "name": "stdout",
     "output_type": "stream",
     "text": [
      "Ошибка при отправке запроса: 401 Client Error: Unauthorized for url: https://llm.api.cloud.yandex.net/foundationModels/v1/completion\n",
      "Превышено количество неудачных запросов. Остановка процесса.\n",
      "Ошибка при отправке запроса: 401 Client Error: Unauthorized for url: https://llm.api.cloud.yandex.net/foundationModels/v1/completion\n",
      "Превышено количество неудачных запросов. Остановка процесса.\n"
     ]
    },
    {
     "name": "stderr",
     "output_type": "stream",
     "text": [
      "Processing:  86%|████████▌ | 280/325 [00:44<00:06,  6.66it/s]"
     ]
    },
    {
     "name": "stdout",
     "output_type": "stream",
     "text": [
      "Ошибка при отправке запроса: 401 Client Error: Unauthorized for url: https://llm.api.cloud.yandex.net/foundationModels/v1/completion\n",
      "Превышено количество неудачных запросов. Остановка процесса.\n",
      "Ошибка при отправке запроса: 401 Client Error: Unauthorized for url: https://llm.api.cloud.yandex.net/foundationModels/v1/completion\n",
      "Превышено количество неудачных запросов. Остановка процесса.\n"
     ]
    },
    {
     "name": "stderr",
     "output_type": "stream",
     "text": [
      "Processing:  87%|████████▋ | 282/325 [00:44<00:06,  6.41it/s]"
     ]
    },
    {
     "name": "stdout",
     "output_type": "stream",
     "text": [
      "Ошибка при отправке запроса: 401 Client Error: Unauthorized for url: https://llm.api.cloud.yandex.net/foundationModels/v1/completion\n",
      "Превышено количество неудачных запросов. Остановка процесса.\n",
      "Ошибка при отправке запроса: 401 Client Error: Unauthorized for url: https://llm.api.cloud.yandex.net/foundationModels/v1/completion\n",
      "Превышено количество неудачных запросов. Остановка процесса.\n"
     ]
    },
    {
     "name": "stderr",
     "output_type": "stream",
     "text": [
      "Processing:  87%|████████▋ | 284/325 [00:44<00:06,  6.25it/s]"
     ]
    },
    {
     "name": "stdout",
     "output_type": "stream",
     "text": [
      "Ошибка при отправке запроса: 401 Client Error: Unauthorized for url: https://llm.api.cloud.yandex.net/foundationModels/v1/completion\n",
      "Превышено количество неудачных запросов. Остановка процесса.\n",
      "Ошибка при отправке запроса: 401 Client Error: Unauthorized for url: https://llm.api.cloud.yandex.net/foundationModels/v1/completion\n",
      "Превышено количество неудачных запросов. Остановка процесса.\n"
     ]
    },
    {
     "name": "stderr",
     "output_type": "stream",
     "text": [
      "Processing:  88%|████████▊ | 286/325 [00:45<00:06,  6.16it/s]"
     ]
    },
    {
     "name": "stdout",
     "output_type": "stream",
     "text": [
      "Ошибка при отправке запроса: 401 Client Error: Unauthorized for url: https://llm.api.cloud.yandex.net/foundationModels/v1/completion\n",
      "Превышено количество неудачных запросов. Остановка процесса.\n",
      "Ошибка при отправке запроса: 401 Client Error: Unauthorized for url: https://llm.api.cloud.yandex.net/foundationModels/v1/completion\n",
      "Превышено количество неудачных запросов. Остановка процесса.\n"
     ]
    },
    {
     "name": "stderr",
     "output_type": "stream",
     "text": [
      "Processing:  89%|████████▊ | 288/325 [00:45<00:05,  6.22it/s]"
     ]
    },
    {
     "name": "stdout",
     "output_type": "stream",
     "text": [
      "Ошибка при отправке запроса: 401 Client Error: Unauthorized for url: https://llm.api.cloud.yandex.net/foundationModels/v1/completion\n",
      "Превышено количество неудачных запросов. Остановка процесса.\n",
      "Ошибка при отправке запроса: 401 Client Error: Unauthorized for url: https://llm.api.cloud.yandex.net/foundationModels/v1/completion\n",
      "Превышено количество неудачных запросов. Остановка процесса.\n"
     ]
    },
    {
     "name": "stderr",
     "output_type": "stream",
     "text": [
      "Processing:  89%|████████▉ | 290/325 [00:45<00:05,  6.14it/s]"
     ]
    },
    {
     "name": "stdout",
     "output_type": "stream",
     "text": [
      "Ошибка при отправке запроса: 401 Client Error: Unauthorized for url: https://llm.api.cloud.yandex.net/foundationModels/v1/completion\n",
      "Превышено количество неудачных запросов. Остановка процесса.\n",
      "Ошибка при отправке запроса: 401 Client Error: Unauthorized for url: https://llm.api.cloud.yandex.net/foundationModels/v1/completion\n",
      "Превышено количество неудачных запросов. Остановка процесса.\n"
     ]
    },
    {
     "name": "stderr",
     "output_type": "stream",
     "text": [
      "Processing:  90%|████████▉ | 292/325 [00:46<00:05,  6.43it/s]"
     ]
    },
    {
     "name": "stdout",
     "output_type": "stream",
     "text": [
      "Ошибка при отправке запроса: 401 Client Error: Unauthorized for url: https://llm.api.cloud.yandex.net/foundationModels/v1/completion\n",
      "Превышено количество неудачных запросов. Остановка процесса.\n",
      "Ошибка при отправке запроса: 401 Client Error: Unauthorized for url: https://llm.api.cloud.yandex.net/foundationModels/v1/completion\n",
      "Превышено количество неудачных запросов. Остановка процесса.\n"
     ]
    },
    {
     "name": "stderr",
     "output_type": "stream",
     "text": [
      "Processing:  90%|█████████ | 294/325 [00:46<00:04,  6.58it/s]"
     ]
    },
    {
     "name": "stdout",
     "output_type": "stream",
     "text": [
      "Ошибка при отправке запроса: 401 Client Error: Unauthorized for url: https://llm.api.cloud.yandex.net/foundationModels/v1/completion\n",
      "Превышено количество неудачных запросов. Остановка процесса.\n",
      "Ошибка при отправке запроса: 401 Client Error: Unauthorized for url: https://llm.api.cloud.yandex.net/foundationModels/v1/completion\n",
      "Превышено количество неудачных запросов. Остановка процесса.\n"
     ]
    },
    {
     "name": "stderr",
     "output_type": "stream",
     "text": [
      "Processing:  91%|█████████ | 296/325 [00:46<00:04,  6.41it/s]"
     ]
    },
    {
     "name": "stdout",
     "output_type": "stream",
     "text": [
      "Ошибка при отправке запроса: 401 Client Error: Unauthorized for url: https://llm.api.cloud.yandex.net/foundationModels/v1/completion\n",
      "Превышено количество неудачных запросов. Остановка процесса.\n",
      "Ошибка при отправке запроса: 401 Client Error: Unauthorized for url: https://llm.api.cloud.yandex.net/foundationModels/v1/completion\n",
      "Превышено количество неудачных запросов. Остановка процесса.\n"
     ]
    },
    {
     "name": "stderr",
     "output_type": "stream",
     "text": [
      "Processing:  92%|█████████▏| 298/325 [00:46<00:04,  6.56it/s]"
     ]
    },
    {
     "name": "stdout",
     "output_type": "stream",
     "text": [
      "Ошибка при отправке запроса: 401 Client Error: Unauthorized for url: https://llm.api.cloud.yandex.net/foundationModels/v1/completion\n",
      "Превышено количество неудачных запросов. Остановка процесса.\n"
     ]
    },
    {
     "name": "stderr",
     "output_type": "stream",
     "text": [
      "Processing:  92%|█████████▏| 299/325 [00:47<00:04,  5.42it/s]"
     ]
    },
    {
     "name": "stdout",
     "output_type": "stream",
     "text": [
      "Ошибка при отправке запроса: 401 Client Error: Unauthorized for url: https://llm.api.cloud.yandex.net/foundationModels/v1/completion\n",
      "Превышено количество неудачных запросов. Остановка процесса.\n",
      "Ошибка при отправке запроса: 401 Client Error: Unauthorized for url: https://llm.api.cloud.yandex.net/foundationModels/v1/completion\n",
      "Превышено количество неудачных запросов. Остановка процесса.\n"
     ]
    },
    {
     "name": "stderr",
     "output_type": "stream",
     "text": [
      "Processing:  93%|█████████▎| 301/325 [00:47<00:04,  5.76it/s]"
     ]
    },
    {
     "name": "stdout",
     "output_type": "stream",
     "text": [
      "Ошибка при отправке запроса: 401 Client Error: Unauthorized for url: https://llm.api.cloud.yandex.net/foundationModels/v1/completion\n",
      "Превышено количество неудачных запросов. Остановка процесса.\n",
      "Ошибка при отправке запроса: 401 Client Error: Unauthorized for url: https://llm.api.cloud.yandex.net/foundationModels/v1/completion\n",
      "Превышено количество неудачных запросов. Остановка процесса.\n"
     ]
    },
    {
     "name": "stderr",
     "output_type": "stream",
     "text": [
      "Processing:  93%|█████████▎| 303/325 [00:47<00:03,  5.88it/s]"
     ]
    },
    {
     "name": "stdout",
     "output_type": "stream",
     "text": [
      "Ошибка при отправке запроса: 401 Client Error: Unauthorized for url: https://llm.api.cloud.yandex.net/foundationModels/v1/completion\n",
      "Превышено количество неудачных запросов. Остановка процесса.\n",
      "Ошибка при отправке запроса: 401 Client Error: Unauthorized for url: https://llm.api.cloud.yandex.net/foundationModels/v1/completion\n",
      "Превышено количество неудачных запросов. Остановка процесса.\n"
     ]
    },
    {
     "name": "stderr",
     "output_type": "stream",
     "text": [
      "Processing:  94%|█████████▍| 305/325 [00:48<00:03,  6.05it/s]"
     ]
    },
    {
     "name": "stdout",
     "output_type": "stream",
     "text": [
      "Ошибка при отправке запроса: 401 Client Error: Unauthorized for url: https://llm.api.cloud.yandex.net/foundationModels/v1/completion\n",
      "Превышено количество неудачных запросов. Остановка процесса.\n",
      "Ошибка при отправке запроса: 401 Client Error: Unauthorized for url: https://llm.api.cloud.yandex.net/foundationModels/v1/completion\n",
      "Превышено количество неудачных запросов. Остановка процесса.\n"
     ]
    },
    {
     "name": "stderr",
     "output_type": "stream",
     "text": [
      "Processing:  94%|█████████▍| 307/325 [00:48<00:02,  6.37it/s]"
     ]
    },
    {
     "name": "stdout",
     "output_type": "stream",
     "text": [
      "Ошибка при отправке запроса: 401 Client Error: Unauthorized for url: https://llm.api.cloud.yandex.net/foundationModels/v1/completion\n",
      "Превышено количество неудачных запросов. Остановка процесса.\n",
      "Ошибка при отправке запроса: 401 Client Error: Unauthorized for url: https://llm.api.cloud.yandex.net/foundationModels/v1/completion\n",
      "Превышено количество неудачных запросов. Остановка процесса.\n"
     ]
    },
    {
     "name": "stderr",
     "output_type": "stream",
     "text": [
      "Processing:  95%|█████████▌| 309/325 [00:48<00:02,  6.41it/s]"
     ]
    },
    {
     "name": "stdout",
     "output_type": "stream",
     "text": [
      "Ошибка при отправке запроса: 401 Client Error: Unauthorized for url: https://llm.api.cloud.yandex.net/foundationModels/v1/completion\n",
      "Превышено количество неудачных запросов. Остановка процесса.\n",
      "Ошибка при отправке запроса: 401 Client Error: Unauthorized for url: https://llm.api.cloud.yandex.net/foundationModels/v1/completion\n",
      "Превышено количество неудачных запросов. Остановка процесса.\n"
     ]
    },
    {
     "name": "stderr",
     "output_type": "stream",
     "text": [
      "Processing:  96%|█████████▌| 311/325 [00:49<00:02,  6.17it/s]"
     ]
    },
    {
     "name": "stdout",
     "output_type": "stream",
     "text": [
      "Ошибка при отправке запроса: 401 Client Error: Unauthorized for url: https://llm.api.cloud.yandex.net/foundationModels/v1/completion\n",
      "Превышено количество неудачных запросов. Остановка процесса.\n",
      "Ошибка при отправке запроса: 401 Client Error: Unauthorized for url: https://llm.api.cloud.yandex.net/foundationModels/v1/completion\n",
      "Превышено количество неудачных запросов. Остановка процесса.\n"
     ]
    },
    {
     "name": "stderr",
     "output_type": "stream",
     "text": [
      "Processing:  96%|█████████▋| 313/325 [00:49<00:01,  6.22it/s]"
     ]
    },
    {
     "name": "stdout",
     "output_type": "stream",
     "text": [
      "Ошибка при отправке запроса: 401 Client Error: Unauthorized for url: https://llm.api.cloud.yandex.net/foundationModels/v1/completion\n",
      "Превышено количество неудачных запросов. Остановка процесса.\n",
      "Ошибка при отправке запроса: 401 Client Error: Unauthorized for url: https://llm.api.cloud.yandex.net/foundationModels/v1/completion\n",
      "Превышено количество неудачных запросов. Остановка процесса.\n"
     ]
    },
    {
     "name": "stderr",
     "output_type": "stream",
     "text": [
      "Processing:  97%|█████████▋| 315/325 [00:49<00:01,  6.43it/s]"
     ]
    },
    {
     "name": "stdout",
     "output_type": "stream",
     "text": [
      "Ошибка при отправке запроса: 401 Client Error: Unauthorized for url: https://llm.api.cloud.yandex.net/foundationModels/v1/completion\n",
      "Превышено количество неудачных запросов. Остановка процесса.\n",
      "Ошибка при отправке запроса: 401 Client Error: Unauthorized for url: https://llm.api.cloud.yandex.net/foundationModels/v1/completion\n",
      "Превышено количество неудачных запросов. Остановка процесса.\n"
     ]
    },
    {
     "name": "stderr",
     "output_type": "stream",
     "text": [
      "Processing:  98%|█████████▊| 317/325 [00:50<00:01,  6.23it/s]"
     ]
    },
    {
     "name": "stdout",
     "output_type": "stream",
     "text": [
      "Ошибка при отправке запроса: 401 Client Error: Unauthorized for url: https://llm.api.cloud.yandex.net/foundationModels/v1/completion\n",
      "Превышено количество неудачных запросов. Остановка процесса.\n",
      "Ошибка при отправке запроса: 401 Client Error: Unauthorized for url: https://llm.api.cloud.yandex.net/foundationModels/v1/completion\n",
      "Превышено количество неудачных запросов. Остановка процесса.\n"
     ]
    },
    {
     "name": "stderr",
     "output_type": "stream",
     "text": [
      "Processing:  98%|█████████▊| 319/325 [00:50<00:00,  6.16it/s]"
     ]
    },
    {
     "name": "stdout",
     "output_type": "stream",
     "text": [
      "Ошибка при отправке запроса: 401 Client Error: Unauthorized for url: https://llm.api.cloud.yandex.net/foundationModels/v1/completion\n",
      "Превышено количество неудачных запросов. Остановка процесса.\n",
      "Ошибка при отправке запроса: 401 Client Error: Unauthorized for url: https://llm.api.cloud.yandex.net/foundationModels/v1/completion\n",
      "Превышено количество неудачных запросов. Остановка процесса.\n"
     ]
    },
    {
     "name": "stderr",
     "output_type": "stream",
     "text": [
      "Processing:  99%|█████████▉| 321/325 [00:50<00:00,  6.26it/s]"
     ]
    },
    {
     "name": "stdout",
     "output_type": "stream",
     "text": [
      "Ошибка при отправке запроса: 401 Client Error: Unauthorized for url: https://llm.api.cloud.yandex.net/foundationModels/v1/completion\n",
      "Превышено количество неудачных запросов. Остановка процесса.\n",
      "Ошибка при отправке запроса: 401 Client Error: Unauthorized for url: https://llm.api.cloud.yandex.net/foundationModels/v1/completion\n",
      "Превышено количество неудачных запросов. Остановка процесса.\n"
     ]
    },
    {
     "name": "stderr",
     "output_type": "stream",
     "text": [
      "Processing:  99%|█████████▉| 323/325 [00:51<00:00,  6.43it/s]"
     ]
    },
    {
     "name": "stdout",
     "output_type": "stream",
     "text": [
      "Ошибка при отправке запроса: 401 Client Error: Unauthorized for url: https://llm.api.cloud.yandex.net/foundationModels/v1/completion\n",
      "Превышено количество неудачных запросов. Остановка процесса.\n",
      "Ошибка при отправке запроса: 401 Client Error: Unauthorized for url: https://llm.api.cloud.yandex.net/foundationModels/v1/completion\n",
      "Превышено количество неудачных запросов. Остановка процесса.\n"
     ]
    },
    {
     "name": "stderr",
     "output_type": "stream",
     "text": [
      "Processing: 100%|██████████| 325/325 [00:51<00:00,  6.33it/s]"
     ]
    },
    {
     "name": "stdout",
     "output_type": "stream",
     "text": [
      "Ошибка при отправке запроса: 401 Client Error: Unauthorized for url: https://llm.api.cloud.yandex.net/foundationModels/v1/completion\n",
      "Превышено количество неудачных запросов. Остановка процесса.\n",
      "Количество реально отправленных запросов: 0\n",
      "Количество неудачных запросов: 325\n"
     ]
    },
    {
     "name": "stderr",
     "output_type": "stream",
     "text": [
      "\n"
     ]
    },
    {
     "data": {
      "text/plain": [
       "325"
      ]
     },
     "execution_count": 16,
     "metadata": {},
     "output_type": "execute_result"
    }
   ],
   "source": [
    "predictions_needed_cnt = 1\n",
    "get_predictions(predictions_needed_cnt)\n",
    "df_solutions_test['response'].isna().sum()"
   ]
  },
  {
   "cell_type": "code",
   "execution_count": 17,
   "metadata": {},
   "outputs": [
    {
     "ename": "AssertionError",
     "evalue": "",
     "output_type": "error",
     "traceback": [
      "\u001b[0;31m---------------------------------------------------------------------------\u001b[0m",
      "\u001b[0;31mAssertionError\u001b[0m                            Traceback (most recent call last)",
      "Cell \u001b[0;32mIn[17], line 3\u001b[0m\n\u001b[1;32m      1\u001b[0m \u001b[38;5;28;01mif\u001b[39;00m df_solutions_test[\u001b[38;5;124m'\u001b[39m\u001b[38;5;124mresponse\u001b[39m\u001b[38;5;124m'\u001b[39m]\u001b[38;5;241m.\u001b[39misna()\u001b[38;5;241m.\u001b[39msum() \u001b[38;5;241m==\u001b[39m \u001b[38;5;241m0\u001b[39m:\n\u001b[1;32m      2\u001b[0m     df_solutions_test\u001b[38;5;241m.\u001b[39mto_csv(\u001b[38;5;124m'\u001b[39m\u001b[38;5;124mafter_model.csv\u001b[39m\u001b[38;5;124m'\u001b[39m)\n\u001b[0;32m----> 3\u001b[0m \u001b[38;5;28;01massert\u001b[39;00m df_solutions_test[\u001b[38;5;124m'\u001b[39m\u001b[38;5;124mresponse\u001b[39m\u001b[38;5;124m'\u001b[39m]\u001b[38;5;241m.\u001b[39misna()\u001b[38;5;241m.\u001b[39msum() \u001b[38;5;241m==\u001b[39m \u001b[38;5;241m0\u001b[39m\n",
      "\u001b[0;31mAssertionError\u001b[0m: "
     ]
    }
   ],
   "source": [
    "if df_solutions_test['response'].isna().sum() == 0:\n",
    "    df_solutions_test.to_csv('after_model.csv')\n",
    "assert df_solutions_test['response'].isna().sum() == 0"
   ]
  },
  {
   "cell_type": "code",
   "execution_count": null,
   "metadata": {},
   "outputs": [
    {
     "data": {
      "text/html": [
       "<div>\n",
       "<style scoped>\n",
       "    .dataframe tbody tr th:only-of-type {\n",
       "        vertical-align: middle;\n",
       "    }\n",
       "\n",
       "    .dataframe tbody tr th {\n",
       "        vertical-align: top;\n",
       "    }\n",
       "\n",
       "    .dataframe thead th {\n",
       "        text-align: right;\n",
       "    }\n",
       "</style>\n",
       "<table border=\"1\" class=\"dataframe\">\n",
       "  <thead>\n",
       "    <tr style=\"text-align: right;\">\n",
       "      <th></th>\n",
       "      <th>id</th>\n",
       "      <th>task_id</th>\n",
       "      <th>student_solution</th>\n",
       "      <th>author_comment</th>\n",
       "      <th>author_comment_embedding</th>\n",
       "      <th>problem_message</th>\n",
       "      <th>line_with_code</th>\n",
       "      <th>error_type</th>\n",
       "      <th>code_problem</th>\n",
       "      <th>description</th>\n",
       "      <th>author_solution</th>\n",
       "      <th>error_open_tests</th>\n",
       "      <th>error_closed_tests</th>\n",
       "      <th>test_info</th>\n",
       "      <th>system_message</th>\n",
       "      <th>request_text</th>\n",
       "      <th>response</th>\n",
       "      <th>resp_lenght</th>\n",
       "      <th>sentence_cnt</th>\n",
       "    </tr>\n",
       "  </thead>\n",
       "  <tbody>\n",
       "    <tr>\n",
       "      <th>0</th>\n",
       "      <td>0</td>\n",
       "      <td>0</td>\n",
       "      <td>discount  = float(input())\\nmoney = int(input(...</td>\n",
       "      <td>Ваш код некорректно выполняет условия задания....</td>\n",
       "      <td>-0.4242990016937256 -1.488830804824829 0.10249...</td>\n",
       "      <td></td>\n",
       "      <td></td>\n",
       "      <td></td>\n",
       "      <td>False</td>\n",
       "      <td>Реализуйте программу, которая напечатает стоим...</td>\n",
       "      <td>discount  = float(input())\\nmoney = int(input(...</td>\n",
       "      <td>False</td>\n",
       "      <td>False</td>\n",
       "      <td>[]</td>\n",
       "      <td>Вы — профессиональный программист и наставник,...</td>\n",
       "      <td>Есть задача, описанная так: $Реализуйте програ...</td>\n",
       "      <td>Ваш код некорректно выполняет условия задания....</td>\n",
       "      <td>140</td>\n",
       "      <td>3</td>\n",
       "    </tr>\n",
       "    <tr>\n",
       "      <th>1</th>\n",
       "      <td>1</td>\n",
       "      <td>0</td>\n",
       "      <td>discount  = float(input())\\nmoney = int(input(...</td>\n",
       "      <td>Ваше предсказание</td>\n",
       "      <td>NaN</td>\n",
       "      <td>unterminated string literal (detected at line ...</td>\n",
       "      <td>print(f'Реализация проекта будет стоить {money...</td>\n",
       "      <td>SyntaxError</td>\n",
       "      <td>True</td>\n",
       "      <td>Реализуйте программу, которая напечатает стоим...</td>\n",
       "      <td>discount  = float(input())\\nmoney = int(input(...</td>\n",
       "      <td>False</td>\n",
       "      <td>False</td>\n",
       "      <td>[]</td>\n",
       "      <td>Вы — профессиональный программист и наставник,...</td>\n",
       "      <td>Есть задача, описанная так: $Реализуйте програ...</td>\n",
       "      <td>None</td>\n",
       "      <td>None</td>\n",
       "      <td>None</td>\n",
       "    </tr>\n",
       "    <tr>\n",
       "      <th>2</th>\n",
       "      <td>2</td>\n",
       "      <td>0</td>\n",
       "      <td>discount  = float(input())\\nmoney = int(input(...</td>\n",
       "      <td>Ваше предсказание</td>\n",
       "      <td>NaN</td>\n",
       "      <td>unterminated string literal (detected at line ...</td>\n",
       "      <td>print(fРеализация проекта будет стоить {money}...</td>\n",
       "      <td>SyntaxError</td>\n",
       "      <td>True</td>\n",
       "      <td>Реализуйте программу, которая напечатает стоим...</td>\n",
       "      <td>discount  = float(input())\\nmoney = int(input(...</td>\n",
       "      <td>False</td>\n",
       "      <td>False</td>\n",
       "      <td>[]</td>\n",
       "      <td>Вы — профессиональный программист и наставник,...</td>\n",
       "      <td>Есть задача, описанная так: $Реализуйте програ...</td>\n",
       "      <td>None</td>\n",
       "      <td>None</td>\n",
       "      <td>None</td>\n",
       "    </tr>\n",
       "    <tr>\n",
       "      <th>3</th>\n",
       "      <td>3</td>\n",
       "      <td>0</td>\n",
       "      <td>discount  = float(input())\\nmoney = int(input(...</td>\n",
       "      <td>Ваше предсказание</td>\n",
       "      <td>NaN</td>\n",
       "      <td></td>\n",
       "      <td></td>\n",
       "      <td></td>\n",
       "      <td>False</td>\n",
       "      <td>Реализуйте программу, которая напечатает стоим...</td>\n",
       "      <td>discount  = float(input())\\nmoney = int(input(...</td>\n",
       "      <td>False</td>\n",
       "      <td>False</td>\n",
       "      <td>[]</td>\n",
       "      <td>Вы — профессиональный программист и наставник,...</td>\n",
       "      <td>Есть задача, описанная так: $Реализуйте програ...</td>\n",
       "      <td>None</td>\n",
       "      <td>None</td>\n",
       "      <td>None</td>\n",
       "    </tr>\n",
       "    <tr>\n",
       "      <th>4</th>\n",
       "      <td>4</td>\n",
       "      <td>0</td>\n",
       "      <td>discount  = float(input())\\nmoney = int(input(...</td>\n",
       "      <td>Ваше предсказание</td>\n",
       "      <td>NaN</td>\n",
       "      <td></td>\n",
       "      <td></td>\n",
       "      <td></td>\n",
       "      <td>False</td>\n",
       "      <td>Реализуйте программу, которая напечатает стоим...</td>\n",
       "      <td>discount  = float(input())\\nmoney = int(input(...</td>\n",
       "      <td>False</td>\n",
       "      <td>False</td>\n",
       "      <td>[]</td>\n",
       "      <td>Вы — профессиональный программист и наставник,...</td>\n",
       "      <td>Есть задача, описанная так: $Реализуйте програ...</td>\n",
       "      <td>None</td>\n",
       "      <td>None</td>\n",
       "      <td>None</td>\n",
       "    </tr>\n",
       "    <tr>\n",
       "      <th>5</th>\n",
       "      <td>5</td>\n",
       "      <td>0</td>\n",
       "      <td>discount  = float(input())\\nmoney = int(input(...</td>\n",
       "      <td>Ваше предсказание</td>\n",
       "      <td>NaN</td>\n",
       "      <td>unterminated string literal (detected at line ...</td>\n",
       "      <td>print(f\"Реализация проекта будет стоить {money...</td>\n",
       "      <td>SyntaxError</td>\n",
       "      <td>True</td>\n",
       "      <td>Реализуйте программу, которая напечатает стоим...</td>\n",
       "      <td>discount  = float(input())\\nmoney = int(input(...</td>\n",
       "      <td>False</td>\n",
       "      <td>False</td>\n",
       "      <td>[]</td>\n",
       "      <td>Вы — профессиональный программист и наставник,...</td>\n",
       "      <td>Есть задача, описанная так: $Реализуйте програ...</td>\n",
       "      <td>None</td>\n",
       "      <td>None</td>\n",
       "      <td>None</td>\n",
       "    </tr>\n",
       "    <tr>\n",
       "      <th>6</th>\n",
       "      <td>6</td>\n",
       "      <td>0</td>\n",
       "      <td>discount  = float(input())\\nmoney = int(input(...</td>\n",
       "      <td>Ваше предсказание</td>\n",
       "      <td>NaN</td>\n",
       "      <td></td>\n",
       "      <td></td>\n",
       "      <td></td>\n",
       "      <td>False</td>\n",
       "      <td>Реализуйте программу, которая напечатает стоим...</td>\n",
       "      <td>discount  = float(input())\\nmoney = int(input(...</td>\n",
       "      <td>False</td>\n",
       "      <td>False</td>\n",
       "      <td>[]</td>\n",
       "      <td>Вы — профессиональный программист и наставник,...</td>\n",
       "      <td>Есть задача, описанная так: $Реализуйте програ...</td>\n",
       "      <td>None</td>\n",
       "      <td>None</td>\n",
       "      <td>None</td>\n",
       "    </tr>\n",
       "    <tr>\n",
       "      <th>7</th>\n",
       "      <td>7</td>\n",
       "      <td>0</td>\n",
       "      <td>discount  = float(input())\\nmoney = int(input(...</td>\n",
       "      <td>Ваше предсказание</td>\n",
       "      <td>NaN</td>\n",
       "      <td>unexpected indent (&lt;unknown&gt;, line 6)</td>\n",
       "      <td>print(f'Реализация проекта будет стоить {m...</td>\n",
       "      <td>IndentationError</td>\n",
       "      <td>True</td>\n",
       "      <td>Реализуйте программу, которая напечатает стоим...</td>\n",
       "      <td>discount  = float(input())\\nmoney = int(input(...</td>\n",
       "      <td>False</td>\n",
       "      <td>False</td>\n",
       "      <td>[]</td>\n",
       "      <td>Вы — профессиональный программист и наставник,...</td>\n",
       "      <td>Есть задача, описанная так: $Реализуйте програ...</td>\n",
       "      <td>None</td>\n",
       "      <td>None</td>\n",
       "      <td>None</td>\n",
       "    </tr>\n",
       "    <tr>\n",
       "      <th>8</th>\n",
       "      <td>8</td>\n",
       "      <td>0</td>\n",
       "      <td>discount  = float(input())\\nmoney = int(input(...</td>\n",
       "      <td>Ваше предсказание</td>\n",
       "      <td>NaN</td>\n",
       "      <td>'(' was never closed (&lt;unknown&gt;, line 6)</td>\n",
       "      <td>print(f'Реализация проекта будет стоить {money...</td>\n",
       "      <td>SyntaxError</td>\n",
       "      <td>True</td>\n",
       "      <td>Реализуйте программу, которая напечатает стоим...</td>\n",
       "      <td>discount  = float(input())\\nmoney = int(input(...</td>\n",
       "      <td>False</td>\n",
       "      <td>False</td>\n",
       "      <td>[]</td>\n",
       "      <td>Вы — профессиональный программист и наставник,...</td>\n",
       "      <td>Есть задача, описанная так: $Реализуйте програ...</td>\n",
       "      <td>None</td>\n",
       "      <td>None</td>\n",
       "      <td>None</td>\n",
       "    </tr>\n",
       "    <tr>\n",
       "      <th>9</th>\n",
       "      <td>9</td>\n",
       "      <td>0</td>\n",
       "      <td>discount  = float(input())\\nmoney = int(input(...</td>\n",
       "      <td>Ваше предсказание</td>\n",
       "      <td>NaN</td>\n",
       "      <td></td>\n",
       "      <td></td>\n",
       "      <td></td>\n",
       "      <td>False</td>\n",
       "      <td>Реализуйте программу, которая напечатает стоим...</td>\n",
       "      <td>discount  = float(input())\\nmoney = int(input(...</td>\n",
       "      <td>False</td>\n",
       "      <td>False</td>\n",
       "      <td>[]</td>\n",
       "      <td>Вы — профессиональный программист и наставник,...</td>\n",
       "      <td>Есть задача, описанная так: $Реализуйте програ...</td>\n",
       "      <td>None</td>\n",
       "      <td>None</td>\n",
       "      <td>None</td>\n",
       "    </tr>\n",
       "  </tbody>\n",
       "</table>\n",
       "</div>"
      ],
      "text/plain": [
       "   id  task_id                                   student_solution  \\\n",
       "0   0        0  discount  = float(input())\\nmoney = int(input(...   \n",
       "1   1        0  discount  = float(input())\\nmoney = int(input(...   \n",
       "2   2        0  discount  = float(input())\\nmoney = int(input(...   \n",
       "3   3        0  discount  = float(input())\\nmoney = int(input(...   \n",
       "4   4        0  discount  = float(input())\\nmoney = int(input(...   \n",
       "5   5        0  discount  = float(input())\\nmoney = int(input(...   \n",
       "6   6        0  discount  = float(input())\\nmoney = int(input(...   \n",
       "7   7        0  discount  = float(input())\\nmoney = int(input(...   \n",
       "8   8        0  discount  = float(input())\\nmoney = int(input(...   \n",
       "9   9        0  discount  = float(input())\\nmoney = int(input(...   \n",
       "\n",
       "                                      author_comment  \\\n",
       "0  Ваш код некорректно выполняет условия задания....   \n",
       "1                                  Ваше предсказание   \n",
       "2                                  Ваше предсказание   \n",
       "3                                  Ваше предсказание   \n",
       "4                                  Ваше предсказание   \n",
       "5                                  Ваше предсказание   \n",
       "6                                  Ваше предсказание   \n",
       "7                                  Ваше предсказание   \n",
       "8                                  Ваше предсказание   \n",
       "9                                  Ваше предсказание   \n",
       "\n",
       "                            author_comment_embedding  \\\n",
       "0  -0.4242990016937256 -1.488830804824829 0.10249...   \n",
       "1                                                NaN   \n",
       "2                                                NaN   \n",
       "3                                                NaN   \n",
       "4                                                NaN   \n",
       "5                                                NaN   \n",
       "6                                                NaN   \n",
       "7                                                NaN   \n",
       "8                                                NaN   \n",
       "9                                                NaN   \n",
       "\n",
       "                                     problem_message  \\\n",
       "0                                                      \n",
       "1  unterminated string literal (detected at line ...   \n",
       "2  unterminated string literal (detected at line ...   \n",
       "3                                                      \n",
       "4                                                      \n",
       "5  unterminated string literal (detected at line ...   \n",
       "6                                                      \n",
       "7              unexpected indent (<unknown>, line 6)   \n",
       "8           '(' was never closed (<unknown>, line 6)   \n",
       "9                                                      \n",
       "\n",
       "                                      line_with_code        error_type  \\\n",
       "0                                                                        \n",
       "1  print(f'Реализация проекта будет стоить {money...       SyntaxError   \n",
       "2  print(fРеализация проекта будет стоить {money}...       SyntaxError   \n",
       "3                                                                        \n",
       "4                                                                        \n",
       "5  print(f\"Реализация проекта будет стоить {money...       SyntaxError   \n",
       "6                                                                        \n",
       "7      print(f'Реализация проекта будет стоить {m...  IndentationError   \n",
       "8  print(f'Реализация проекта будет стоить {money...       SyntaxError   \n",
       "9                                                                        \n",
       "\n",
       "   code_problem                                        description  \\\n",
       "0         False  Реализуйте программу, которая напечатает стоим...   \n",
       "1          True  Реализуйте программу, которая напечатает стоим...   \n",
       "2          True  Реализуйте программу, которая напечатает стоим...   \n",
       "3         False  Реализуйте программу, которая напечатает стоим...   \n",
       "4         False  Реализуйте программу, которая напечатает стоим...   \n",
       "5          True  Реализуйте программу, которая напечатает стоим...   \n",
       "6         False  Реализуйте программу, которая напечатает стоим...   \n",
       "7          True  Реализуйте программу, которая напечатает стоим...   \n",
       "8          True  Реализуйте программу, которая напечатает стоим...   \n",
       "9         False  Реализуйте программу, которая напечатает стоим...   \n",
       "\n",
       "                                     author_solution  error_open_tests  \\\n",
       "0  discount  = float(input())\\nmoney = int(input(...             False   \n",
       "1  discount  = float(input())\\nmoney = int(input(...             False   \n",
       "2  discount  = float(input())\\nmoney = int(input(...             False   \n",
       "3  discount  = float(input())\\nmoney = int(input(...             False   \n",
       "4  discount  = float(input())\\nmoney = int(input(...             False   \n",
       "5  discount  = float(input())\\nmoney = int(input(...             False   \n",
       "6  discount  = float(input())\\nmoney = int(input(...             False   \n",
       "7  discount  = float(input())\\nmoney = int(input(...             False   \n",
       "8  discount  = float(input())\\nmoney = int(input(...             False   \n",
       "9  discount  = float(input())\\nmoney = int(input(...             False   \n",
       "\n",
       "   error_closed_tests test_info  \\\n",
       "0               False        []   \n",
       "1               False        []   \n",
       "2               False        []   \n",
       "3               False        []   \n",
       "4               False        []   \n",
       "5               False        []   \n",
       "6               False        []   \n",
       "7               False        []   \n",
       "8               False        []   \n",
       "9               False        []   \n",
       "\n",
       "                                      system_message  \\\n",
       "0  Вы — профессиональный программист и наставник,...   \n",
       "1  Вы — профессиональный программист и наставник,...   \n",
       "2  Вы — профессиональный программист и наставник,...   \n",
       "3  Вы — профессиональный программист и наставник,...   \n",
       "4  Вы — профессиональный программист и наставник,...   \n",
       "5  Вы — профессиональный программист и наставник,...   \n",
       "6  Вы — профессиональный программист и наставник,...   \n",
       "7  Вы — профессиональный программист и наставник,...   \n",
       "8  Вы — профессиональный программист и наставник,...   \n",
       "9  Вы — профессиональный программист и наставник,...   \n",
       "\n",
       "                                        request_text  \\\n",
       "0  Есть задача, описанная так: $Реализуйте програ...   \n",
       "1  Есть задача, описанная так: $Реализуйте програ...   \n",
       "2  Есть задача, описанная так: $Реализуйте програ...   \n",
       "3  Есть задача, описанная так: $Реализуйте програ...   \n",
       "4  Есть задача, описанная так: $Реализуйте програ...   \n",
       "5  Есть задача, описанная так: $Реализуйте програ...   \n",
       "6  Есть задача, описанная так: $Реализуйте програ...   \n",
       "7  Есть задача, описанная так: $Реализуйте програ...   \n",
       "8  Есть задача, описанная так: $Реализуйте програ...   \n",
       "9  Есть задача, описанная так: $Реализуйте програ...   \n",
       "\n",
       "                                            response resp_lenght sentence_cnt  \n",
       "0  Ваш код некорректно выполняет условия задания....         140            3  \n",
       "1                                               None        None         None  \n",
       "2                                               None        None         None  \n",
       "3                                               None        None         None  \n",
       "4                                               None        None         None  \n",
       "5                                               None        None         None  \n",
       "6                                               None        None         None  \n",
       "7                                               None        None         None  \n",
       "8                                               None        None         None  \n",
       "9                                               None        None         None  "
      ]
     },
     "execution_count": 62,
     "metadata": {},
     "output_type": "execute_result"
    }
   ],
   "source": [
    "df_solutions_test.head(10)"
   ]
  },
  {
   "cell_type": "code",
   "execution_count": null,
   "metadata": {},
   "outputs": [],
   "source": [
    "# Функция для логирования\n",
    "def log_action(message):\n",
    "    print(f\"LOG: {message}\")\n",
    "\n",
    "# Проходим по строкам обоих датафреймов\n",
    "for i in range(len(df_solutions_test)):\n",
    "    error_open_tests = df_solutions_test.loc[i, 'error_open_tests']\n",
    "    error_closed_tests = df_solutions_test.loc[i, 'error_closed_tests']\n",
    "    \n",
    "    if error_open_tests and error_closed_tests:\n",
    "        df_solutions_test.at[i, 'author_comment'] = \"Ошибка в скрытых и открытых тестах.\\n\\n \" + df_solutions_test.at[i, 'response']\n",
    "        log_action(f\"Row {i}: Added 'Ошибка в скрытых и открытых тестах.' to response\")\n",
    "    elif error_open_tests:\n",
    "        df_solutions_test.at[i, 'author_comment'] = \"Ошибка в открытых тестах.\\n\\n \" + df_solutions_test.at[i, 'response']\n",
    "        log_action(f\"Row {i}: Added 'Ошибка в открытых тестах.' to response\")\n",
    "    elif error_closed_tests:\n",
    "        df_solutions_test.at[i, 'author_comment'] = \"Ошибка в скрытых тестах.\\n\\n \" + df_solutions_test.at[i, 'response']\n",
    "        log_action(f\"Row {i}: Added 'Ошибка в скрытых тестах.' to response\")\n"
   ]
  },
  {
   "cell_type": "code",
   "execution_count": 66,
   "metadata": {},
   "outputs": [],
   "source": [
    "df_solutions_test = pd.read_csv('after_model.csv')"
   ]
  },
  {
   "cell_type": "code",
   "execution_count": 67,
   "metadata": {},
   "outputs": [
    {
     "name": "stderr",
     "output_type": "stream",
     "text": [
      "  0%|          | 0/325 [00:00<?, ?it/s]"
     ]
    },
    {
     "name": "stderr",
     "output_type": "stream",
     "text": [
      "100%|██████████| 325/325 [00:35<00:00,  9.11it/s]\n"
     ]
    }
   ],
   "source": [
    "for index, row in tqdm(df_solutions_test.iterrows(), total=df_solutions_test.shape[0]):\n",
    "    author_comment = row['author_comment'] \n",
    "    author_comment_embedding = embedding2string(get_sentence_embedding(author_comment)) \n",
    "    df_solutions_test.at[index, 'author_comment_embedding'] = author_comment_embedding"
   ]
  },
  {
   "cell_type": "code",
   "execution_count": 68,
   "metadata": {},
   "outputs": [
    {
     "name": "stderr",
     "output_type": "stream",
     "text": [
      "/tmp/ipykernel_38081/488833951.py:5: SettingWithCopyWarning: \n",
      "A value is trying to be set on a copy of a slice from a DataFrame\n",
      "\n",
      "See the caveats in the documentation: https://pandas.pydata.org/pandas-docs/stable/user_guide/indexing.html#returning-a-view-versus-a-copy\n",
      "  selected_df.rename(columns={'id': 'solution_id'}, inplace=True)\n"
     ]
    }
   ],
   "source": [
    "# Выбираем нужные колонки\n",
    "selected_df = df_solutions_test[['id', 'author_comment', 'author_comment_embedding']]\n",
    "\n",
    "# Переименовываем колонку 'id' в 'solution_id'\n",
    "selected_df.rename(columns={'id': 'solution_id'}, inplace=True)\n",
    "\n",
    "# Сохраняем результат в CSV файл\n",
    "selected_df.to_csv('../data/solutions/submit_finetunedYA-m0.4-DEEP-v3.csv', index=False)"
   ]
  },
  {
   "cell_type": "code",
   "execution_count": 69,
   "metadata": {},
   "outputs": [
    {
     "data": {
      "text/plain": [
       "True"
      ]
     },
     "execution_count": 69,
     "metadata": {},
     "output_type": "execute_result"
    }
   ],
   "source": [
    "TEST_SIZE = 325\n",
    "EMBEDDING_SIZE = 768\n",
    "\n",
    "\n",
    "def _check_ids_correctness(submit_df: pd.DataFrame, submit_example_df: pd.DataFrame) -> bool:\n",
    "    not_presented = set(submit_example_df[\"solution_id\"]) - set(submit_df[\"solution_id\"])\n",
    "    not_needed = set(submit_df[\"solution_id\"]) - set(submit_example_df[\"solution_id\"])\n",
    "\n",
    "    not_presented = list(not_presented)\n",
    "    not_presented.sort()\n",
    "    not_needed = list(not_needed)\n",
    "    not_needed.sort()\n",
    "\n",
    "    error_message = \"Submit is incorrect.\"\n",
    "    if len(not_presented) + len(not_needed) > 0:\n",
    "        if len(not_presented) > 0:\n",
    "            error_message += f\" Not presented solution_id: {not_presented}.\"\n",
    "        if len(not_needed) > 0:\n",
    "            error_message += f\" Not needed solution_id: {not_needed}.\"\n",
    "        raise ValueError(error_message)\n",
    "    return True\n",
    "\n",
    "\n",
    "def _check_rows_size_correctness(submit_df: pd.DataFrame) -> bool:\n",
    "    incorrect_rows = []\n",
    "    for idx in range(TEST_SIZE):\n",
    "        if len(string2embedding(submit_df[\"author_comment_embedding\"].iloc[idx])) != EMBEDDING_SIZE:\n",
    "            incorrect_rows.append(idx)\n",
    "    if len(incorrect_rows) > 0:\n",
    "        raise ValueError(f\"Submit has incorrect rows: {incorrect_rows}. (incorrect size of embedding)\")\n",
    "    return True\n",
    "\n",
    "\n",
    "def check_submit_correctness(submit_path: str, submit_example_path: str) -> bool:\n",
    "    if not submit_path.endswith(\".csv\"):\n",
    "        raise ValueError(f\"{submit_path} is not a .csv file.\")\n",
    "\n",
    "    submit_df = pd.read_csv(submit_path)\n",
    "    submit_example_df = pd.read_csv(submit_example_path)\n",
    "\n",
    "    _check_ids_correctness(submit_df, submit_example_df)\n",
    "    _check_rows_size_correctness(submit_df)\n",
    "\n",
    "    return True\n",
    "\n",
    "check_submit_correctness(submit_path=\"../data/solutions/submit_finetunedYA-m0.4-DEEP-v3.csv\", submit_example_path=\"../data/for_teams/submit_example.csv\")  "
   ]
  },
  {
   "cell_type": "code",
   "execution_count": 70,
   "metadata": {},
   "outputs": [],
   "source": [
    "model_name = \"DeepPavlov/rubert-base-cased-sentence\"\n",
    "tokenizer = BertTokenizer.from_pretrained(model_name)\n",
    "model = BertModel.from_pretrained(model_name)\n",
    "\n",
    "#information that we have parsed form linter info\n",
    "confirmed_errors = pd.read_excel('../data/new_data/data_with_tests_info_test18_10.xlsx')\n",
    "current_solution = pd.read_csv(\"../data/solutions/submit_finetunedYA-m0.4-DEEP-v3.csv\")\n",
    "current_solution['result_linter_ru'] = confirmed_errors['result_linter_ru']\n",
    "current_solution['author_comment'] = current_solution.apply(lambda x: x['result_linter_ru'] if not pd.isna(x['result_linter_ru']) else x['author_comment'], axis = 1)\n",
    "\n",
    "def get_sentence_embedding(sentence: str) -> torch.Tensor:\n",
    "    inputs = tokenizer(sentence, return_tensors=\"pt\", truncation=True, padding=True, max_length=128)\n",
    "    with torch.no_grad():\n",
    "        outputs = model(**inputs)\n",
    "        embedding = outputs.last_hidden_state[:, 0, :].squeeze()\n",
    "    return embedding\n",
    "\n",
    "def embedding2string(embedding: torch.Tensor) -> str:\n",
    "    return \" \".join([str(i) for i in embedding.tolist()])\n",
    "\n",
    "current_solution['author_comment_embedding'] = current_solution['author_comment'].apply(lambda x: embedding2string(get_sentence_embedding(x)))\n",
    "\n",
    "current_solution[[\"solution_id\", \"author_comment\", \"author_comment_embedding\"]].to_excel('submit_finetunedYA-m0.4-DEEP-v3_2.xlsx')\n",
    "current_solution[[\"solution_id\", \"author_comment\", \"author_comment_embedding\"]].to_csv(\"../data/solutions/submit_finetunedYA-m0.4-DEEP-v3_2.csv\", index=False)\n",
    "\n",
    "print(\"Final solution is ready\")"
   ]
  }
 ],
 "metadata": {
  "kernelspec": {
   "display_name": "Python 3",
   "language": "python",
   "name": "python3"
  },
  "language_info": {
   "codemirror_mode": {
    "name": "ipython",
    "version": 3
   },
   "file_extension": ".py",
   "mimetype": "text/x-python",
   "name": "python",
   "nbconvert_exporter": "python",
   "pygments_lexer": "ipython3",
   "version": "3.10.12"
  }
 },
 "nbformat": 4,
 "nbformat_minor": 2
}
