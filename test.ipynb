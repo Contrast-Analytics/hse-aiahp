{
 "cells": [
  {
   "cell_type": "code",
   "execution_count": 5,
   "metadata": {},
   "outputs": [],
   "source": [
    "from app.utils.metric import cosine_similarity\n",
    "from app.utils.submit import string2embedding, get_sentence_embedding\n",
    "\n"
   ]
  },
  {
   "cell_type": "code",
   "execution_count": 1,
   "metadata": {},
   "outputs": [],
   "source": [
    "import pandas as pd\n",
    "solutions_train = pd.read_excel(\"data/for_teams/train/solutions.xlsx\")"
   ]
  },
  {
   "cell_type": "code",
   "execution_count": 3,
   "metadata": {},
   "outputs": [
    {
     "data": {
      "text/plain": [
       "0      Ошибка в открытых тестах. \\n\\nОбратите внимани...\n",
       "1      Ошибка в открытых тестах. \\n\\nОбратите внимани...\n",
       "2      Ошибка в открытых тестах. \\n\\nОбратите внимани...\n",
       "3      Ошибка в открытых тестах. \\n\\nОбратите внимани...\n",
       "4           Вы забыли поставить двоеточие после условия.\n",
       "                             ...                        \n",
       "342    Ошибка в открытых и скрытых тестах. \\n\\nВаш ко...\n",
       "343    Ошибка в открытых и скрытых тестах. \\n\\nВаш ко...\n",
       "344    Ошибка в открытых и скрытых тестах. \\n\\nВаш ко...\n",
       "345    Ошибка в открытых и скрытых тестах. \\n\\nВаш ко...\n",
       "346              Некорректная табуляция функции print().\n",
       "Name: author_comment, Length: 347, dtype: object"
      ]
     },
     "execution_count": 3,
     "metadata": {},
     "output_type": "execute_result"
    }
   ],
   "source": [
    "solutions_train[\"author_comment\"]"
   ]
  },
  {
   "cell_type": "code",
   "execution_count": null,
   "metadata": {},
   "outputs": [],
   "source": [
    "# embedding = embedding2string(get_sentence_embedding(text))"
   ]
  },
  {
   "cell_type": "code",
   "execution_count": null,
   "metadata": {},
   "outputs": [],
   "source": [
    "cos_sim_value = cosine_similarity(pred_value.unsqueeze(0), gt_value.unsqueeze(0))"
   ]
  },
  {
   "cell_type": "code",
   "execution_count": null,
   "metadata": {},
   "outputs": [],
   "source": []
  }
 ],
 "metadata": {
  "kernelspec": {
   "display_name": ".venv",
   "language": "python",
   "name": "python3"
  },
  "language_info": {
   "codemirror_mode": {
    "name": "ipython",
    "version": 3
   },
   "file_extension": ".py",
   "mimetype": "text/x-python",
   "name": "python",
   "nbconvert_exporter": "python",
   "pygments_lexer": "ipython3",
   "version": "3.12.3"
  }
 },
 "nbformat": 4,
 "nbformat_minor": 2
}
